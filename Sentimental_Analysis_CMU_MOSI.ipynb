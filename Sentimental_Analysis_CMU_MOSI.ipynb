{
  "nbformat": 4,
  "nbformat_minor": 0,
  "metadata": {
    "colab": {
      "name": "Sentimental_Analysis_CMU_MOSI.ipynb",
      "provenance": [],
      "collapsed_sections": [],
      "authorship_tag": "ABX9TyMo0H5Yq5CZaqu4YlNiQh1R",
      "include_colab_link": true
    },
    "kernelspec": {
      "name": "python3",
      "display_name": "Python 3"
    },
    "language_info": {
      "name": "python"
    },
    "accelerator": "GPU",
    "gpuClass": "standard"
  },
  "cells": [
    {
      "cell_type": "markdown",
      "metadata": {
        "id": "view-in-github",
        "colab_type": "text"
      },
      "source": [
        "<a href=\"https://colab.research.google.com/github/ayushabhinav/SentimentalAnalysis/blob/main/Sentimental_Analysis_CMU_MOSI.ipynb\" target=\"_parent\"><img src=\"https://colab.research.google.com/assets/colab-badge.svg\" alt=\"Open In Colab\"/></a>"
      ]
    },
    {
      "cell_type": "code",
      "source": [
        "# import libraries\n",
        "import os\n",
        "import requests\n",
        "import warnings\n",
        "import pickle as pkl\n",
        "import matplotlib.pyplot as plt\n",
        "import seaborn as sns"
      ],
      "metadata": {
        "id": "S8aePNaLVj6M"
      },
      "execution_count": 1,
      "outputs": []
    },
    {
      "cell_type": "code",
      "source": [
        "pip install tensorflow-addons"
      ],
      "metadata": {
        "colab": {
          "base_uri": "https://localhost:8080/"
        },
        "id": "5RR6zJqlItuN",
        "outputId": "164962e6-5eb7-4099-a987-79b645f1d17f"
      },
      "execution_count": 2,
      "outputs": [
        {
          "output_type": "stream",
          "name": "stdout",
          "text": [
            "Looking in indexes: https://pypi.org/simple, https://us-python.pkg.dev/colab-wheels/public/simple/\n",
            "Collecting tensorflow-addons\n",
            "  Downloading tensorflow_addons-0.17.1-cp37-cp37m-manylinux_2_17_x86_64.manylinux2014_x86_64.whl (1.1 MB)\n",
            "\u001b[K     |████████████████████████████████| 1.1 MB 31.2 MB/s \n",
            "\u001b[?25hRequirement already satisfied: typeguard>=2.7 in /usr/local/lib/python3.7/dist-packages (from tensorflow-addons) (2.7.1)\n",
            "Requirement already satisfied: packaging in /usr/local/lib/python3.7/dist-packages (from tensorflow-addons) (21.3)\n",
            "Requirement already satisfied: pyparsing!=3.0.5,>=2.0.2 in /usr/local/lib/python3.7/dist-packages (from packaging->tensorflow-addons) (3.0.9)\n",
            "Installing collected packages: tensorflow-addons\n",
            "Successfully installed tensorflow-addons-0.17.1\n"
          ]
        }
      ]
    },
    {
      "cell_type": "code",
      "source": [
        "import numpy as np\n",
        "import pandas as pd\n",
        "\n",
        "from sklearn import metrics\n",
        "\n",
        "import tensorflow_addons as tfa\n",
        "\n",
        "import tensorflow as tf\n",
        "import tensorflow.keras as keras\n",
        "from tensorflow.keras.layers import Input, LSTM, Dense, Masking\n",
        "from tensorflow.keras.models import Model\n",
        "from tensorflow.keras.utils import plot_model"
      ],
      "metadata": {
        "id": "XJtGloIUDCqJ"
      },
      "execution_count": 3,
      "outputs": []
    },
    {
      "cell_type": "code",
      "source": [
        "warnings.filterwarnings('ignore')\n",
        "tf.random.set_seed(24)"
      ],
      "metadata": {
        "id": "3CpZOhrTzKA1"
      },
      "execution_count": 4,
      "outputs": []
    },
    {
      "cell_type": "code",
      "source": [
        "# Download CMU_MOSI Data file\n",
        "data_file = 'mosi_data_50.pkl'\n",
        "\n",
        "if not os.path.exists(data_file):\n",
        "  res = requests.get('http://immortal.multicomp.cs.cmu.edu/raw_datasets/processed_data/cmu-mosi/seq_length_50/mosi_data.pkl')\n",
        "  with open(data_file , 'wb') as outfile:\n",
        "    outfile.write(res.content)\n",
        "\n",
        "# !wget http://immortal.multicomp.cs.cmu.edu/raw_datasets/processed_data/cmu-mosi/seq_length_50/mosi_data.pkl"
      ],
      "metadata": {
        "id": "PDTmeGkjQICW"
      },
      "execution_count": 5,
      "outputs": []
    },
    {
      "cell_type": "code",
      "source": [
        "# !mv mosi_data.pkl mosi_data_50.pkl\n",
        "!ls -lrt"
      ],
      "metadata": {
        "colab": {
          "base_uri": "https://localhost:8080/"
        },
        "id": "eX086U24VfkG",
        "outputId": "219d7afd-0090-4e98-c5ed-50f0203ef1df"
      },
      "execution_count": 6,
      "outputs": [
        {
          "output_type": "stream",
          "name": "stdout",
          "text": [
            "total 150440\n",
            "drwxr-xr-x 1 root root      4096 Aug 15 13:44 sample_data\n",
            "-rw-r--r-- 1 root root 154041300 Aug 25 10:19 mosi_data_50.pkl\n"
          ]
        }
      ]
    },
    {
      "cell_type": "code",
      "source": [
        "# Load data from pickled file\n",
        "data = None\n",
        "with open(data_file, 'rb') as infile:\n",
        "  data = pkl.load(infile)"
      ],
      "metadata": {
        "id": "Q-rjrZuxV2Zs"
      },
      "execution_count": 7,
      "outputs": []
    },
    {
      "cell_type": "code",
      "source": [
        "data.keys()"
      ],
      "metadata": {
        "colab": {
          "base_uri": "https://localhost:8080/"
        },
        "id": "xAVnpsjaWhrZ",
        "outputId": "da39df56-eb03-4a37-c83c-85c9ea06c5e6"
      },
      "execution_count": 8,
      "outputs": [
        {
          "output_type": "execute_result",
          "data": {
            "text/plain": [
              "dict_keys(['valid', 'test', 'train'])"
            ]
          },
          "metadata": {},
          "execution_count": 8
        }
      ]
    },
    {
      "cell_type": "code",
      "source": [
        "# Seperate data in train, test and validation sets\n",
        "data_train = data['train']\n",
        "data_test = data['test']\n",
        "data_valid = data['valid']"
      ],
      "metadata": {
        "id": "jLdPPnUPXC7G"
      },
      "execution_count": 9,
      "outputs": []
    },
    {
      "cell_type": "code",
      "source": [
        "data_test_label_actual = np.squeeze(data_test['labels'] > 0.5)"
      ],
      "metadata": {
        "id": "12h9lHWoo8S6"
      },
      "execution_count": 114,
      "outputs": []
    },
    {
      "cell_type": "code",
      "source": [
        "data_train.keys()"
      ],
      "metadata": {
        "colab": {
          "base_uri": "https://localhost:8080/"
        },
        "id": "GmW7AQWUXXqm",
        "outputId": "1c4c3459-b035-4db7-8e6a-2f083f8f44b0"
      },
      "execution_count": 10,
      "outputs": [
        {
          "output_type": "execute_result",
          "data": {
            "text/plain": [
              "dict_keys(['vision', 'labels', 'text', 'audio', 'id'])"
            ]
          },
          "metadata": {},
          "execution_count": 10
        }
      ]
    },
    {
      "cell_type": "code",
      "source": [
        "# labels are here for the regesssion purpose\n",
        "data_train['labels']"
      ],
      "metadata": {
        "colab": {
          "base_uri": "https://localhost:8080/"
        },
        "id": "Bo6iJ1z3aBek",
        "outputId": "1e3f7a55-afb0-4626-e27c-3fea46cd5da0"
      },
      "execution_count": 11,
      "outputs": [
        {
          "output_type": "execute_result",
          "data": {
            "text/plain": [
              "array([[[-0.5]],\n",
              "\n",
              "       [[-1.2]],\n",
              "\n",
              "       [[ 1.8]],\n",
              "\n",
              "       ...,\n",
              "\n",
              "       [[ 0.6]],\n",
              "\n",
              "       [[-0.4]],\n",
              "\n",
              "       [[ 2. ]]])"
            ]
          },
          "metadata": {},
          "execution_count": 11
        }
      ]
    },
    {
      "cell_type": "code",
      "source": [
        "# pd.DataFrame({'id':data_valid['id']})\n",
        "valid_data_df = pd.DataFrame({\n",
        "                    'f_name': data_valid['id'][:,0],\n",
        "                    's_time': data_valid['id'][:,1],\n",
        "                    'e_time': data_valid['id'][:,2],\n",
        "                    'true_labels' : np.squeeze(data_valid['labels'][:,0] >= 0)\n",
        "                })\n",
        "valid_data_df"
      ],
      "metadata": {
        "colab": {
          "base_uri": "https://localhost:8080/",
          "height": 424
        },
        "id": "OkGzSVQ3vx8u",
        "outputId": "0692ed3d-89e3-4783-b0a7-067f9e7f4ed5"
      },
      "execution_count": 12,
      "outputs": [
        {
          "output_type": "execute_result",
          "data": {
            "text/plain": [
              "                f_name          s_time          e_time  true_labels\n",
              "0    b'WKA5OygbEKI_20'  b'131.7929705'  b'133.6886621'         True\n",
              "1    b'WKA5OygbEKI_21'  b'133.6886621'   b'138.976644'         True\n",
              "2    b'WKA5OygbEKI_22'   b'170.544898'   b'172.729932'         True\n",
              "3     b'WKA5OygbEKI_1'  b'4.432426304'  b'8.852380952'         True\n",
              "4     b'WKA5OygbEKI_3'  b'45.95804989'  b'49.69954649'         True\n",
              "..                 ...             ...             ...          ...\n",
              "224   b'c5xsKMxpXnc_4'  b'133.2097506'  b'135.8836735'         True\n",
              "225   b'c5xsKMxpXnc_7'  b'149.3829932'  b'152.4360544'        False\n",
              "226   b'c5xsKMxpXnc_6'  b'146.7290249'  b'149.3829932'        False\n",
              "227   b'c5xsKMxpXnc_9'  b'156.6764172'  b'159.0609977'        False\n",
              "228   b'c5xsKMxpXnc_8'  b'154.1122449'  b'156.6764172'        False\n",
              "\n",
              "[229 rows x 4 columns]"
            ],
            "text/html": [
              "\n",
              "  <div id=\"df-e022c586-9015-461c-8595-e2508ad8920a\">\n",
              "    <div class=\"colab-df-container\">\n",
              "      <div>\n",
              "<style scoped>\n",
              "    .dataframe tbody tr th:only-of-type {\n",
              "        vertical-align: middle;\n",
              "    }\n",
              "\n",
              "    .dataframe tbody tr th {\n",
              "        vertical-align: top;\n",
              "    }\n",
              "\n",
              "    .dataframe thead th {\n",
              "        text-align: right;\n",
              "    }\n",
              "</style>\n",
              "<table border=\"1\" class=\"dataframe\">\n",
              "  <thead>\n",
              "    <tr style=\"text-align: right;\">\n",
              "      <th></th>\n",
              "      <th>f_name</th>\n",
              "      <th>s_time</th>\n",
              "      <th>e_time</th>\n",
              "      <th>true_labels</th>\n",
              "    </tr>\n",
              "  </thead>\n",
              "  <tbody>\n",
              "    <tr>\n",
              "      <th>0</th>\n",
              "      <td>b'WKA5OygbEKI_20'</td>\n",
              "      <td>b'131.7929705'</td>\n",
              "      <td>b'133.6886621'</td>\n",
              "      <td>True</td>\n",
              "    </tr>\n",
              "    <tr>\n",
              "      <th>1</th>\n",
              "      <td>b'WKA5OygbEKI_21'</td>\n",
              "      <td>b'133.6886621'</td>\n",
              "      <td>b'138.976644'</td>\n",
              "      <td>True</td>\n",
              "    </tr>\n",
              "    <tr>\n",
              "      <th>2</th>\n",
              "      <td>b'WKA5OygbEKI_22'</td>\n",
              "      <td>b'170.544898'</td>\n",
              "      <td>b'172.729932'</td>\n",
              "      <td>True</td>\n",
              "    </tr>\n",
              "    <tr>\n",
              "      <th>3</th>\n",
              "      <td>b'WKA5OygbEKI_1'</td>\n",
              "      <td>b'4.432426304'</td>\n",
              "      <td>b'8.852380952'</td>\n",
              "      <td>True</td>\n",
              "    </tr>\n",
              "    <tr>\n",
              "      <th>4</th>\n",
              "      <td>b'WKA5OygbEKI_3'</td>\n",
              "      <td>b'45.95804989'</td>\n",
              "      <td>b'49.69954649'</td>\n",
              "      <td>True</td>\n",
              "    </tr>\n",
              "    <tr>\n",
              "      <th>...</th>\n",
              "      <td>...</td>\n",
              "      <td>...</td>\n",
              "      <td>...</td>\n",
              "      <td>...</td>\n",
              "    </tr>\n",
              "    <tr>\n",
              "      <th>224</th>\n",
              "      <td>b'c5xsKMxpXnc_4'</td>\n",
              "      <td>b'133.2097506'</td>\n",
              "      <td>b'135.8836735'</td>\n",
              "      <td>True</td>\n",
              "    </tr>\n",
              "    <tr>\n",
              "      <th>225</th>\n",
              "      <td>b'c5xsKMxpXnc_7'</td>\n",
              "      <td>b'149.3829932'</td>\n",
              "      <td>b'152.4360544'</td>\n",
              "      <td>False</td>\n",
              "    </tr>\n",
              "    <tr>\n",
              "      <th>226</th>\n",
              "      <td>b'c5xsKMxpXnc_6'</td>\n",
              "      <td>b'146.7290249'</td>\n",
              "      <td>b'149.3829932'</td>\n",
              "      <td>False</td>\n",
              "    </tr>\n",
              "    <tr>\n",
              "      <th>227</th>\n",
              "      <td>b'c5xsKMxpXnc_9'</td>\n",
              "      <td>b'156.6764172'</td>\n",
              "      <td>b'159.0609977'</td>\n",
              "      <td>False</td>\n",
              "    </tr>\n",
              "    <tr>\n",
              "      <th>228</th>\n",
              "      <td>b'c5xsKMxpXnc_8'</td>\n",
              "      <td>b'154.1122449'</td>\n",
              "      <td>b'156.6764172'</td>\n",
              "      <td>False</td>\n",
              "    </tr>\n",
              "  </tbody>\n",
              "</table>\n",
              "<p>229 rows × 4 columns</p>\n",
              "</div>\n",
              "      <button class=\"colab-df-convert\" onclick=\"convertToInteractive('df-e022c586-9015-461c-8595-e2508ad8920a')\"\n",
              "              title=\"Convert this dataframe to an interactive table.\"\n",
              "              style=\"display:none;\">\n",
              "        \n",
              "  <svg xmlns=\"http://www.w3.org/2000/svg\" height=\"24px\"viewBox=\"0 0 24 24\"\n",
              "       width=\"24px\">\n",
              "    <path d=\"M0 0h24v24H0V0z\" fill=\"none\"/>\n",
              "    <path d=\"M18.56 5.44l.94 2.06.94-2.06 2.06-.94-2.06-.94-.94-2.06-.94 2.06-2.06.94zm-11 1L8.5 8.5l.94-2.06 2.06-.94-2.06-.94L8.5 2.5l-.94 2.06-2.06.94zm10 10l.94 2.06.94-2.06 2.06-.94-2.06-.94-.94-2.06-.94 2.06-2.06.94z\"/><path d=\"M17.41 7.96l-1.37-1.37c-.4-.4-.92-.59-1.43-.59-.52 0-1.04.2-1.43.59L10.3 9.45l-7.72 7.72c-.78.78-.78 2.05 0 2.83L4 21.41c.39.39.9.59 1.41.59.51 0 1.02-.2 1.41-.59l7.78-7.78 2.81-2.81c.8-.78.8-2.07 0-2.86zM5.41 20L4 18.59l7.72-7.72 1.47 1.35L5.41 20z\"/>\n",
              "  </svg>\n",
              "      </button>\n",
              "      \n",
              "  <style>\n",
              "    .colab-df-container {\n",
              "      display:flex;\n",
              "      flex-wrap:wrap;\n",
              "      gap: 12px;\n",
              "    }\n",
              "\n",
              "    .colab-df-convert {\n",
              "      background-color: #E8F0FE;\n",
              "      border: none;\n",
              "      border-radius: 50%;\n",
              "      cursor: pointer;\n",
              "      display: none;\n",
              "      fill: #1967D2;\n",
              "      height: 32px;\n",
              "      padding: 0 0 0 0;\n",
              "      width: 32px;\n",
              "    }\n",
              "\n",
              "    .colab-df-convert:hover {\n",
              "      background-color: #E2EBFA;\n",
              "      box-shadow: 0px 1px 2px rgba(60, 64, 67, 0.3), 0px 1px 3px 1px rgba(60, 64, 67, 0.15);\n",
              "      fill: #174EA6;\n",
              "    }\n",
              "\n",
              "    [theme=dark] .colab-df-convert {\n",
              "      background-color: #3B4455;\n",
              "      fill: #D2E3FC;\n",
              "    }\n",
              "\n",
              "    [theme=dark] .colab-df-convert:hover {\n",
              "      background-color: #434B5C;\n",
              "      box-shadow: 0px 1px 3px 1px rgba(0, 0, 0, 0.15);\n",
              "      filter: drop-shadow(0px 1px 2px rgba(0, 0, 0, 0.3));\n",
              "      fill: #FFFFFF;\n",
              "    }\n",
              "  </style>\n",
              "\n",
              "      <script>\n",
              "        const buttonEl =\n",
              "          document.querySelector('#df-e022c586-9015-461c-8595-e2508ad8920a button.colab-df-convert');\n",
              "        buttonEl.style.display =\n",
              "          google.colab.kernel.accessAllowed ? 'block' : 'none';\n",
              "\n",
              "        async function convertToInteractive(key) {\n",
              "          const element = document.querySelector('#df-e022c586-9015-461c-8595-e2508ad8920a');\n",
              "          const dataTable =\n",
              "            await google.colab.kernel.invokeFunction('convertToInteractive',\n",
              "                                                     [key], {});\n",
              "          if (!dataTable) return;\n",
              "\n",
              "          const docLinkHtml = 'Like what you see? Visit the ' +\n",
              "            '<a target=\"_blank\" href=https://colab.research.google.com/notebooks/data_table.ipynb>data table notebook</a>'\n",
              "            + ' to learn more about interactive tables.';\n",
              "          element.innerHTML = '';\n",
              "          dataTable['output_type'] = 'display_data';\n",
              "          await google.colab.output.renderOutput(dataTable, element);\n",
              "          const docLink = document.createElement('div');\n",
              "          docLink.innerHTML = docLinkHtml;\n",
              "          element.appendChild(docLink);\n",
              "        }\n",
              "      </script>\n",
              "    </div>\n",
              "  </div>\n",
              "  "
            ]
          },
          "metadata": {},
          "execution_count": 12
        }
      ]
    },
    {
      "cell_type": "markdown",
      "source": [
        "### Analysis On the textual data as regression"
      ],
      "metadata": {
        "id": "I5deJ35FdTMP"
      }
    },
    {
      "cell_type": "code",
      "source": [
        "# import tensorflow.keras as keras\n",
        "# from tensorflow.keras.layers import Input, LSTM, Dense, Masking\n",
        "# from tensorflow.keras.models import Model\n",
        "# from tensorflow.keras.utils import plot_model"
      ],
      "metadata": {
        "id": "DHT9gbgAf8Jh"
      },
      "execution_count": 13,
      "outputs": []
    },
    {
      "cell_type": "code",
      "source": [
        "# # function to build the model with different configuration\n",
        "# def get_model(n_unit=64, n_layer=1, mask_value=0.0, seq_len=50, latent_dim=300,\n",
        "#               model_name='model_name'):\n",
        "#   input_shape = (seq_len, latent_dim)\n",
        "#   mask_value = np.zeros(shape=(latent_dim,), dtype=np.float32)\n",
        "\n",
        "#   input = Input(shape=input_shape, name='input_layer')\n",
        "#   mask_lyr = Masking(mask_value=mask_value, name='masking_layer')\n",
        "\n",
        "#   layers = []\n",
        "#   for id in range(1, n_layer+1):\n",
        "#     if id != n_layer:\n",
        "#       layers.append(\n",
        "#           LSTM(n_unit, return_sequences=True, name=f'lstm_layer_{id}') \n",
        "#       )\n",
        "#     else:\n",
        "#       layers.append(\n",
        "#        LSTM(n_unit, return_sequences=False, name=f'lstm_layer_{id}')   \n",
        "#       )\n",
        "#   layers.append(\n",
        "#       Dense(1, activation='relu', name='dense_layer')\n",
        "#   )\n",
        "\n",
        "#   x = mask_lyr(input)\n",
        "#   for layer in layers:\n",
        "#     x = layer(x)\n",
        "\n",
        "#   model = Model(inputs=input, outputs=x, name=model_name)\n",
        "#   return model\n"
      ],
      "metadata": {
        "id": "0BwpdDURL6DG"
      },
      "execution_count": 14,
      "outputs": []
    },
    {
      "cell_type": "code",
      "source": [
        "# # preparing the data for training\n",
        "# AUTOTUNE = tf.data.experimental.AUTOTUNE\n",
        "# buffer_size = 64\n",
        "# batch_size = 64\n",
        "\n",
        "# train_ds = tf.data.Dataset.from_tensor_slices(\n",
        "#                 (\n",
        "#                     data_train['text'], \n",
        "#                     data_train['labels']\n",
        "#                 )\n",
        "#             ).map(lambda x,y: (x, y+3)) \\\n",
        "#             .shuffle(buffer_size).batch(batch_size).prefetch(AUTOTUNE)\n",
        "\n",
        "# valid_ds = tf.data.Dataset.from_tensor_slices(\n",
        "#                 (\n",
        "#                     data_valid['text'],\n",
        "#                     data_valid['labels']\n",
        "#                 )\n",
        "#             ).map(lambda x,y: (x, y+3)) \\\n",
        "#             .shuffle(buffer_size).batch(batch_size).prefetch(AUTOTUNE)"
      ],
      "metadata": {
        "id": "ht9eHywziBkg"
      },
      "execution_count": 15,
      "outputs": []
    },
    {
      "cell_type": "code",
      "source": [
        "# for data in train_ds.take(1):\n",
        "#   print(data)"
      ],
      "metadata": {
        "id": "KZiy0QiT3J5d"
      },
      "execution_count": 16,
      "outputs": []
    },
    {
      "cell_type": "code",
      "source": [
        "# # compile the model\n",
        "# def compile_model(model):\n",
        "\n",
        "#   optimizer = tf.keras.optimizers.Adam()\n",
        "#   loss = tf.keras.losses.MeanSquaredError()\n",
        "#   metrics = tf.keras.metrics.RootMeanSquaredError()\n",
        "\n",
        "\n",
        "#   model.compile(optimizer=optimizer, loss=loss, metrics=metrics)\n",
        "#   print(f'Model-{model.name} is compiled successfully')"
      ],
      "metadata": {
        "id": "Iz2gXBLbbTH2"
      },
      "execution_count": 17,
      "outputs": []
    },
    {
      "cell_type": "code",
      "source": [
        "# # train and plot losses\n",
        "# def train_plot_result(model, train_ds=train_ds, val_ds=valid_ds, epochs=500, verbose=1, **kwargs):\n",
        "#     file_path = os.path.join(os.getcwd(), f'{model.name}_checkpoint')\n",
        "#     if not os.path.exists(file_path):\n",
        "#       os.makedirs(file_path)\n",
        "\n",
        "#     early_stopping   = tf.keras.callbacks.EarlyStopping(patience=10, restore_best_weights=True)\n",
        "#     model_checkpoint = tf.keras.callbacks.ModelCheckpoint(filepath=file_path, save_best_only=True)\n",
        "#     callbacks = [early_stopping, model_checkpoint]\n",
        "\n",
        "#     history = model.fit(train_ds, epochs=epochs, validation_data=valid_ds, callbacks=callbacks,verbose=verbose, **kwargs)\n",
        "    \n",
        "#     loss = history.history['loss']\n",
        "#     val_loss = history.history['val_loss']\n",
        "\n",
        "#     plt.plot(loss, label='train_loss')\n",
        "#     plt.plot(val_loss, label='val_loss')\n",
        "#     plt.legend()\n",
        "#     plt.title(f'{model.name} losses')\n",
        "#     plt.show()\n",
        "#     return history"
      ],
      "metadata": {
        "id": "-Frbs_EDSAkc"
      },
      "execution_count": 18,
      "outputs": []
    },
    {
      "cell_type": "code",
      "source": [
        "# # plot correctness of pred wrt actual value\n",
        "# def check_correctness(model, data_X, data_y):\n",
        "\n",
        "#   y_pred = np.squeeze(np.ceil(model(data_X)))\n",
        "#   y_true = np.squeeze( np.ceil(data_y) )\n",
        "\n",
        "#   true_match = sum(y_pred == y_true)\n",
        "#   print(f'Accuracy: {round(true_match * 100 /len(y_pred), 2)}%')\n",
        "\n",
        "#   plt.title('Pred Vs Actual Classes Matching')\n",
        "#   sns.countplot(y_pred == y_true )\n",
        "#   plt.show()\n",
        "\n",
        "#   plt.title('Pred Class Count')\n",
        "#   sns.countplot(y_pred)\n",
        "#   plt.show()\n",
        "\n",
        "#   plt.title('Actual Class Count ')\n",
        "#   sns.countplot(y_true)\n",
        "#   plt.show()"
      ],
      "metadata": {
        "id": "5CL0k4SpVtdY"
      },
      "execution_count": 19,
      "outputs": []
    },
    {
      "cell_type": "markdown",
      "source": [
        "##### Model - 1LSTM64"
      ],
      "metadata": {
        "id": "diGocUBhYWFI"
      }
    },
    {
      "cell_type": "code",
      "source": [
        "# model1 = get_model(model_name='Basic_Model-1LSTM64')\n",
        "# model1.summary()"
      ],
      "metadata": {
        "id": "yJ3jGxKGWlJ9"
      },
      "execution_count": 20,
      "outputs": []
    },
    {
      "cell_type": "code",
      "source": [
        "# compile_model(model1)\n",
        "# train_plot_result(model1)\n",
        "# # model1.fit(train_ds, validation_data=valid_ds, epochs=50)"
      ],
      "metadata": {
        "id": "DYgy3_ATW5Yv"
      },
      "execution_count": 21,
      "outputs": []
    },
    {
      "cell_type": "code",
      "source": [
        "# check_correctness(model1, data_train['text'], data_train['labels'])"
      ],
      "metadata": {
        "id": "IKtE4VywYJOX"
      },
      "execution_count": 22,
      "outputs": []
    },
    {
      "cell_type": "markdown",
      "source": [
        "##### Model 2LSTM64"
      ],
      "metadata": {
        "id": "qhGpSSY4YrDR"
      }
    },
    {
      "cell_type": "code",
      "source": [
        "# model2 = get_model(model_name='Basic_Model_2LSTM64', n_unit=64, n_layer=2)\n",
        "# compile_model(model2)"
      ],
      "metadata": {
        "id": "bZTrmLJBspzv"
      },
      "execution_count": 23,
      "outputs": []
    },
    {
      "cell_type": "code",
      "source": [
        "# model2.summary()"
      ],
      "metadata": {
        "id": "y1l9cGgwZgSB"
      },
      "execution_count": 24,
      "outputs": []
    },
    {
      "cell_type": "code",
      "source": [
        "# train_plot_result(model2)"
      ],
      "metadata": {
        "id": "-7BPdUjmY_HQ"
      },
      "execution_count": 25,
      "outputs": []
    },
    {
      "cell_type": "code",
      "source": [
        "# check_correctness(model2, data_train['text'], data_train['labels'])"
      ],
      "metadata": {
        "id": "mHEfTuVLZDDg"
      },
      "execution_count": 26,
      "outputs": []
    },
    {
      "cell_type": "markdown",
      "source": [
        "##### model 1lSTM128"
      ],
      "metadata": {
        "id": "Zsb9rcQIZuOR"
      }
    },
    {
      "cell_type": "code",
      "source": [
        "# model3 = get_model(model_name='Basic_Model_1LSTM128', n_unit=128)\n",
        "# compile_model(model3)"
      ],
      "metadata": {
        "id": "y0F9g-9oZl2W"
      },
      "execution_count": 27,
      "outputs": []
    },
    {
      "cell_type": "code",
      "source": [
        "# train_plot_result(model3)"
      ],
      "metadata": {
        "id": "VVt44CCMaAn7"
      },
      "execution_count": 28,
      "outputs": []
    },
    {
      "cell_type": "code",
      "source": [
        "# check_correctness(model3, data_train['text'], data_train['labels'])"
      ],
      "metadata": {
        "id": "zO2YJ7LPaFQg"
      },
      "execution_count": 29,
      "outputs": []
    },
    {
      "cell_type": "markdown",
      "source": [
        "###### Model 2LSTM128"
      ],
      "metadata": {
        "id": "bPOOhZd5bUzs"
      }
    },
    {
      "cell_type": "code",
      "source": [
        "# model4 = get_model(model_name='Basic_Model_2LSTM128', n_unit=128, n_layer=2)\n",
        "# compile_model(model4)"
      ],
      "metadata": {
        "id": "orbogQonbQyP"
      },
      "execution_count": 30,
      "outputs": []
    },
    {
      "cell_type": "code",
      "source": [
        "# train_plot_result(model4)"
      ],
      "metadata": {
        "id": "dNruUufGaKAY"
      },
      "execution_count": 31,
      "outputs": []
    },
    {
      "cell_type": "code",
      "source": [
        "# check_correctness(model4, data_train['text'], data_train['labels'])"
      ],
      "metadata": {
        "id": "710QQAl7bl_L"
      },
      "execution_count": 32,
      "outputs": []
    },
    {
      "cell_type": "markdown",
      "source": [
        "##### model 1LSTM256"
      ],
      "metadata": {
        "id": "4gQkVlV3dW_P"
      }
    },
    {
      "cell_type": "code",
      "source": [
        "# model5 = get_model(model_name='Basic_Model_1LSTM256', n_unit=256)\n",
        "# compile_model(model5)"
      ],
      "metadata": {
        "id": "H2YRW_prbrHG"
      },
      "execution_count": 33,
      "outputs": []
    },
    {
      "cell_type": "code",
      "source": [
        "# train_plot_result(model5)"
      ],
      "metadata": {
        "id": "4YQHH9pXdrti"
      },
      "execution_count": 34,
      "outputs": []
    },
    {
      "cell_type": "code",
      "source": [
        "# check_correctness(model5, data_train['text'], data_train['labels'])"
      ],
      "metadata": {
        "id": "3iqxcUd8duHX"
      },
      "execution_count": 35,
      "outputs": []
    },
    {
      "cell_type": "markdown",
      "source": [
        "##### model 2LSTM256"
      ],
      "metadata": {
        "id": "pwRaUzv8eWFg"
      }
    },
    {
      "cell_type": "code",
      "source": [
        "# model6 = get_model(model_name='Basic_Model_2LSTM256', n_unit=256, n_layer=2)\n",
        "# compile_model(model6)"
      ],
      "metadata": {
        "id": "ULxDxkf4dyKH"
      },
      "execution_count": 36,
      "outputs": []
    },
    {
      "cell_type": "code",
      "source": [
        "# train_plot_result(model6)"
      ],
      "metadata": {
        "id": "5vR5-4Owej-Y"
      },
      "execution_count": 37,
      "outputs": []
    },
    {
      "cell_type": "code",
      "source": [
        "# check_correctness(model6, data_train['text'], data_train['labels'])"
      ],
      "metadata": {
        "id": "wbk6OPvzenaS"
      },
      "execution_count": 38,
      "outputs": []
    },
    {
      "cell_type": "markdown",
      "source": [
        "### Adding Attention Layer"
      ],
      "metadata": {
        "id": "vy3ubvNY4CQn"
      }
    },
    {
      "cell_type": "markdown",
      "source": [
        "#### Method 1"
      ],
      "metadata": {
        "id": "9tU-ItNYC0J0"
      }
    },
    {
      "cell_type": "code",
      "source": [
        "\n",
        "# from tensorflow.keras import initializers, regularizers, constraints\n",
        "\n",
        "# def dot_product(x, kernel):\n",
        "#     \"\"\"\n",
        "#     Wrapper for dot product operation, in order to be compatible with both\n",
        "#     Theano and Tensorflow\n",
        "#     Args:\n",
        "#         x (): input\n",
        "#         kernel (): weights\n",
        "#     Returns:\n",
        "#     \"\"\"\n",
        "#     if K.backend() == 'tensorflow':\n",
        "#         return K.squeeze(K.dot(x, K.expand_dims(kernel)), axis=-1)\n",
        "#     else:\n",
        "#         return K.dot(x, kernel)\n",
        "\n",
        "# class AttentionLayer(tf.keras.layers.Layer):\n",
        "#     \"\"\"\n",
        "#     Attention operation, with a context/query vector, for temporal data.\n",
        "#     Supports Masking.\n",
        "#     Follows the work of Yang et al. [https://www.cs.cmu.edu/~diyiy/docs/naacl16.pdf]\n",
        "#     \"Hierarchical Attention Networks for Document Classification\"\n",
        "#     by using a context vector to assist the attention\n",
        "#     # Input shape\n",
        "#         3D tensor with shape: `(samples, steps, features)`.\n",
        "#     # Output shape\n",
        "#         2D tensor with shape: `(samples, features)`.\n",
        "#     How to use:\n",
        "#     Just put it on top of an RNN Layer (GRU/LSTM/SimpleRNN) with return_sequences=True.\n",
        "#     The dimensions are inferred based on the output shape of the RNN.\n",
        "#     Note: The layer has been tested with Keras 2.0.6\n",
        "#     Example:\n",
        "#         model.add(LSTM(64, return_sequences=True))\n",
        "#         model.add(AttentionWithContext())\n",
        "#         # next add a Dense layer (for classification/regression) or whatever...\n",
        "#     \"\"\"\n",
        "\n",
        "#     def __init__(self,\n",
        "#                  W_regularizer=None, u_regularizer=None, b_regularizer=None,\n",
        "#                  W_constraint=None, u_constraint=None, b_constraint=None,\n",
        "#                  bias=True, **kwargs):\n",
        "\n",
        "#         self.supports_masking = True\n",
        "#         self.init = initializers.get('glorot_uniform')\n",
        "\n",
        "#         self.W_regularizer = regularizers.get(W_regularizer)\n",
        "#         self.u_regularizer = regularizers.get(u_regularizer)\n",
        "#         self.b_regularizer = regularizers.get(b_regularizer)\n",
        "\n",
        "#         self.W_constraint = constraints.get(W_constraint)\n",
        "#         self.u_constraint = constraints.get(u_constraint)\n",
        "#         self.b_constraint = constraints.get(b_constraint)\n",
        "\n",
        "#         self.bias = bias\n",
        "#         super(AttentionLayer, self).__init__(**kwargs)\n",
        "\n",
        "#     def build(self, input_shape):\n",
        "#         assert len(input_shape) == 3\n",
        "\n",
        "#         self.W = self.add_weight(name='w', shape=(input_shape[-1], input_shape[-1],),\n",
        "#                                  initializer='normal' )\n",
        "#                                 #  initializer=self.init,\n",
        "#                                 #  name='{}_W'.format('w'), #self.name),\n",
        "#                                 #  regularizer=self.W_regularizer,\n",
        "#                                 #  constraint=self.W_constraint)\n",
        "#         if self.bias:\n",
        "#             self.b = self.add_weight(name='b', shape=(input_shape[-1],),\n",
        "#                                      initializer='zero')\n",
        "#                                     #  name='{}_b'.format('b'), #self.name),\n",
        "#                                     #  regularizer=self.b_regularizer,\n",
        "#                                     #  constraint=self.b_constraint)\n",
        "\n",
        "#         self.u = self.add_weight(name='u', shape=(input_shape[-1],),\n",
        "#                                  initializer=self.init,\n",
        "#                                 #  name='{}_u'.format('u'), #self.name),\n",
        "#                                  regularizer=self.u_regularizer,\n",
        "#                                  constraint=self.u_constraint)\n",
        "\n",
        "#         super(AttentionLayer, self).build(input_shape)\n",
        "\n",
        "#     def compute_mask(self, input, input_mask=None):\n",
        "#         # do not pass the mask to the next layers\n",
        "#         return None\n",
        "\n",
        "#     def call(self, x, mask=None):\n",
        "#         uit = dot_product(x, self.W)\n",
        "\n",
        "#         if self.bias:\n",
        "#             uit += self.b\n",
        "\n",
        "#         uit = K.tanh(uit)\n",
        "#         ait = dot_product(uit, self.u)\n",
        "\n",
        "#         a = K.exp(ait)\n",
        "\n",
        "#         # apply mask after the exp. will be re-normalized next\n",
        "#         if mask is not None:\n",
        "#             # Cast the mask to floatX to avoid float64 upcasting in theano\n",
        "#             a *= K.cast(mask, K.floatx())\n",
        "\n",
        "#         # in some cases especially in the early stages of training the sum may be almost zero\n",
        "#         # and this results in NaN's. A workaround is to add a very small positive number ε to the sum.\n",
        "#         # a /= K.cast(K.sum(a, axis=1, keepdims=True), K.floatx())\n",
        "#         a /= K.cast(K.sum(a, axis=1, keepdims=True) + K.epsilon(), K.floatx())\n",
        "\n",
        "#         a = K.expand_dims(a)\n",
        "#         weighted_input = x * a\n",
        "#         return K.sum(weighted_input, axis=1)\n",
        "\n",
        "#     def compute_output_shape(self, input_shape):\n",
        "#         return input_shape[0], input_shape[-1]"
      ],
      "metadata": {
        "id": "hFILGypU5ZYl"
      },
      "execution_count": 39,
      "outputs": []
    },
    {
      "cell_type": "markdown",
      "source": [
        "#### Method 2"
      ],
      "metadata": {
        "id": "FoLUx0p5C3ml"
      }
    },
    {
      "cell_type": "code",
      "source": [
        "import tensorflow.keras.backend as K\n",
        "class AttentionLayer(tf.keras.layers.Layer):\n",
        "  def __init__(self):\n",
        "    super().__init__()\n",
        "\n",
        "  def build(self, input_shape):\n",
        "    self.w = self.add_weight(shape=(input_shape[-1], 1), initializer='normal')\n",
        "    self.b = self.add_weight(shape=(input_shape[-2], 1), initializer='zeros')\n",
        "    super().build(input_shape)\n",
        "\n",
        "  def call(self, x):\n",
        "    a = K.tanh(K.dot(x,self.w) + self.b)\n",
        "    a = K.softmax(a, axis=1)\n",
        "    output = x * a\n",
        "\n",
        "    return a, K.sum(output, axis=1)"
      ],
      "metadata": {
        "id": "HhlW0M3FdncZ"
      },
      "execution_count": 40,
      "outputs": []
    },
    {
      "cell_type": "markdown",
      "source": [
        "### Analysis On the textual data as Classification"
      ],
      "metadata": {
        "id": "3o21W0hYlgnZ"
      }
    },
    {
      "cell_type": "code",
      "source": [
        "# preparing the data for training\n",
        "AUTOTUNE = tf.data.experimental.AUTOTUNE\n",
        "buffer_size = 64\n",
        "batch_size = 64\n",
        "\n",
        "#############################################\n",
        "##### Dataset for Binary Classification #####\n",
        "#############################################\n",
        "\n",
        "train_binary_ds = tf.data.Dataset.from_tensor_slices(\n",
        "                (\n",
        "                    data_train['text'], \n",
        "                    data_train['labels']\n",
        "                )\n",
        "            ).map(lambda x,y: (x,[1, 0]) if y < 0 else (x,[0,1])).shuffle(buffer_size).batch(batch_size).prefetch(AUTOTUNE)\n",
        "\n",
        "valid_binary_ds = tf.data.Dataset.from_tensor_slices(\n",
        "                (\n",
        "                    data_valid['text'],\n",
        "                    data_valid['labels']\n",
        "                )\n",
        "            ).map(lambda x,y: (x,[1, 0]) if y < 0 else (x,[0,1])).shuffle(buffer_size).batch(batch_size).prefetch(AUTOTUNE)\n",
        "\n",
        "test_binary_ds = tf.data.Dataset.from_tensor_slices(\n",
        "                (\n",
        "                    data_test['text'],\n",
        "                    data_test['labels']\n",
        "                )\n",
        "            ).map(lambda x,y: (x,[1, 0]) if y < 0 else (x,[0,1])).shuffle(buffer_size).batch(batch_size).prefetch(AUTOTUNE)\n",
        "\n",
        "\n",
        "#################################################\n",
        "##### Dataset for Multiclass Classification #####\n",
        "#################################################\n",
        "\n",
        "def convert_one_hot(x, y):\n",
        "  y = tf.squeeze(y)\n",
        "  return (x, tf.one_hot(tf.cast(tf.floor(y+3), tf.int64), 7))\n",
        "\n",
        "train_multi_ds = tf.data.Dataset.from_tensor_slices(\n",
        "                (\n",
        "                    data_train['text'], \n",
        "                    data_train['labels']\n",
        "                )\n",
        "            ).map(convert_one_hot).shuffle(buffer_size).batch(batch_size).prefetch(AUTOTUNE)\n",
        "\n",
        "valid_multi_ds = tf.data.Dataset.from_tensor_slices(\n",
        "                (\n",
        "                    data_valid['text'],\n",
        "                    data_valid['labels']\n",
        "                )\n",
        "            ).map(convert_one_hot).shuffle(buffer_size).batch(batch_size).prefetch(AUTOTUNE)\n",
        "\n",
        "test_multi_ds = tf.data.Dataset.from_tensor_slices(\n",
        "                (\n",
        "                    data_test['text'],\n",
        "                    data_test['labels']\n",
        "                )\n",
        "            ).map(convert_one_hot).shuffle(buffer_size).batch(batch_size).prefetch(AUTOTUNE)"
      ],
      "metadata": {
        "id": "6a2IJ5AQl9hy"
      },
      "execution_count": 41,
      "outputs": []
    },
    {
      "cell_type": "code",
      "source": [
        "# for data in train_class_ds.take(1):\n",
        "#   print(data)"
      ],
      "metadata": {
        "id": "lgEeFuXQqlA0"
      },
      "execution_count": 42,
      "outputs": []
    },
    {
      "cell_type": "code",
      "source": [
        "# function to build the model with different configuration\n",
        "def get_classification_model(n_unit=64, n_layer=1, n_class=2, seq_len=50, \n",
        "                             latent_dim=300, name='model_name'):\n",
        "  input_shape = (seq_len, latent_dim)\n",
        "  mask_value = np.zeros(shape=[latent_dim,], dtype=np.float32)\n",
        "  input = Input(shape=input_shape, name='input_layer')\n",
        "  mask_lyr = Masking(mask_value=mask_value, name='masking_layer')\n",
        "\n",
        "  layers = []\n",
        "  for id in range(1, n_layer+1):\n",
        "    if id != n_layer:\n",
        "      layers.append(\n",
        "          LSTM(n_unit, return_sequences=True, dropout=0.4, name=f'lstm_layer_{id}') \n",
        "      )\n",
        "    else:\n",
        "      layers.append(\n",
        "       LSTM(n_unit, return_sequences=False, dropout=0.4, name=f'lstm_layer_{id}')   \n",
        "      )\n",
        "  \n",
        "  layers.append(\n",
        "      Dense(n_class, activation='softmax', name='dense_layer_2')\n",
        "  )\n",
        "\n",
        "\n",
        "  x = mask_lyr(input)\n",
        "  for layer in layers:\n",
        "    x = layer(x)\n",
        "\n",
        "  model = Model(inputs=input, outputs=x, name=name)\n",
        "  return model\n"
      ],
      "metadata": {
        "id": "aFkxgtBBl9hy"
      },
      "execution_count": 43,
      "outputs": []
    },
    {
      "cell_type": "code",
      "source": [
        "# compile the model\n",
        "def compile_classification_model(model, optimizer='adam', loss='categorical_crossentropy', metrics='accuracy'):\n",
        "\n",
        "  model.compile(optimizer=optimizer, loss=loss, metrics=metrics)\n",
        "  print(f'Model-{model.name} is compiled successfully')"
      ],
      "metadata": {
        "id": "iYHBVBTNl9hz"
      },
      "execution_count": 44,
      "outputs": []
    },
    {
      "cell_type": "code",
      "source": [
        "c_model_1 = get_classification_model(name= 'Basic_C_model_1', n_unit=256, n_layer=1)\n",
        "compile_classification_model(c_model_1)"
      ],
      "metadata": {
        "colab": {
          "base_uri": "https://localhost:8080/"
        },
        "id": "pLi7Wdn2tm2u",
        "outputId": "841c406e-def9-4991-96b6-2e62e3d5ff6d"
      },
      "execution_count": 45,
      "outputs": [
        {
          "output_type": "stream",
          "name": "stdout",
          "text": [
            "Model-Basic_C_model_1 is compiled successfully\n"
          ]
        }
      ]
    },
    {
      "cell_type": "code",
      "source": [
        "c_model_1.summary()"
      ],
      "metadata": {
        "colab": {
          "base_uri": "https://localhost:8080/"
        },
        "id": "H5cnXVdculIf",
        "outputId": "334ac429-1572-46b2-af1e-4db6bdc12e4b"
      },
      "execution_count": 46,
      "outputs": [
        {
          "output_type": "stream",
          "name": "stdout",
          "text": [
            "Model: \"Basic_C_model_1\"\n",
            "_________________________________________________________________\n",
            " Layer (type)                Output Shape              Param #   \n",
            "=================================================================\n",
            " input_layer (InputLayer)    [(None, 50, 300)]         0         \n",
            "                                                                 \n",
            " masking_layer (Masking)     (None, 50, 300)           0         \n",
            "                                                                 \n",
            " lstm_layer_1 (LSTM)         (None, 256)               570368    \n",
            "                                                                 \n",
            " dense_layer_2 (Dense)       (None, 2)                 514       \n",
            "                                                                 \n",
            "=================================================================\n",
            "Total params: 570,882\n",
            "Trainable params: 570,882\n",
            "Non-trainable params: 0\n",
            "_________________________________________________________________\n"
          ]
        }
      ]
    },
    {
      "cell_type": "code",
      "source": [
        "c_model_1.fit(train_binary_ds, validation_data=valid_binary_ds, epochs=50, callbacks=[tf.keras.callbacks.EarlyStopping(patience=10, restore_best_weights=True)])"
      ],
      "metadata": {
        "colab": {
          "base_uri": "https://localhost:8080/"
        },
        "id": "Yih57UR4uMVU",
        "outputId": "b8f41e62-494c-4cd5-eb8b-5956c6916b29"
      },
      "execution_count": 47,
      "outputs": [
        {
          "output_type": "stream",
          "name": "stdout",
          "text": [
            "Epoch 1/50\n",
            "21/21 [==============================] - 15s 196ms/step - loss: 0.6679 - accuracy: 0.5997 - val_loss: 0.7671 - val_accuracy: 0.4934\n",
            "Epoch 2/50\n",
            "21/21 [==============================] - 3s 137ms/step - loss: 0.6360 - accuracy: 0.6269 - val_loss: 0.6185 - val_accuracy: 0.6201\n",
            "Epoch 3/50\n",
            "21/21 [==============================] - 3s 136ms/step - loss: 0.6080 - accuracy: 0.6558 - val_loss: 0.5765 - val_accuracy: 0.6856\n",
            "Epoch 4/50\n",
            "21/21 [==============================] - 3s 133ms/step - loss: 0.5363 - accuracy: 0.7352 - val_loss: 0.5773 - val_accuracy: 0.7031\n",
            "Epoch 5/50\n",
            "21/21 [==============================] - 3s 133ms/step - loss: 0.5217 - accuracy: 0.7344 - val_loss: 0.6639 - val_accuracy: 0.6157\n",
            "Epoch 6/50\n",
            "21/21 [==============================] - 3s 133ms/step - loss: 0.5610 - accuracy: 0.7033 - val_loss: 0.5452 - val_accuracy: 0.7118\n",
            "Epoch 7/50\n",
            "21/21 [==============================] - 3s 137ms/step - loss: 0.4865 - accuracy: 0.7687 - val_loss: 0.6104 - val_accuracy: 0.6856\n",
            "Epoch 8/50\n",
            "21/21 [==============================] - 3s 136ms/step - loss: 0.5097 - accuracy: 0.7453 - val_loss: 0.5585 - val_accuracy: 0.6856\n",
            "Epoch 9/50\n",
            "21/21 [==============================] - 3s 140ms/step - loss: 0.4402 - accuracy: 0.8014 - val_loss: 0.5895 - val_accuracy: 0.7074\n",
            "Epoch 10/50\n",
            "21/21 [==============================] - 3s 139ms/step - loss: 0.4179 - accuracy: 0.8084 - val_loss: 0.6065 - val_accuracy: 0.7118\n",
            "Epoch 11/50\n",
            "21/21 [==============================] - 3s 136ms/step - loss: 0.4181 - accuracy: 0.8107 - val_loss: 0.6033 - val_accuracy: 0.6638\n",
            "Epoch 12/50\n",
            "21/21 [==============================] - 4s 181ms/step - loss: 0.3759 - accuracy: 0.8341 - val_loss: 0.6245 - val_accuracy: 0.6725\n",
            "Epoch 13/50\n",
            "21/21 [==============================] - 3s 139ms/step - loss: 0.3839 - accuracy: 0.8294 - val_loss: 0.6172 - val_accuracy: 0.6856\n",
            "Epoch 14/50\n",
            "21/21 [==============================] - 3s 138ms/step - loss: 0.3474 - accuracy: 0.8411 - val_loss: 0.5842 - val_accuracy: 0.7162\n",
            "Epoch 15/50\n",
            "21/21 [==============================] - 3s 134ms/step - loss: 0.3145 - accuracy: 0.8668 - val_loss: 0.6227 - val_accuracy: 0.6987\n",
            "Epoch 16/50\n",
            "21/21 [==============================] - 3s 140ms/step - loss: 0.2932 - accuracy: 0.8738 - val_loss: 0.5902 - val_accuracy: 0.7205\n"
          ]
        },
        {
          "output_type": "execute_result",
          "data": {
            "text/plain": [
              "<keras.callbacks.History at 0x7fe3031be290>"
            ]
          },
          "metadata": {},
          "execution_count": 47
        }
      ]
    },
    {
      "cell_type": "code",
      "source": [
        "c_model_1.evaluate(test_binary_ds)"
      ],
      "metadata": {
        "colab": {
          "base_uri": "https://localhost:8080/"
        },
        "id": "fT1Q4f3hL2iY",
        "outputId": "68636236-4faf-4371-86b9-515cbbd306d4"
      },
      "execution_count": 48,
      "outputs": [
        {
          "output_type": "stream",
          "name": "stdout",
          "text": [
            "11/11 [==============================] - 0s 17ms/step - loss: 0.5825 - accuracy: 0.7041\n"
          ]
        },
        {
          "output_type": "execute_result",
          "data": {
            "text/plain": [
              "[0.5825054049491882, 0.704081654548645]"
            ]
          },
          "metadata": {},
          "execution_count": 48
        }
      ]
    },
    {
      "cell_type": "code",
      "source": [
        "t_seq_len = 50\n",
        "t_latent_dim = 300\n",
        "\n",
        "t_input_shape = (t_seq_len, t_latent_dim)\n",
        "t_mask_value = np.zeros(shape=[300,], dtype=np.float32)\n",
        "\n",
        "t_input = Input(shape=t_input_shape, name='text_input_layer')\n",
        "t_mask_lyr = Masking(mask_value=t_mask_value, name='text_masking_layer')\n",
        "t_lstm_lyr = LSTM(256, return_sequences=True, name='text_lstm_layer_1')\n",
        "t_att_lyr = AttentionLayer()\n",
        "t_dense_lyr_1 = Dense(32, activation='relu', name='text_dense_layer_1')\n",
        "t_dense_lyr_2 = Dense(2, activation='softmax', name='text_dense_layer_2')\n",
        "\n",
        "\n",
        "mask_op = t_mask_lyr(t_input)\n",
        "all_states = t_lstm_lyr(mask_op)\n",
        "att_we, att_op = t_att_lyr(all_states)  \n",
        "x = t_dense_lyr_1(att_op)\n",
        "dense_op = t_dense_lyr_2(x)\n",
        "\n",
        "t_model = Model(inputs=t_input, outputs=dense_op)"
      ],
      "metadata": {
        "id": "jFkDxfI-w6L1"
      },
      "execution_count": 49,
      "outputs": []
    },
    {
      "cell_type": "code",
      "source": [
        "t_model.summary()"
      ],
      "metadata": {
        "colab": {
          "base_uri": "https://localhost:8080/"
        },
        "id": "ieeeVojFxciU",
        "outputId": "0e75e410-dd7d-41c3-836e-7cb9ec5edd65"
      },
      "execution_count": 50,
      "outputs": [
        {
          "output_type": "stream",
          "name": "stdout",
          "text": [
            "Model: \"model\"\n",
            "_________________________________________________________________\n",
            " Layer (type)                Output Shape              Param #   \n",
            "=================================================================\n",
            " text_input_layer (InputLaye  [(None, 50, 300)]        0         \n",
            " r)                                                              \n",
            "                                                                 \n",
            " text_masking_layer (Masking  (None, 50, 300)          0         \n",
            " )                                                               \n",
            "                                                                 \n",
            " text_lstm_layer_1 (LSTM)    (None, 50, 256)           570368    \n",
            "                                                                 \n",
            " attention_layer (AttentionL  ((None, 50, 1),          306       \n",
            " ayer)                        (None, 256))                       \n",
            "                                                                 \n",
            " text_dense_layer_1 (Dense)  (None, 32)                8224      \n",
            "                                                                 \n",
            " text_dense_layer_2 (Dense)  (None, 2)                 66        \n",
            "                                                                 \n",
            "=================================================================\n",
            "Total params: 578,964\n",
            "Trainable params: 578,964\n",
            "Non-trainable params: 0\n",
            "_________________________________________________________________\n"
          ]
        }
      ]
    },
    {
      "cell_type": "code",
      "source": [
        "t_model.compile(optimizer='adam', loss='categorical_crossentropy', metrics='accuracy')\n",
        "t_model.fit(train_binary_ds, validation_data=valid_binary_ds, epochs=50, callbacks=[tf.keras.callbacks.EarlyStopping(patience=10, restore_best_weights=True)])"
      ],
      "metadata": {
        "colab": {
          "base_uri": "https://localhost:8080/"
        },
        "id": "aRN_IHhbyc2V",
        "outputId": "6dfc5449-87a4-4404-ceac-5c2fa33636e0"
      },
      "execution_count": 51,
      "outputs": [
        {
          "output_type": "stream",
          "name": "stdout",
          "text": [
            "Epoch 1/50\n",
            "21/21 [==============================] - 8s 190ms/step - loss: 0.6955 - accuracy: 0.5498 - val_loss: 0.6868 - val_accuracy: 0.5808\n",
            "Epoch 2/50\n",
            "21/21 [==============================] - 3s 131ms/step - loss: 0.6793 - accuracy: 0.6012 - val_loss: 0.7262 - val_accuracy: 0.5328\n",
            "Epoch 3/50\n",
            "21/21 [==============================] - 3s 137ms/step - loss: 0.6891 - accuracy: 0.5717 - val_loss: 0.6639 - val_accuracy: 0.6070\n",
            "Epoch 4/50\n",
            "21/21 [==============================] - 3s 131ms/step - loss: 0.6615 - accuracy: 0.6464 - val_loss: 0.6404 - val_accuracy: 0.6070\n",
            "Epoch 5/50\n",
            "21/21 [==============================] - 3s 136ms/step - loss: 0.6034 - accuracy: 0.6830 - val_loss: 0.6908 - val_accuracy: 0.6201\n",
            "Epoch 6/50\n",
            "21/21 [==============================] - 3s 140ms/step - loss: 0.6250 - accuracy: 0.6519 - val_loss: 0.6364 - val_accuracy: 0.6638\n",
            "Epoch 7/50\n",
            "21/21 [==============================] - 3s 135ms/step - loss: 0.6015 - accuracy: 0.6791 - val_loss: 0.5968 - val_accuracy: 0.7118\n",
            "Epoch 8/50\n",
            "21/21 [==============================] - 3s 136ms/step - loss: 0.5902 - accuracy: 0.6978 - val_loss: 0.5848 - val_accuracy: 0.6943\n",
            "Epoch 9/50\n",
            "21/21 [==============================] - 3s 130ms/step - loss: 0.5066 - accuracy: 0.7516 - val_loss: 0.6774 - val_accuracy: 0.6943\n",
            "Epoch 10/50\n",
            "21/21 [==============================] - 3s 133ms/step - loss: 0.5364 - accuracy: 0.7259 - val_loss: 0.5551 - val_accuracy: 0.7467\n",
            "Epoch 11/50\n",
            "21/21 [==============================] - 3s 134ms/step - loss: 0.5233 - accuracy: 0.7477 - val_loss: 0.5466 - val_accuracy: 0.7336\n",
            "Epoch 12/50\n",
            "21/21 [==============================] - 3s 137ms/step - loss: 0.4440 - accuracy: 0.8014 - val_loss: 0.5741 - val_accuracy: 0.7336\n",
            "Epoch 13/50\n",
            "21/21 [==============================] - 3s 138ms/step - loss: 0.4325 - accuracy: 0.8037 - val_loss: 0.5366 - val_accuracy: 0.7598\n",
            "Epoch 14/50\n",
            "21/21 [==============================] - 3s 131ms/step - loss: 0.3843 - accuracy: 0.8326 - val_loss: 0.6051 - val_accuracy: 0.7336\n",
            "Epoch 15/50\n",
            "21/21 [==============================] - 3s 140ms/step - loss: 0.3994 - accuracy: 0.8146 - val_loss: 0.5385 - val_accuracy: 0.7817\n",
            "Epoch 16/50\n",
            "21/21 [==============================] - 3s 135ms/step - loss: 0.3646 - accuracy: 0.8349 - val_loss: 0.5638 - val_accuracy: 0.7686\n",
            "Epoch 17/50\n",
            "21/21 [==============================] - 3s 135ms/step - loss: 0.3223 - accuracy: 0.8567 - val_loss: 0.5978 - val_accuracy: 0.7860\n",
            "Epoch 18/50\n",
            "21/21 [==============================] - 3s 135ms/step - loss: 0.2915 - accuracy: 0.8762 - val_loss: 0.6122 - val_accuracy: 0.7948\n",
            "Epoch 19/50\n",
            "21/21 [==============================] - 3s 140ms/step - loss: 0.2473 - accuracy: 0.8886 - val_loss: 0.7019 - val_accuracy: 0.7948\n",
            "Epoch 20/50\n",
            "21/21 [==============================] - 3s 131ms/step - loss: 0.2287 - accuracy: 0.8995 - val_loss: 0.5696 - val_accuracy: 0.7817\n",
            "Epoch 21/50\n",
            "21/21 [==============================] - 3s 135ms/step - loss: 0.2104 - accuracy: 0.9128 - val_loss: 0.6785 - val_accuracy: 0.7904\n",
            "Epoch 22/50\n",
            "21/21 [==============================] - 3s 136ms/step - loss: 0.1606 - accuracy: 0.9291 - val_loss: 0.8204 - val_accuracy: 0.7686\n",
            "Epoch 23/50\n",
            "21/21 [==============================] - 3s 134ms/step - loss: 0.1348 - accuracy: 0.9424 - val_loss: 0.9376 - val_accuracy: 0.7686\n"
          ]
        },
        {
          "output_type": "execute_result",
          "data": {
            "text/plain": [
              "<keras.callbacks.History at 0x7fe272116390>"
            ]
          },
          "metadata": {},
          "execution_count": 51
        }
      ]
    },
    {
      "cell_type": "code",
      "source": [
        "t_model.evaluate(test_binary_ds)"
      ],
      "metadata": {
        "colab": {
          "base_uri": "https://localhost:8080/"
        },
        "id": "hy2hint5vW5l",
        "outputId": "6cee90a4-521c-433f-d73b-aa4e6a51bcc6"
      },
      "execution_count": 52,
      "outputs": [
        {
          "output_type": "stream",
          "name": "stdout",
          "text": [
            "11/11 [==============================] - 0s 18ms/step - loss: 0.5151 - accuracy: 0.7638\n"
          ]
        },
        {
          "output_type": "execute_result",
          "data": {
            "text/plain": [
              "[0.515056848526001, 0.7638484239578247]"
            ]
          },
          "metadata": {},
          "execution_count": 52
        }
      ]
    },
    {
      "cell_type": "code",
      "source": [
        "valid_data_df['t_model'] = t_model.predict(data_valid['text'])[:,1] >= 0.5\n",
        "valid_data_df"
      ],
      "metadata": {
        "colab": {
          "base_uri": "https://localhost:8080/",
          "height": 424
        },
        "id": "ObL1qaWhugiD",
        "outputId": "fcfdc011-821a-4117-ff81-458b2d1ee1a8"
      },
      "execution_count": 53,
      "outputs": [
        {
          "output_type": "execute_result",
          "data": {
            "text/plain": [
              "                f_name          s_time          e_time  true_labels  t_model\n",
              "0    b'WKA5OygbEKI_20'  b'131.7929705'  b'133.6886621'         True     True\n",
              "1    b'WKA5OygbEKI_21'  b'133.6886621'   b'138.976644'         True    False\n",
              "2    b'WKA5OygbEKI_22'   b'170.544898'   b'172.729932'         True     True\n",
              "3     b'WKA5OygbEKI_1'  b'4.432426304'  b'8.852380952'         True     True\n",
              "4     b'WKA5OygbEKI_3'  b'45.95804989'  b'49.69954649'         True     True\n",
              "..                 ...             ...             ...          ...      ...\n",
              "224   b'c5xsKMxpXnc_4'  b'133.2097506'  b'135.8836735'         True     True\n",
              "225   b'c5xsKMxpXnc_7'  b'149.3829932'  b'152.4360544'        False    False\n",
              "226   b'c5xsKMxpXnc_6'  b'146.7290249'  b'149.3829932'        False    False\n",
              "227   b'c5xsKMxpXnc_9'  b'156.6764172'  b'159.0609977'        False    False\n",
              "228   b'c5xsKMxpXnc_8'  b'154.1122449'  b'156.6764172'        False    False\n",
              "\n",
              "[229 rows x 5 columns]"
            ],
            "text/html": [
              "\n",
              "  <div id=\"df-8d0ecb51-50ed-475f-9b05-0a55e319d043\">\n",
              "    <div class=\"colab-df-container\">\n",
              "      <div>\n",
              "<style scoped>\n",
              "    .dataframe tbody tr th:only-of-type {\n",
              "        vertical-align: middle;\n",
              "    }\n",
              "\n",
              "    .dataframe tbody tr th {\n",
              "        vertical-align: top;\n",
              "    }\n",
              "\n",
              "    .dataframe thead th {\n",
              "        text-align: right;\n",
              "    }\n",
              "</style>\n",
              "<table border=\"1\" class=\"dataframe\">\n",
              "  <thead>\n",
              "    <tr style=\"text-align: right;\">\n",
              "      <th></th>\n",
              "      <th>f_name</th>\n",
              "      <th>s_time</th>\n",
              "      <th>e_time</th>\n",
              "      <th>true_labels</th>\n",
              "      <th>t_model</th>\n",
              "    </tr>\n",
              "  </thead>\n",
              "  <tbody>\n",
              "    <tr>\n",
              "      <th>0</th>\n",
              "      <td>b'WKA5OygbEKI_20'</td>\n",
              "      <td>b'131.7929705'</td>\n",
              "      <td>b'133.6886621'</td>\n",
              "      <td>True</td>\n",
              "      <td>True</td>\n",
              "    </tr>\n",
              "    <tr>\n",
              "      <th>1</th>\n",
              "      <td>b'WKA5OygbEKI_21'</td>\n",
              "      <td>b'133.6886621'</td>\n",
              "      <td>b'138.976644'</td>\n",
              "      <td>True</td>\n",
              "      <td>False</td>\n",
              "    </tr>\n",
              "    <tr>\n",
              "      <th>2</th>\n",
              "      <td>b'WKA5OygbEKI_22'</td>\n",
              "      <td>b'170.544898'</td>\n",
              "      <td>b'172.729932'</td>\n",
              "      <td>True</td>\n",
              "      <td>True</td>\n",
              "    </tr>\n",
              "    <tr>\n",
              "      <th>3</th>\n",
              "      <td>b'WKA5OygbEKI_1'</td>\n",
              "      <td>b'4.432426304'</td>\n",
              "      <td>b'8.852380952'</td>\n",
              "      <td>True</td>\n",
              "      <td>True</td>\n",
              "    </tr>\n",
              "    <tr>\n",
              "      <th>4</th>\n",
              "      <td>b'WKA5OygbEKI_3'</td>\n",
              "      <td>b'45.95804989'</td>\n",
              "      <td>b'49.69954649'</td>\n",
              "      <td>True</td>\n",
              "      <td>True</td>\n",
              "    </tr>\n",
              "    <tr>\n",
              "      <th>...</th>\n",
              "      <td>...</td>\n",
              "      <td>...</td>\n",
              "      <td>...</td>\n",
              "      <td>...</td>\n",
              "      <td>...</td>\n",
              "    </tr>\n",
              "    <tr>\n",
              "      <th>224</th>\n",
              "      <td>b'c5xsKMxpXnc_4'</td>\n",
              "      <td>b'133.2097506'</td>\n",
              "      <td>b'135.8836735'</td>\n",
              "      <td>True</td>\n",
              "      <td>True</td>\n",
              "    </tr>\n",
              "    <tr>\n",
              "      <th>225</th>\n",
              "      <td>b'c5xsKMxpXnc_7'</td>\n",
              "      <td>b'149.3829932'</td>\n",
              "      <td>b'152.4360544'</td>\n",
              "      <td>False</td>\n",
              "      <td>False</td>\n",
              "    </tr>\n",
              "    <tr>\n",
              "      <th>226</th>\n",
              "      <td>b'c5xsKMxpXnc_6'</td>\n",
              "      <td>b'146.7290249'</td>\n",
              "      <td>b'149.3829932'</td>\n",
              "      <td>False</td>\n",
              "      <td>False</td>\n",
              "    </tr>\n",
              "    <tr>\n",
              "      <th>227</th>\n",
              "      <td>b'c5xsKMxpXnc_9'</td>\n",
              "      <td>b'156.6764172'</td>\n",
              "      <td>b'159.0609977'</td>\n",
              "      <td>False</td>\n",
              "      <td>False</td>\n",
              "    </tr>\n",
              "    <tr>\n",
              "      <th>228</th>\n",
              "      <td>b'c5xsKMxpXnc_8'</td>\n",
              "      <td>b'154.1122449'</td>\n",
              "      <td>b'156.6764172'</td>\n",
              "      <td>False</td>\n",
              "      <td>False</td>\n",
              "    </tr>\n",
              "  </tbody>\n",
              "</table>\n",
              "<p>229 rows × 5 columns</p>\n",
              "</div>\n",
              "      <button class=\"colab-df-convert\" onclick=\"convertToInteractive('df-8d0ecb51-50ed-475f-9b05-0a55e319d043')\"\n",
              "              title=\"Convert this dataframe to an interactive table.\"\n",
              "              style=\"display:none;\">\n",
              "        \n",
              "  <svg xmlns=\"http://www.w3.org/2000/svg\" height=\"24px\"viewBox=\"0 0 24 24\"\n",
              "       width=\"24px\">\n",
              "    <path d=\"M0 0h24v24H0V0z\" fill=\"none\"/>\n",
              "    <path d=\"M18.56 5.44l.94 2.06.94-2.06 2.06-.94-2.06-.94-.94-2.06-.94 2.06-2.06.94zm-11 1L8.5 8.5l.94-2.06 2.06-.94-2.06-.94L8.5 2.5l-.94 2.06-2.06.94zm10 10l.94 2.06.94-2.06 2.06-.94-2.06-.94-.94-2.06-.94 2.06-2.06.94z\"/><path d=\"M17.41 7.96l-1.37-1.37c-.4-.4-.92-.59-1.43-.59-.52 0-1.04.2-1.43.59L10.3 9.45l-7.72 7.72c-.78.78-.78 2.05 0 2.83L4 21.41c.39.39.9.59 1.41.59.51 0 1.02-.2 1.41-.59l7.78-7.78 2.81-2.81c.8-.78.8-2.07 0-2.86zM5.41 20L4 18.59l7.72-7.72 1.47 1.35L5.41 20z\"/>\n",
              "  </svg>\n",
              "      </button>\n",
              "      \n",
              "  <style>\n",
              "    .colab-df-container {\n",
              "      display:flex;\n",
              "      flex-wrap:wrap;\n",
              "      gap: 12px;\n",
              "    }\n",
              "\n",
              "    .colab-df-convert {\n",
              "      background-color: #E8F0FE;\n",
              "      border: none;\n",
              "      border-radius: 50%;\n",
              "      cursor: pointer;\n",
              "      display: none;\n",
              "      fill: #1967D2;\n",
              "      height: 32px;\n",
              "      padding: 0 0 0 0;\n",
              "      width: 32px;\n",
              "    }\n",
              "\n",
              "    .colab-df-convert:hover {\n",
              "      background-color: #E2EBFA;\n",
              "      box-shadow: 0px 1px 2px rgba(60, 64, 67, 0.3), 0px 1px 3px 1px rgba(60, 64, 67, 0.15);\n",
              "      fill: #174EA6;\n",
              "    }\n",
              "\n",
              "    [theme=dark] .colab-df-convert {\n",
              "      background-color: #3B4455;\n",
              "      fill: #D2E3FC;\n",
              "    }\n",
              "\n",
              "    [theme=dark] .colab-df-convert:hover {\n",
              "      background-color: #434B5C;\n",
              "      box-shadow: 0px 1px 3px 1px rgba(0, 0, 0, 0.15);\n",
              "      filter: drop-shadow(0px 1px 2px rgba(0, 0, 0, 0.3));\n",
              "      fill: #FFFFFF;\n",
              "    }\n",
              "  </style>\n",
              "\n",
              "      <script>\n",
              "        const buttonEl =\n",
              "          document.querySelector('#df-8d0ecb51-50ed-475f-9b05-0a55e319d043 button.colab-df-convert');\n",
              "        buttonEl.style.display =\n",
              "          google.colab.kernel.accessAllowed ? 'block' : 'none';\n",
              "\n",
              "        async function convertToInteractive(key) {\n",
              "          const element = document.querySelector('#df-8d0ecb51-50ed-475f-9b05-0a55e319d043');\n",
              "          const dataTable =\n",
              "            await google.colab.kernel.invokeFunction('convertToInteractive',\n",
              "                                                     [key], {});\n",
              "          if (!dataTable) return;\n",
              "\n",
              "          const docLinkHtml = 'Like what you see? Visit the ' +\n",
              "            '<a target=\"_blank\" href=https://colab.research.google.com/notebooks/data_table.ipynb>data table notebook</a>'\n",
              "            + ' to learn more about interactive tables.';\n",
              "          element.innerHTML = '';\n",
              "          dataTable['output_type'] = 'display_data';\n",
              "          await google.colab.output.renderOutput(dataTable, element);\n",
              "          const docLink = document.createElement('div');\n",
              "          docLink.innerHTML = docLinkHtml;\n",
              "          element.appendChild(docLink);\n",
              "        }\n",
              "      </script>\n",
              "    </div>\n",
              "  </div>\n",
              "  "
            ]
          },
          "metadata": {},
          "execution_count": 53
        }
      ]
    },
    {
      "cell_type": "code",
      "source": [
        "sum(valid_data_df.true_labels == valid_data_df.t_model) / valid_data_df.t_model.count()"
      ],
      "metadata": {
        "colab": {
          "base_uri": "https://localhost:8080/"
        },
        "id": "2YlPwm3TvMBn",
        "outputId": "26c1e926-59f1-4bc8-ee2c-cbb980d33ab7"
      },
      "execution_count": 54,
      "outputs": [
        {
          "output_type": "execute_result",
          "data": {
            "text/plain": [
              "0.759825327510917"
            ]
          },
          "metadata": {},
          "execution_count": 54
        }
      ]
    },
    {
      "cell_type": "code",
      "source": [
        "#confusion matrix\n",
        "t_model_test_pred = t_model.predict(data_test['text'])[:,1] > 0.5\n",
        "tf.math.confusion_matrix(data_test_label_actual, t_model_test_pred, 2)"
      ],
      "metadata": {
        "colab": {
          "base_uri": "https://localhost:8080/"
        },
        "id": "OqHDRfErodLv",
        "outputId": "028f4998-7840-4d35-878b-b3249a89f0c8"
      },
      "execution_count": 118,
      "outputs": [
        {
          "output_type": "execute_result",
          "data": {
            "text/plain": [
              "<tf.Tensor: shape=(2, 2), dtype=int32, numpy=\n",
              "array([[312, 141],\n",
              "       [ 41, 192]], dtype=int32)>"
            ]
          },
          "metadata": {},
          "execution_count": 118
        }
      ]
    },
    {
      "cell_type": "code",
      "source": [
        "# roc curve\n",
        "tpr, fpr, threshold = metrics.roc_curve(data_test_label_actual, t_model_test_pred)\n",
        "roc_auc = metrics.roc_auc_score(data_test_label_actual, t_model_test_pred)"
      ],
      "metadata": {
        "id": "I0LxcfQHpp9w"
      },
      "execution_count": 127,
      "outputs": []
    },
    {
      "cell_type": "code",
      "source": [
        "lw= 2\n",
        "plt.plot(tpr,fpr,color=\"darkorange\",\n",
        "    lw=lw,\n",
        "    label=\"ROC curve (area = %0.2f)\" % roc_auc\n",
        "  )\n",
        "plt.plot([0,1], [0,1], color=\"navy\", lw=lw, linestyle=\"--\")\n",
        "plt.xlim([0.0, 1.0])\n",
        "plt.ylim([0.0, 1.05])\n",
        "plt.xlabel(\"False Positive Rate\")\n",
        "plt.ylabel(\"True Positive Rate\")\n",
        "plt.title(\"Receiver operating characteristic text model\")\n",
        "plt.legend(loc=\"lower right\")\n",
        "plt.show()"
      ],
      "metadata": {
        "colab": {
          "base_uri": "https://localhost:8080/",
          "height": 295
        },
        "id": "0t8O8iGSq9VU",
        "outputId": "ab83f7cb-3ef2-4ab1-bd60-25dfd5eb8198"
      },
      "execution_count": 130,
      "outputs": [
        {
          "output_type": "display_data",
          "data": {
            "text/plain": [
              "<Figure size 432x288 with 1 Axes>"
            ],
            "image/png": "[encoded data removed]"
          },
          "metadata": {
            "needs_background": "light"
          }
        }
      ]
    },
    {
      "cell_type": "markdown",
      "source": [
        "### Analysis on Visual Data for classification"
      ],
      "metadata": {
        "id": "93KCwDaUPd_1"
      }
    },
    {
      "cell_type": "code",
      "source": [
        "data_train['vision'].shape"
      ],
      "metadata": {
        "colab": {
          "base_uri": "https://localhost:8080/"
        },
        "id": "ZEhu-QulPkei",
        "outputId": "0c892dec-84c6-4562-fb01-b1ddddb1ead4"
      },
      "execution_count": 55,
      "outputs": [
        {
          "output_type": "execute_result",
          "data": {
            "text/plain": [
              "(1284, 50, 20)"
            ]
          },
          "metadata": {},
          "execution_count": 55
        }
      ]
    },
    {
      "cell_type": "code",
      "source": [
        "# preparing the data for training\n",
        "AUTOTUNE = tf.data.experimental.AUTOTUNE\n",
        "buffer_size = 64\n",
        "batch_size = 64\n",
        "\n",
        "#############################################\n",
        "##### Dataset for Binary Classification #####\n",
        "#############################################\n",
        "\n",
        "train_visual_binary_ds = tf.data.Dataset.from_tensor_slices(\n",
        "                (\n",
        "                    data_train['vision'], \n",
        "                    data_train['labels']\n",
        "                )\n",
        "            ).map(lambda x,y: (x,[1, 0]) if y < 0 else (x,[0,1])).shuffle(buffer_size).batch(batch_size).prefetch(AUTOTUNE)\n",
        "\n",
        "valid_visual_binary_ds = tf.data.Dataset.from_tensor_slices(\n",
        "                (\n",
        "                    data_valid['vision'],\n",
        "                    data_valid['labels']\n",
        "                )\n",
        "            ).map(lambda x,y: (x,[1, 0]) if y < 0 else (x,[0,1])).shuffle(buffer_size).batch(batch_size).prefetch(AUTOTUNE)\n",
        "\n",
        "test_visual_binary_ds = tf.data.Dataset.from_tensor_slices(\n",
        "                (\n",
        "                    data_test['vision'],\n",
        "                    data_test['labels']\n",
        "                )\n",
        "            ).map(lambda x,y: (x,[1, 0]) if y < 0 else (x,[0,1])).shuffle(buffer_size).batch(batch_size).prefetch(AUTOTUNE)\n",
        "\n",
        "\n",
        "#################################################\n",
        "##### Dataset for Multiclass Classification #####\n",
        "#################################################\n",
        "\n",
        "def convert_one_hot(x, y):\n",
        "  y = tf.squeeze(y)\n",
        "  return (x, tf.one_hot(tf.cast(tf.floor(y+3), tf.int64), 7))\n",
        "\n",
        "train_visual_multi_ds = tf.data.Dataset.from_tensor_slices(\n",
        "                (\n",
        "                    data_train['vision'], \n",
        "                    data_train['labels']\n",
        "                )\n",
        "            ).map(convert_one_hot).shuffle(buffer_size).batch(batch_size).prefetch(AUTOTUNE)\n",
        "\n",
        "valid_visual_multi_ds = tf.data.Dataset.from_tensor_slices(\n",
        "                (\n",
        "                    data_valid['vision'],\n",
        "                    data_valid['labels']\n",
        "                )\n",
        "            ).map(convert_one_hot).shuffle(buffer_size).batch(batch_size).prefetch(AUTOTUNE)\n",
        "\n",
        "test_visual_multi_ds = tf.data.Dataset.from_tensor_slices(\n",
        "                (\n",
        "                    data_test['vision'],\n",
        "                    data_test['labels']\n",
        "                )\n",
        "            ).map(convert_one_hot).shuffle(buffer_size).batch(batch_size).prefetch(AUTOTUNE)"
      ],
      "metadata": {
        "id": "1yZ8vfZrTQQc"
      },
      "execution_count": 56,
      "outputs": []
    },
    {
      "cell_type": "code",
      "source": [
        "#################################################\n",
        "##### Classification Model on visual Data   #####\n",
        "#################################################\n",
        "\n",
        "v_seq_len = 50\n",
        "v_latent_dim = 20\n",
        "\n",
        "v_input_shape = (v_seq_len, v_latent_dim)\n",
        "v_mask_value = np.zeros(shape=(v_latent_dim,), dtype=np.float32)\n",
        "\n",
        "v_input = Input(shape=v_input_shape, name='v_input_layer')\n",
        "v_mask_lyr = Masking(mask_value=v_mask_value, name='v_mask_layer')\n",
        "v_lstm_lyr = LSTM(256, return_sequences=False, dropout=0.4, name='v_lstm_layer_1')\n",
        "v_dense_lyr = Dense(2, activation='softmax', name='v_dense_layer')\n",
        "\n",
        "\n",
        "x = v_mask_lyr(v_input)\n",
        "x = v_lstm_lyr(x)\n",
        "x = v_dense_lyr(x)\n",
        "\n",
        "v_model = Model(inputs=v_input, outputs=x, name='visual_classification_model')\n",
        "v_model.summary()"
      ],
      "metadata": {
        "colab": {
          "base_uri": "https://localhost:8080/"
        },
        "id": "5FIiMzLVU2Cv",
        "outputId": "c113c171-dc9e-4ced-d80a-c2e04a0ab6f2"
      },
      "execution_count": 57,
      "outputs": [
        {
          "output_type": "stream",
          "name": "stdout",
          "text": [
            "Model: \"visual_classification_model\"\n",
            "_________________________________________________________________\n",
            " Layer (type)                Output Shape              Param #   \n",
            "=================================================================\n",
            " v_input_layer (InputLayer)  [(None, 50, 20)]          0         \n",
            "                                                                 \n",
            " v_mask_layer (Masking)      (None, 50, 20)            0         \n",
            "                                                                 \n",
            " v_lstm_layer_1 (LSTM)       (None, 256)               283648    \n",
            "                                                                 \n",
            " v_dense_layer (Dense)       (None, 2)                 514       \n",
            "                                                                 \n",
            "=================================================================\n",
            "Total params: 284,162\n",
            "Trainable params: 284,162\n",
            "Non-trainable params: 0\n",
            "_________________________________________________________________\n"
          ]
        }
      ]
    },
    {
      "cell_type": "code",
      "source": [
        "v_model.compile(optimizer='adam', loss='categorical_crossentropy', metrics='accuracy')"
      ],
      "metadata": {
        "id": "hxVgRi_IWmqA"
      },
      "execution_count": 58,
      "outputs": []
    },
    {
      "cell_type": "code",
      "source": [
        "v_history = v_model.fit(train_visual_binary_ds, validation_data=valid_visual_binary_ds, \n",
        "            epochs=50, callbacks=[tf.keras.callbacks.EarlyStopping(patience=10, restore_best_weights=True)])"
      ],
      "metadata": {
        "colab": {
          "base_uri": "https://localhost:8080/"
        },
        "id": "wN5TRjBgXXJy",
        "outputId": "7b27b3c4-c44f-45e9-8373-66c867dcb800"
      },
      "execution_count": 59,
      "outputs": [
        {
          "output_type": "stream",
          "name": "stdout",
          "text": [
            "Epoch 1/50\n",
            "21/21 [==============================] - 8s 189ms/step - loss: 0.6852 - accuracy: 0.5592 - val_loss: 0.6613 - val_accuracy: 0.5895\n",
            "Epoch 2/50\n",
            "21/21 [==============================] - 3s 130ms/step - loss: 0.6630 - accuracy: 0.5841 - val_loss: 0.6575 - val_accuracy: 0.5895\n",
            "Epoch 3/50\n",
            "21/21 [==============================] - 3s 132ms/step - loss: 0.6621 - accuracy: 0.6114 - val_loss: 0.6563 - val_accuracy: 0.5983\n",
            "Epoch 4/50\n",
            "21/21 [==============================] - 3s 128ms/step - loss: 0.6468 - accuracy: 0.6293 - val_loss: 0.6634 - val_accuracy: 0.5983\n",
            "Epoch 5/50\n",
            "21/21 [==============================] - 3s 128ms/step - loss: 0.6544 - accuracy: 0.6090 - val_loss: 0.6557 - val_accuracy: 0.5983\n",
            "Epoch 6/50\n",
            "21/21 [==============================] - 3s 128ms/step - loss: 0.6495 - accuracy: 0.6137 - val_loss: 0.6524 - val_accuracy: 0.5895\n",
            "Epoch 7/50\n",
            "21/21 [==============================] - 3s 133ms/step - loss: 0.6502 - accuracy: 0.6036 - val_loss: 0.6514 - val_accuracy: 0.5852\n",
            "Epoch 8/50\n",
            "21/21 [==============================] - 3s 131ms/step - loss: 0.6380 - accuracy: 0.6293 - val_loss: 0.6527 - val_accuracy: 0.5852\n",
            "Epoch 9/50\n",
            "21/21 [==============================] - 3s 131ms/step - loss: 0.6368 - accuracy: 0.6332 - val_loss: 0.6718 - val_accuracy: 0.5808\n",
            "Epoch 10/50\n",
            "21/21 [==============================] - 3s 132ms/step - loss: 0.6380 - accuracy: 0.6386 - val_loss: 0.6591 - val_accuracy: 0.5852\n",
            "Epoch 11/50\n",
            "21/21 [==============================] - 3s 133ms/step - loss: 0.6424 - accuracy: 0.6051 - val_loss: 0.6564 - val_accuracy: 0.5721\n",
            "Epoch 12/50\n",
            "21/21 [==============================] - 3s 124ms/step - loss: 0.6409 - accuracy: 0.6207 - val_loss: 0.6588 - val_accuracy: 0.5808\n",
            "Epoch 13/50\n",
            "21/21 [==============================] - 3s 127ms/step - loss: 0.6346 - accuracy: 0.6246 - val_loss: 0.6544 - val_accuracy: 0.5939\n",
            "Epoch 14/50\n",
            "21/21 [==============================] - 3s 132ms/step - loss: 0.6255 - accuracy: 0.6441 - val_loss: 0.6628 - val_accuracy: 0.6026\n",
            "Epoch 15/50\n",
            "21/21 [==============================] - 3s 129ms/step - loss: 0.6323 - accuracy: 0.6293 - val_loss: 0.6638 - val_accuracy: 0.5895\n",
            "Epoch 16/50\n",
            "21/21 [==============================] - 3s 134ms/step - loss: 0.6302 - accuracy: 0.6441 - val_loss: 0.6800 - val_accuracy: 0.5808\n",
            "Epoch 17/50\n",
            "21/21 [==============================] - 3s 133ms/step - loss: 0.6625 - accuracy: 0.6269 - val_loss: 0.6739 - val_accuracy: 0.5895\n"
          ]
        }
      ]
    },
    {
      "cell_type": "code",
      "source": [
        "v_model.evaluate(test_visual_binary_ds)"
      ],
      "metadata": {
        "colab": {
          "base_uri": "https://localhost:8080/"
        },
        "id": "oCiDxPijX1dh",
        "outputId": "028eb43b-718a-4f49-ecfa-7801fb4e796c"
      },
      "execution_count": 60,
      "outputs": [
        {
          "output_type": "stream",
          "name": "stdout",
          "text": [
            "11/11 [==============================] - 0s 14ms/step - loss: 0.7315 - accuracy: 0.4927\n"
          ]
        },
        {
          "output_type": "execute_result",
          "data": {
            "text/plain": [
              "[0.7314684987068176, 0.4927113652229309]"
            ]
          },
          "metadata": {},
          "execution_count": 60
        }
      ]
    },
    {
      "cell_type": "code",
      "source": [
        "##############################################################\n",
        "##### Classification Model on visual Data with Attention #####\n",
        "##############################################################\n",
        "\n",
        "v_seq_len = 50\n",
        "v_latent_dim = 20\n",
        "\n",
        "v_input_shape = (v_seq_len, v_latent_dim)\n",
        "v_mask_value = np.zeros(shape=(v_latent_dim,), dtype=np.float32)\n",
        "\n",
        "v_input = Input(shape=v_input_shape, name='v_input_layer')\n",
        "v_mask_lyr = Masking(mask_value=v_mask_value, name='v_mask_layer')\n",
        "v_lstm_lyr = LSTM(256, return_sequences=True, dropout=0.4, name='v_lstm_layer_1')\n",
        "v_att_lyr = AttentionLayer()\n",
        "v_dense_lyr_1 = Dense(32, activation='relu',  name='v_dense_layer_1')\n",
        "v_dense_lyr_2 = Dense(2, activation='softmax', name='v_dense_layer_2')\n",
        "\n",
        "x = v_mask_lyr(v_input)\n",
        "x = v_lstm_lyr(x)\n",
        "att_we, att_op = v_att_lyr(x)\n",
        "op_1 = v_dense_lyr_1(att_op)\n",
        "op_2 = v_dense_lyr_2(op_1)\n",
        "\n",
        "v_model1 = Model(inputs=v_input, outputs=op_2, name='visual_classification_model_with_attention')\n",
        "v_model1.summary()"
      ],
      "metadata": {
        "colab": {
          "base_uri": "https://localhost:8080/"
        },
        "id": "uHVNXCgpY5an",
        "outputId": "33edda46-6f85-45ae-b79a-b722437941ce"
      },
      "execution_count": 61,
      "outputs": [
        {
          "output_type": "stream",
          "name": "stdout",
          "text": [
            "Model: \"visual_classification_model_with_attention\"\n",
            "_________________________________________________________________\n",
            " Layer (type)                Output Shape              Param #   \n",
            "=================================================================\n",
            " v_input_layer (InputLayer)  [(None, 50, 20)]          0         \n",
            "                                                                 \n",
            " v_mask_layer (Masking)      (None, 50, 20)            0         \n",
            "                                                                 \n",
            " v_lstm_layer_1 (LSTM)       (None, 50, 256)           283648    \n",
            "                                                                 \n",
            " attention_layer_1 (Attentio  ((None, 50, 1),          306       \n",
            " nLayer)                      (None, 256))                       \n",
            "                                                                 \n",
            " v_dense_layer_1 (Dense)     (None, 32)                8224      \n",
            "                                                                 \n",
            " v_dense_layer_2 (Dense)     (None, 2)                 66        \n",
            "                                                                 \n",
            "=================================================================\n",
            "Total params: 292,244\n",
            "Trainable params: 292,244\n",
            "Non-trainable params: 0\n",
            "_________________________________________________________________\n"
          ]
        }
      ]
    },
    {
      "cell_type": "code",
      "source": [
        "v_model1.compile(optimizer='adam', loss='categorical_crossentropy', metrics='accuracy')\n",
        "v_history1 = v_model1.fit(train_visual_binary_ds, validation_data=valid_visual_binary_ds, \n",
        "            epochs=50, callbacks=[tf.keras.callbacks.EarlyStopping(patience=10, restore_best_weights=True)])"
      ],
      "metadata": {
        "colab": {
          "base_uri": "https://localhost:8080/"
        },
        "id": "pv_pMrBQZe4g",
        "outputId": "385d883e-7210-4ebf-dee0-741c2aa28db3"
      },
      "execution_count": 62,
      "outputs": [
        {
          "output_type": "stream",
          "name": "stdout",
          "text": [
            "Epoch 1/50\n",
            "21/21 [==============================] - 8s 208ms/step - loss: 0.6924 - accuracy: 0.5779 - val_loss: 0.6793 - val_accuracy: 0.5983\n",
            "Epoch 2/50\n",
            "21/21 [==============================] - 3s 130ms/step - loss: 0.6802 - accuracy: 0.5935 - val_loss: 0.6709 - val_accuracy: 0.6157\n",
            "Epoch 3/50\n",
            "21/21 [==============================] - 3s 136ms/step - loss: 0.6687 - accuracy: 0.5958 - val_loss: 0.6731 - val_accuracy: 0.6026\n",
            "Epoch 4/50\n",
            "21/21 [==============================] - 3s 133ms/step - loss: 0.6584 - accuracy: 0.6184 - val_loss: 0.6625 - val_accuracy: 0.5808\n",
            "Epoch 5/50\n",
            "21/21 [==============================] - 3s 133ms/step - loss: 0.6652 - accuracy: 0.6114 - val_loss: 0.6612 - val_accuracy: 0.5895\n",
            "Epoch 6/50\n",
            "21/21 [==============================] - 3s 140ms/step - loss: 0.6475 - accuracy: 0.6223 - val_loss: 0.6626 - val_accuracy: 0.5808\n",
            "Epoch 7/50\n",
            "21/21 [==============================] - 3s 137ms/step - loss: 0.6577 - accuracy: 0.6215 - val_loss: 0.6705 - val_accuracy: 0.5895\n",
            "Epoch 8/50\n",
            "21/21 [==============================] - 3s 133ms/step - loss: 0.6559 - accuracy: 0.6083 - val_loss: 0.6619 - val_accuracy: 0.5852\n",
            "Epoch 9/50\n",
            "21/21 [==============================] - 3s 137ms/step - loss: 0.6464 - accuracy: 0.6199 - val_loss: 0.6727 - val_accuracy: 0.5895\n",
            "Epoch 10/50\n",
            "21/21 [==============================] - 3s 134ms/step - loss: 0.6489 - accuracy: 0.6145 - val_loss: 0.6541 - val_accuracy: 0.5852\n",
            "Epoch 11/50\n",
            "21/21 [==============================] - 3s 134ms/step - loss: 0.6454 - accuracy: 0.6168 - val_loss: 0.6537 - val_accuracy: 0.5983\n",
            "Epoch 12/50\n",
            "21/21 [==============================] - 3s 135ms/step - loss: 0.6394 - accuracy: 0.6215 - val_loss: 0.6564 - val_accuracy: 0.5983\n",
            "Epoch 13/50\n",
            "21/21 [==============================] - 3s 139ms/step - loss: 0.6378 - accuracy: 0.6308 - val_loss: 0.6741 - val_accuracy: 0.6026\n",
            "Epoch 14/50\n",
            "21/21 [==============================] - 3s 133ms/step - loss: 0.6406 - accuracy: 0.6231 - val_loss: 0.6541 - val_accuracy: 0.5895\n",
            "Epoch 15/50\n",
            "21/21 [==============================] - 3s 138ms/step - loss: 0.6324 - accuracy: 0.6231 - val_loss: 0.6592 - val_accuracy: 0.5939\n",
            "Epoch 16/50\n",
            "21/21 [==============================] - 3s 133ms/step - loss: 0.6380 - accuracy: 0.6207 - val_loss: 0.6606 - val_accuracy: 0.5983\n",
            "Epoch 17/50\n",
            "21/21 [==============================] - 3s 136ms/step - loss: 0.6419 - accuracy: 0.6199 - val_loss: 0.6625 - val_accuracy: 0.5633\n",
            "Epoch 18/50\n",
            "21/21 [==============================] - 3s 129ms/step - loss: 0.6286 - accuracy: 0.6355 - val_loss: 0.6757 - val_accuracy: 0.5764\n",
            "Epoch 19/50\n",
            "21/21 [==============================] - 3s 131ms/step - loss: 0.6382 - accuracy: 0.6246 - val_loss: 0.6684 - val_accuracy: 0.5764\n",
            "Epoch 20/50\n",
            "21/21 [==============================] - 3s 143ms/step - loss: 0.6302 - accuracy: 0.6464 - val_loss: 0.6743 - val_accuracy: 0.5983\n",
            "Epoch 21/50\n",
            "21/21 [==============================] - 3s 133ms/step - loss: 0.6326 - accuracy: 0.6285 - val_loss: 0.6670 - val_accuracy: 0.5721\n"
          ]
        }
      ]
    },
    {
      "cell_type": "code",
      "source": [
        "v_model1.evaluate(test_visual_binary_ds)"
      ],
      "metadata": {
        "colab": {
          "base_uri": "https://localhost:8080/"
        },
        "id": "uZiGfmqwZxK_",
        "outputId": "c55e91a7-15fc-400d-94e8-6a8fe6a4a067"
      },
      "execution_count": 63,
      "outputs": [
        {
          "output_type": "stream",
          "name": "stdout",
          "text": [
            "11/11 [==============================] - 0s 14ms/step - loss: 0.6971 - accuracy: 0.5190\n"
          ]
        },
        {
          "output_type": "execute_result",
          "data": {
            "text/plain": [
              "[0.6970657110214233, 0.5189504623413086]"
            ]
          },
          "metadata": {},
          "execution_count": 63
        }
      ]
    },
    {
      "cell_type": "code",
      "source": [
        "valid_data_df['v_model1']= v_model1.predict(data_valid['vision'])[:,1] >= 0.5\n",
        "valid_data_df"
      ],
      "metadata": {
        "colab": {
          "base_uri": "https://localhost:8080/",
          "height": 424
        },
        "id": "_-5HtJz0xUNl",
        "outputId": "865d61a5-7973-4cce-d7a5-c48780067154"
      },
      "execution_count": 64,
      "outputs": [
        {
          "output_type": "execute_result",
          "data": {
            "text/plain": [
              "                f_name          s_time          e_time  true_labels  t_model  \\\n",
              "0    b'WKA5OygbEKI_20'  b'131.7929705'  b'133.6886621'         True     True   \n",
              "1    b'WKA5OygbEKI_21'  b'133.6886621'   b'138.976644'         True    False   \n",
              "2    b'WKA5OygbEKI_22'   b'170.544898'   b'172.729932'         True     True   \n",
              "3     b'WKA5OygbEKI_1'  b'4.432426304'  b'8.852380952'         True     True   \n",
              "4     b'WKA5OygbEKI_3'  b'45.95804989'  b'49.69954649'         True     True   \n",
              "..                 ...             ...             ...          ...      ...   \n",
              "224   b'c5xsKMxpXnc_4'  b'133.2097506'  b'135.8836735'         True     True   \n",
              "225   b'c5xsKMxpXnc_7'  b'149.3829932'  b'152.4360544'        False    False   \n",
              "226   b'c5xsKMxpXnc_6'  b'146.7290249'  b'149.3829932'        False    False   \n",
              "227   b'c5xsKMxpXnc_9'  b'156.6764172'  b'159.0609977'        False    False   \n",
              "228   b'c5xsKMxpXnc_8'  b'154.1122449'  b'156.6764172'        False    False   \n",
              "\n",
              "     v_model1  \n",
              "0        True  \n",
              "1        True  \n",
              "2        True  \n",
              "3        True  \n",
              "4        True  \n",
              "..        ...  \n",
              "224      True  \n",
              "225      True  \n",
              "226      True  \n",
              "227      True  \n",
              "228      True  \n",
              "\n",
              "[229 rows x 6 columns]"
            ],
            "text/html": [
              "\n",
              "  <div id=\"df-21adab63-53b6-47f6-ad97-bbfd0625d1da\">\n",
              "    <div class=\"colab-df-container\">\n",
              "      <div>\n",
              "<style scoped>\n",
              "    .dataframe tbody tr th:only-of-type {\n",
              "        vertical-align: middle;\n",
              "    }\n",
              "\n",
              "    .dataframe tbody tr th {\n",
              "        vertical-align: top;\n",
              "    }\n",
              "\n",
              "    .dataframe thead th {\n",
              "        text-align: right;\n",
              "    }\n",
              "</style>\n",
              "<table border=\"1\" class=\"dataframe\">\n",
              "  <thead>\n",
              "    <tr style=\"text-align: right;\">\n",
              "      <th></th>\n",
              "      <th>f_name</th>\n",
              "      <th>s_time</th>\n",
              "      <th>e_time</th>\n",
              "      <th>true_labels</th>\n",
              "      <th>t_model</th>\n",
              "      <th>v_model1</th>\n",
              "    </tr>\n",
              "  </thead>\n",
              "  <tbody>\n",
              "    <tr>\n",
              "      <th>0</th>\n",
              "      <td>b'WKA5OygbEKI_20'</td>\n",
              "      <td>b'131.7929705'</td>\n",
              "      <td>b'133.6886621'</td>\n",
              "      <td>True</td>\n",
              "      <td>True</td>\n",
              "      <td>True</td>\n",
              "    </tr>\n",
              "    <tr>\n",
              "      <th>1</th>\n",
              "      <td>b'WKA5OygbEKI_21'</td>\n",
              "      <td>b'133.6886621'</td>\n",
              "      <td>b'138.976644'</td>\n",
              "      <td>True</td>\n",
              "      <td>False</td>\n",
              "      <td>True</td>\n",
              "    </tr>\n",
              "    <tr>\n",
              "      <th>2</th>\n",
              "      <td>b'WKA5OygbEKI_22'</td>\n",
              "      <td>b'170.544898'</td>\n",
              "      <td>b'172.729932'</td>\n",
              "      <td>True</td>\n",
              "      <td>True</td>\n",
              "      <td>True</td>\n",
              "    </tr>\n",
              "    <tr>\n",
              "      <th>3</th>\n",
              "      <td>b'WKA5OygbEKI_1'</td>\n",
              "      <td>b'4.432426304'</td>\n",
              "      <td>b'8.852380952'</td>\n",
              "      <td>True</td>\n",
              "      <td>True</td>\n",
              "      <td>True</td>\n",
              "    </tr>\n",
              "    <tr>\n",
              "      <th>4</th>\n",
              "      <td>b'WKA5OygbEKI_3'</td>\n",
              "      <td>b'45.95804989'</td>\n",
              "      <td>b'49.69954649'</td>\n",
              "      <td>True</td>\n",
              "      <td>True</td>\n",
              "      <td>True</td>\n",
              "    </tr>\n",
              "    <tr>\n",
              "      <th>...</th>\n",
              "      <td>...</td>\n",
              "      <td>...</td>\n",
              "      <td>...</td>\n",
              "      <td>...</td>\n",
              "      <td>...</td>\n",
              "      <td>...</td>\n",
              "    </tr>\n",
              "    <tr>\n",
              "      <th>224</th>\n",
              "      <td>b'c5xsKMxpXnc_4'</td>\n",
              "      <td>b'133.2097506'</td>\n",
              "      <td>b'135.8836735'</td>\n",
              "      <td>True</td>\n",
              "      <td>True</td>\n",
              "      <td>True</td>\n",
              "    </tr>\n",
              "    <tr>\n",
              "      <th>225</th>\n",
              "      <td>b'c5xsKMxpXnc_7'</td>\n",
              "      <td>b'149.3829932'</td>\n",
              "      <td>b'152.4360544'</td>\n",
              "      <td>False</td>\n",
              "      <td>False</td>\n",
              "      <td>True</td>\n",
              "    </tr>\n",
              "    <tr>\n",
              "      <th>226</th>\n",
              "      <td>b'c5xsKMxpXnc_6'</td>\n",
              "      <td>b'146.7290249'</td>\n",
              "      <td>b'149.3829932'</td>\n",
              "      <td>False</td>\n",
              "      <td>False</td>\n",
              "      <td>True</td>\n",
              "    </tr>\n",
              "    <tr>\n",
              "      <th>227</th>\n",
              "      <td>b'c5xsKMxpXnc_9'</td>\n",
              "      <td>b'156.6764172'</td>\n",
              "      <td>b'159.0609977'</td>\n",
              "      <td>False</td>\n",
              "      <td>False</td>\n",
              "      <td>True</td>\n",
              "    </tr>\n",
              "    <tr>\n",
              "      <th>228</th>\n",
              "      <td>b'c5xsKMxpXnc_8'</td>\n",
              "      <td>b'154.1122449'</td>\n",
              "      <td>b'156.6764172'</td>\n",
              "      <td>False</td>\n",
              "      <td>False</td>\n",
              "      <td>True</td>\n",
              "    </tr>\n",
              "  </tbody>\n",
              "</table>\n",
              "<p>229 rows × 6 columns</p>\n",
              "</div>\n",
              "      <button class=\"colab-df-convert\" onclick=\"convertToInteractive('df-21adab63-53b6-47f6-ad97-bbfd0625d1da')\"\n",
              "              title=\"Convert this dataframe to an interactive table.\"\n",
              "              style=\"display:none;\">\n",
              "        \n",
              "  <svg xmlns=\"http://www.w3.org/2000/svg\" height=\"24px\"viewBox=\"0 0 24 24\"\n",
              "       width=\"24px\">\n",
              "    <path d=\"M0 0h24v24H0V0z\" fill=\"none\"/>\n",
              "    <path d=\"M18.56 5.44l.94 2.06.94-2.06 2.06-.94-2.06-.94-.94-2.06-.94 2.06-2.06.94zm-11 1L8.5 8.5l.94-2.06 2.06-.94-2.06-.94L8.5 2.5l-.94 2.06-2.06.94zm10 10l.94 2.06.94-2.06 2.06-.94-2.06-.94-.94-2.06-.94 2.06-2.06.94z\"/><path d=\"M17.41 7.96l-1.37-1.37c-.4-.4-.92-.59-1.43-.59-.52 0-1.04.2-1.43.59L10.3 9.45l-7.72 7.72c-.78.78-.78 2.05 0 2.83L4 21.41c.39.39.9.59 1.41.59.51 0 1.02-.2 1.41-.59l7.78-7.78 2.81-2.81c.8-.78.8-2.07 0-2.86zM5.41 20L4 18.59l7.72-7.72 1.47 1.35L5.41 20z\"/>\n",
              "  </svg>\n",
              "      </button>\n",
              "      \n",
              "  <style>\n",
              "    .colab-df-container {\n",
              "      display:flex;\n",
              "      flex-wrap:wrap;\n",
              "      gap: 12px;\n",
              "    }\n",
              "\n",
              "    .colab-df-convert {\n",
              "      background-color: #E8F0FE;\n",
              "      border: none;\n",
              "      border-radius: 50%;\n",
              "      cursor: pointer;\n",
              "      display: none;\n",
              "      fill: #1967D2;\n",
              "      height: 32px;\n",
              "      padding: 0 0 0 0;\n",
              "      width: 32px;\n",
              "    }\n",
              "\n",
              "    .colab-df-convert:hover {\n",
              "      background-color: #E2EBFA;\n",
              "      box-shadow: 0px 1px 2px rgba(60, 64, 67, 0.3), 0px 1px 3px 1px rgba(60, 64, 67, 0.15);\n",
              "      fill: #174EA6;\n",
              "    }\n",
              "\n",
              "    [theme=dark] .colab-df-convert {\n",
              "      background-color: #3B4455;\n",
              "      fill: #D2E3FC;\n",
              "    }\n",
              "\n",
              "    [theme=dark] .colab-df-convert:hover {\n",
              "      background-color: #434B5C;\n",
              "      box-shadow: 0px 1px 3px 1px rgba(0, 0, 0, 0.15);\n",
              "      filter: drop-shadow(0px 1px 2px rgba(0, 0, 0, 0.3));\n",
              "      fill: #FFFFFF;\n",
              "    }\n",
              "  </style>\n",
              "\n",
              "      <script>\n",
              "        const buttonEl =\n",
              "          document.querySelector('#df-21adab63-53b6-47f6-ad97-bbfd0625d1da button.colab-df-convert');\n",
              "        buttonEl.style.display =\n",
              "          google.colab.kernel.accessAllowed ? 'block' : 'none';\n",
              "\n",
              "        async function convertToInteractive(key) {\n",
              "          const element = document.querySelector('#df-21adab63-53b6-47f6-ad97-bbfd0625d1da');\n",
              "          const dataTable =\n",
              "            await google.colab.kernel.invokeFunction('convertToInteractive',\n",
              "                                                     [key], {});\n",
              "          if (!dataTable) return;\n",
              "\n",
              "          const docLinkHtml = 'Like what you see? Visit the ' +\n",
              "            '<a target=\"_blank\" href=https://colab.research.google.com/notebooks/data_table.ipynb>data table notebook</a>'\n",
              "            + ' to learn more about interactive tables.';\n",
              "          element.innerHTML = '';\n",
              "          dataTable['output_type'] = 'display_data';\n",
              "          await google.colab.output.renderOutput(dataTable, element);\n",
              "          const docLink = document.createElement('div');\n",
              "          docLink.innerHTML = docLinkHtml;\n",
              "          element.appendChild(docLink);\n",
              "        }\n",
              "      </script>\n",
              "    </div>\n",
              "  </div>\n",
              "  "
            ]
          },
          "metadata": {},
          "execution_count": 64
        }
      ]
    },
    {
      "cell_type": "code",
      "source": [
        "sum(valid_data_df.true_labels == valid_data_df.v_model1) / valid_data_df.v_model1.count()"
      ],
      "metadata": {
        "colab": {
          "base_uri": "https://localhost:8080/"
        },
        "id": "EX8Kd498xnIs",
        "outputId": "d3465ba4-fa84-4e89-ac65-e916314a6098"
      },
      "execution_count": 65,
      "outputs": [
        {
          "output_type": "execute_result",
          "data": {
            "text/plain": [
              "0.5982532751091703"
            ]
          },
          "metadata": {},
          "execution_count": 65
        }
      ]
    },
    {
      "cell_type": "code",
      "source": [
        "#confusion matrix\n",
        "v_model1_test_pred = v_model1.predict(data_test['vision'])[:,1] > 0.5\n",
        "tf.math.confusion_matrix(data_test_label_actual, v_model1_test_pred, 2)"
      ],
      "metadata": {
        "colab": {
          "base_uri": "https://localhost:8080/"
        },
        "outputId": "3c1b809c-b8d3-45ec-94c6-541e5558bbda",
        "id": "XQi6Dq0isjkY"
      },
      "execution_count": 132,
      "outputs": [
        {
          "output_type": "execute_result",
          "data": {
            "text/plain": [
              "<tf.Tensor: shape=(2, 2), dtype=int32, numpy=\n",
              "array([[263, 190],\n",
              "       [ 99, 134]], dtype=int32)>"
            ]
          },
          "metadata": {},
          "execution_count": 132
        }
      ]
    },
    {
      "cell_type": "code",
      "source": [
        "# roc curve\n",
        "tpr, fpr, threshold = metrics.roc_curve(data_test_label_actual, v_model1_test_pred)\n",
        "roc_auc = metrics.roc_auc_score(data_test_label_actual, v_model1_test_pred)"
      ],
      "metadata": {
        "id": "TT-_fIJosjkZ"
      },
      "execution_count": 174,
      "outputs": []
    },
    {
      "cell_type": "code",
      "source": [
        "lw= 2\n",
        "plt.plot(tpr,fpr,color=\"darkorange\",\n",
        "    lw=lw,\n",
        "    label=\"ROC curve (area = %0.2f)\" % roc_auc\n",
        "  )\n",
        "plt.plot([0,1], [0,1], color=\"navy\", lw=lw, linestyle=\"--\")\n",
        "plt.xlim([0.0, 1.0])\n",
        "plt.ylim([0.0, 1.05])\n",
        "plt.xlabel(\"False Positive Rate\")\n",
        "plt.ylabel(\"True Positive Rate\")\n",
        "plt.title(\"Receiver operating characteristic video model\")\n",
        "plt.legend(loc=\"lower right\")\n",
        "plt.show()"
      ],
      "metadata": {
        "colab": {
          "base_uri": "https://localhost:8080/",
          "height": 295
        },
        "outputId": "c05776f7-0dc9-4803-878c-972dff4b5cda",
        "id": "leXfKW0csjkZ"
      },
      "execution_count": 175,
      "outputs": [
        {
          "output_type": "display_data",
          "data": {
            "text/plain": [
              "<Figure size 432x288 with 1 Axes>"
            ],
            "image/png": "[encoded data removed]"
          },
          "metadata": {
            "needs_background": "light"
          }
        }
      ]
    },
    {
      "cell_type": "markdown",
      "source": [
        "### Analysis of Audio Data for Classification"
      ],
      "metadata": {
        "id": "BDhq2OW5OEeE"
      }
    },
    {
      "cell_type": "code",
      "source": [
        "data_train['audio'].shape"
      ],
      "metadata": {
        "colab": {
          "base_uri": "https://localhost:8080/"
        },
        "id": "-bkcxhNNOoZ7",
        "outputId": "e5c40714-85b3-4376-8f31-7196b1d6bb2d"
      },
      "execution_count": 66,
      "outputs": [
        {
          "output_type": "execute_result",
          "data": {
            "text/plain": [
              "(1284, 50, 5)"
            ]
          },
          "metadata": {},
          "execution_count": 66
        }
      ]
    },
    {
      "cell_type": "code",
      "source": [
        "# preparing the data for training\n",
        "AUTOTUNE = tf.data.experimental.AUTOTUNE\n",
        "buffer_size = 64\n",
        "batch_size = 64\n",
        "\n",
        "#############################################\n",
        "##### Dataset for Binary Classification #####\n",
        "#############################################\n",
        "\n",
        "train_audio_binary_ds = tf.data.Dataset.from_tensor_slices(\n",
        "                (\n",
        "                    data_train['audio'], \n",
        "                    data_train['labels']\n",
        "                )\n",
        "            ).map(lambda x,y: (x,[1, 0]) if y < 0 else (x,[0,1])).shuffle(buffer_size).batch(batch_size).prefetch(AUTOTUNE)\n",
        "\n",
        "valid_audio_binary_ds = tf.data.Dataset.from_tensor_slices(\n",
        "                (\n",
        "                    data_valid['audio'],\n",
        "                    data_valid['labels']\n",
        "                )\n",
        "            ).map(lambda x,y: (x,[1, 0]) if y < 0 else (x,[0,1])).shuffle(buffer_size).batch(batch_size).prefetch(AUTOTUNE)\n",
        "\n",
        "test_audio_binary_ds = tf.data.Dataset.from_tensor_slices(\n",
        "                (\n",
        "                    data_test['audio'],\n",
        "                    data_test['labels']\n",
        "                )\n",
        "            ).map(lambda x,y: (x,[1, 0]) if y < 0 else (x,[0,1])).shuffle(buffer_size).batch(batch_size).prefetch(AUTOTUNE)\n",
        "\n",
        "\n",
        "#################################################\n",
        "##### Dataset for Multiclass Classification #####\n",
        "#################################################\n",
        "\n",
        "def convert_one_hot(x, y):\n",
        "  y = tf.squeeze(y)\n",
        "  return (x, tf.one_hot(tf.cast(tf.floor(y+3), tf.int64), 7))\n",
        "\n",
        "train_audio_multi_ds = tf.data.Dataset.from_tensor_slices(\n",
        "                (\n",
        "                    data_train['audio'], \n",
        "                    data_train['labels']\n",
        "                )\n",
        "            ).map(convert_one_hot).shuffle(buffer_size).batch(batch_size).prefetch(AUTOTUNE)\n",
        "\n",
        "valid_audio_multi_ds = tf.data.Dataset.from_tensor_slices(\n",
        "                (\n",
        "                    data_valid['audio'],\n",
        "                    data_valid['labels']\n",
        "                )\n",
        "            ).map(convert_one_hot).shuffle(buffer_size).batch(batch_size).prefetch(AUTOTUNE)\n",
        "\n",
        "test_audio_multi_ds = tf.data.Dataset.from_tensor_slices(\n",
        "                (\n",
        "                    data_test['audio'],\n",
        "                    data_test['labels']\n",
        "                )\n",
        "            ).map(convert_one_hot).shuffle(buffer_size).batch(batch_size).prefetch(AUTOTUNE)"
      ],
      "metadata": {
        "id": "TpkUwEgpCNsU"
      },
      "execution_count": 67,
      "outputs": []
    },
    {
      "cell_type": "code",
      "source": [
        "#################################################\n",
        "##### Classification Model on Audio Data   #####\n",
        "#################################################\n",
        "\n",
        "a_seq_len = 50\n",
        "a_latent_dim = 5\n",
        "\n",
        "a_input_shape = (a_seq_len, a_latent_dim)\n",
        "a_mask_value = np.zeros(shape=(a_latent_dim,), dtype=np.float32)\n",
        "\n",
        "a_input = Input(shape=a_input_shape, name='a_input_layer')\n",
        "a_mask_lyr = Masking(mask_value=a_mask_value, name='a_mask_layer')\n",
        "a_lstm_lyr = LSTM(256, return_sequences=False, dropout=0.4, name='a_lstm_layer_1')\n",
        "a_dense_lyr = Dense(2, activation='softmax', name='a_dense_layer')\n",
        "\n",
        "\n",
        "x = a_mask_lyr(a_input)\n",
        "x = a_lstm_lyr(x)\n",
        "x = a_dense_lyr(x)\n",
        "\n",
        "a_model = Model(inputs=a_input, outputs=x, name='audio_classification_model')\n",
        "a_model.summary()"
      ],
      "metadata": {
        "colab": {
          "base_uri": "https://localhost:8080/"
        },
        "id": "93Y32H6xDXT8",
        "outputId": "15191457-7900-4bb9-edbb-ab5472be52a1"
      },
      "execution_count": 68,
      "outputs": [
        {
          "output_type": "stream",
          "name": "stdout",
          "text": [
            "Model: \"audio_classification_model\"\n",
            "_________________________________________________________________\n",
            " Layer (type)                Output Shape              Param #   \n",
            "=================================================================\n",
            " a_input_layer (InputLayer)  [(None, 50, 5)]           0         \n",
            "                                                                 \n",
            " a_mask_layer (Masking)      (None, 50, 5)             0         \n",
            "                                                                 \n",
            " a_lstm_layer_1 (LSTM)       (None, 256)               268288    \n",
            "                                                                 \n",
            " a_dense_layer (Dense)       (None, 2)                 514       \n",
            "                                                                 \n",
            "=================================================================\n",
            "Total params: 268,802\n",
            "Trainable params: 268,802\n",
            "Non-trainable params: 0\n",
            "_________________________________________________________________\n"
          ]
        }
      ]
    },
    {
      "cell_type": "code",
      "source": [
        "a_model.compile(optimizer='adam', loss='categorical_crossentropy', metrics='accuracy')\n",
        "a_history = a_model.fit(train_audio_binary_ds, validation_data=valid_audio_binary_ds, \n",
        "            epochs=500, callbacks=[tf.keras.callbacks.EarlyStopping(patience=10, restore_best_weights=True)])"
      ],
      "metadata": {
        "colab": {
          "base_uri": "https://localhost:8080/"
        },
        "id": "hJXA6q69D9tf",
        "outputId": "3b802e7b-c634-4562-ecea-b1ec329aa56b"
      },
      "execution_count": 69,
      "outputs": [
        {
          "output_type": "stream",
          "name": "stdout",
          "text": [
            "Epoch 1/500\n",
            "21/21 [==============================] - 7s 189ms/step - loss: 0.6881 - accuracy: 0.5530 - val_loss: 0.6808 - val_accuracy: 0.6070\n",
            "Epoch 2/500\n",
            "21/21 [==============================] - 3s 129ms/step - loss: 0.6860 - accuracy: 0.5646 - val_loss: 0.6713 - val_accuracy: 0.6026\n",
            "Epoch 3/500\n",
            "21/21 [==============================] - 3s 126ms/step - loss: 0.6767 - accuracy: 0.5864 - val_loss: 0.6782 - val_accuracy: 0.5852\n",
            "Epoch 4/500\n",
            "21/21 [==============================] - 3s 132ms/step - loss: 0.6784 - accuracy: 0.5872 - val_loss: 0.6682 - val_accuracy: 0.5939\n",
            "Epoch 5/500\n",
            "21/21 [==============================] - 3s 136ms/step - loss: 0.6746 - accuracy: 0.6020 - val_loss: 0.6764 - val_accuracy: 0.6026\n",
            "Epoch 6/500\n",
            "21/21 [==============================] - 3s 133ms/step - loss: 0.6765 - accuracy: 0.5888 - val_loss: 0.6676 - val_accuracy: 0.6070\n",
            "Epoch 7/500\n",
            "21/21 [==============================] - 3s 128ms/step - loss: 0.6701 - accuracy: 0.6044 - val_loss: 0.6687 - val_accuracy: 0.5983\n",
            "Epoch 8/500\n",
            "21/21 [==============================] - 3s 141ms/step - loss: 0.6705 - accuracy: 0.5966 - val_loss: 0.6703 - val_accuracy: 0.6114\n",
            "Epoch 9/500\n",
            "21/21 [==============================] - 3s 137ms/step - loss: 0.6765 - accuracy: 0.5872 - val_loss: 0.6723 - val_accuracy: 0.6026\n",
            "Epoch 10/500\n",
            "21/21 [==============================] - 3s 128ms/step - loss: 0.6718 - accuracy: 0.5911 - val_loss: 0.6649 - val_accuracy: 0.5895\n",
            "Epoch 11/500\n",
            "21/21 [==============================] - 3s 134ms/step - loss: 0.6687 - accuracy: 0.6044 - val_loss: 0.6725 - val_accuracy: 0.6201\n",
            "Epoch 12/500\n",
            "21/21 [==============================] - 3s 133ms/step - loss: 0.6701 - accuracy: 0.5903 - val_loss: 0.6640 - val_accuracy: 0.6070\n",
            "Epoch 13/500\n",
            "21/21 [==============================] - 3s 136ms/step - loss: 0.6671 - accuracy: 0.6051 - val_loss: 0.6707 - val_accuracy: 0.6201\n",
            "Epoch 14/500\n",
            "21/21 [==============================] - 3s 133ms/step - loss: 0.6709 - accuracy: 0.5981 - val_loss: 0.6624 - val_accuracy: 0.6114\n",
            "Epoch 15/500\n",
            "21/21 [==============================] - 3s 133ms/step - loss: 0.6655 - accuracy: 0.6059 - val_loss: 0.6631 - val_accuracy: 0.6114\n",
            "Epoch 16/500\n",
            "21/21 [==============================] - 3s 132ms/step - loss: 0.6675 - accuracy: 0.5935 - val_loss: 0.6692 - val_accuracy: 0.6070\n",
            "Epoch 17/500\n",
            "21/21 [==============================] - 3s 132ms/step - loss: 0.6724 - accuracy: 0.6106 - val_loss: 0.6613 - val_accuracy: 0.6114\n",
            "Epoch 18/500\n",
            "21/21 [==============================] - 3s 136ms/step - loss: 0.6625 - accuracy: 0.6114 - val_loss: 0.6663 - val_accuracy: 0.6026\n",
            "Epoch 19/500\n",
            "21/21 [==============================] - 3s 136ms/step - loss: 0.6679 - accuracy: 0.6036 - val_loss: 0.6655 - val_accuracy: 0.6201\n",
            "Epoch 20/500\n",
            "21/21 [==============================] - 3s 129ms/step - loss: 0.6646 - accuracy: 0.6098 - val_loss: 0.6641 - val_accuracy: 0.6245\n",
            "Epoch 21/500\n",
            "21/21 [==============================] - 3s 131ms/step - loss: 0.6679 - accuracy: 0.6020 - val_loss: 0.6669 - val_accuracy: 0.6288\n",
            "Epoch 22/500\n",
            "21/21 [==============================] - 3s 130ms/step - loss: 0.6717 - accuracy: 0.5880 - val_loss: 0.6592 - val_accuracy: 0.6157\n",
            "Epoch 23/500\n",
            "21/21 [==============================] - 3s 132ms/step - loss: 0.6665 - accuracy: 0.6044 - val_loss: 0.6706 - val_accuracy: 0.5852\n",
            "Epoch 24/500\n",
            "21/21 [==============================] - 3s 137ms/step - loss: 0.6678 - accuracy: 0.6012 - val_loss: 0.6584 - val_accuracy: 0.6288\n",
            "Epoch 25/500\n",
            "21/21 [==============================] - 3s 133ms/step - loss: 0.6608 - accuracy: 0.6176 - val_loss: 0.6645 - val_accuracy: 0.6070\n",
            "Epoch 26/500\n",
            "21/21 [==============================] - 3s 137ms/step - loss: 0.6677 - accuracy: 0.5966 - val_loss: 0.6622 - val_accuracy: 0.6201\n",
            "Epoch 27/500\n",
            "21/21 [==============================] - 3s 135ms/step - loss: 0.6631 - accuracy: 0.6067 - val_loss: 0.6617 - val_accuracy: 0.6114\n",
            "Epoch 28/500\n",
            "21/21 [==============================] - 3s 131ms/step - loss: 0.6655 - accuracy: 0.6083 - val_loss: 0.6627 - val_accuracy: 0.6201\n",
            "Epoch 29/500\n",
            "21/21 [==============================] - 3s 137ms/step - loss: 0.6540 - accuracy: 0.6184 - val_loss: 0.6658 - val_accuracy: 0.6332\n",
            "Epoch 30/500\n",
            "21/21 [==============================] - 3s 133ms/step - loss: 0.6581 - accuracy: 0.6192 - val_loss: 0.6619 - val_accuracy: 0.6157\n",
            "Epoch 31/500\n",
            "21/21 [==============================] - 3s 132ms/step - loss: 0.6669 - accuracy: 0.6012 - val_loss: 0.6600 - val_accuracy: 0.6376\n",
            "Epoch 32/500\n",
            "21/21 [==============================] - 3s 133ms/step - loss: 0.6595 - accuracy: 0.6223 - val_loss: 0.6598 - val_accuracy: 0.6332\n",
            "Epoch 33/500\n",
            "21/21 [==============================] - 3s 131ms/step - loss: 0.6629 - accuracy: 0.6129 - val_loss: 0.6575 - val_accuracy: 0.6463\n",
            "Epoch 34/500\n",
            "21/21 [==============================] - 3s 132ms/step - loss: 0.6639 - accuracy: 0.6051 - val_loss: 0.6595 - val_accuracy: 0.6201\n",
            "Epoch 35/500\n",
            "21/21 [==============================] - 3s 134ms/step - loss: 0.6608 - accuracy: 0.6160 - val_loss: 0.6630 - val_accuracy: 0.6070\n",
            "Epoch 36/500\n",
            "21/21 [==============================] - 3s 137ms/step - loss: 0.6636 - accuracy: 0.6137 - val_loss: 0.6597 - val_accuracy: 0.6288\n",
            "Epoch 37/500\n",
            "21/21 [==============================] - 3s 128ms/step - loss: 0.6653 - accuracy: 0.6036 - val_loss: 0.6566 - val_accuracy: 0.6114\n",
            "Epoch 38/500\n",
            "21/21 [==============================] - 3s 133ms/step - loss: 0.6585 - accuracy: 0.6223 - val_loss: 0.6651 - val_accuracy: 0.6201\n",
            "Epoch 39/500\n",
            "21/21 [==============================] - 3s 130ms/step - loss: 0.6581 - accuracy: 0.6106 - val_loss: 0.6588 - val_accuracy: 0.6245\n",
            "Epoch 40/500\n",
            "21/21 [==============================] - 3s 128ms/step - loss: 0.6582 - accuracy: 0.6168 - val_loss: 0.6576 - val_accuracy: 0.6419\n",
            "Epoch 41/500\n",
            "21/21 [==============================] - 3s 135ms/step - loss: 0.6591 - accuracy: 0.6168 - val_loss: 0.6616 - val_accuracy: 0.6288\n",
            "Epoch 42/500\n",
            "21/21 [==============================] - 3s 132ms/step - loss: 0.6703 - accuracy: 0.5935 - val_loss: 0.6541 - val_accuracy: 0.6419\n",
            "Epoch 43/500\n",
            "21/21 [==============================] - 3s 131ms/step - loss: 0.6610 - accuracy: 0.6176 - val_loss: 0.6542 - val_accuracy: 0.6376\n",
            "Epoch 44/500\n",
            "21/21 [==============================] - 3s 132ms/step - loss: 0.6575 - accuracy: 0.6207 - val_loss: 0.6574 - val_accuracy: 0.6288\n",
            "Epoch 45/500\n",
            "21/21 [==============================] - 3s 137ms/step - loss: 0.6644 - accuracy: 0.6044 - val_loss: 0.6544 - val_accuracy: 0.6245\n",
            "Epoch 46/500\n",
            "21/21 [==============================] - 3s 133ms/step - loss: 0.6592 - accuracy: 0.6083 - val_loss: 0.6629 - val_accuracy: 0.5983\n",
            "Epoch 47/500\n",
            "21/21 [==============================] - 3s 131ms/step - loss: 0.6581 - accuracy: 0.6215 - val_loss: 0.6567 - val_accuracy: 0.6201\n",
            "Epoch 48/500\n",
            "21/21 [==============================] - 3s 130ms/step - loss: 0.6576 - accuracy: 0.5958 - val_loss: 0.6565 - val_accuracy: 0.6419\n",
            "Epoch 49/500\n",
            "21/21 [==============================] - 3s 134ms/step - loss: 0.6607 - accuracy: 0.6238 - val_loss: 0.6586 - val_accuracy: 0.6157\n",
            "Epoch 50/500\n",
            "21/21 [==============================] - 3s 139ms/step - loss: 0.6606 - accuracy: 0.6246 - val_loss: 0.6639 - val_accuracy: 0.6114\n",
            "Epoch 51/500\n",
            "21/21 [==============================] - 3s 133ms/step - loss: 0.6588 - accuracy: 0.6207 - val_loss: 0.6528 - val_accuracy: 0.6288\n",
            "Epoch 52/500\n",
            "21/21 [==============================] - 3s 132ms/step - loss: 0.6584 - accuracy: 0.6160 - val_loss: 0.6542 - val_accuracy: 0.6288\n",
            "Epoch 53/500\n",
            "21/21 [==============================] - 3s 128ms/step - loss: 0.6541 - accuracy: 0.6215 - val_loss: 0.6572 - val_accuracy: 0.6288\n",
            "Epoch 54/500\n",
            "21/21 [==============================] - 3s 133ms/step - loss: 0.6514 - accuracy: 0.6238 - val_loss: 0.6562 - val_accuracy: 0.6419\n",
            "Epoch 55/500\n",
            "21/21 [==============================] - 3s 132ms/step - loss: 0.6550 - accuracy: 0.6137 - val_loss: 0.6548 - val_accuracy: 0.6070\n",
            "Epoch 56/500\n",
            "21/21 [==============================] - 3s 129ms/step - loss: 0.6612 - accuracy: 0.6012 - val_loss: 0.6549 - val_accuracy: 0.6114\n",
            "Epoch 57/500\n",
            "21/21 [==============================] - 3s 130ms/step - loss: 0.6557 - accuracy: 0.6223 - val_loss: 0.6577 - val_accuracy: 0.6245\n",
            "Epoch 58/500\n",
            "21/21 [==============================] - 3s 135ms/step - loss: 0.6562 - accuracy: 0.6192 - val_loss: 0.6540 - val_accuracy: 0.6201\n",
            "Epoch 59/500\n",
            "21/21 [==============================] - 3s 136ms/step - loss: 0.6545 - accuracy: 0.6277 - val_loss: 0.6594 - val_accuracy: 0.6201\n",
            "Epoch 60/500\n",
            "21/21 [==============================] - 3s 139ms/step - loss: 0.6520 - accuracy: 0.6254 - val_loss: 0.6628 - val_accuracy: 0.6201\n",
            "Epoch 61/500\n",
            "21/21 [==============================] - 3s 133ms/step - loss: 0.6506 - accuracy: 0.6192 - val_loss: 0.6582 - val_accuracy: 0.6376\n"
          ]
        }
      ]
    },
    {
      "cell_type": "code",
      "source": [
        "a_model.evaluate(test_audio_binary_ds)"
      ],
      "metadata": {
        "colab": {
          "base_uri": "https://localhost:8080/"
        },
        "id": "dG3aOEKOKNwE",
        "outputId": "0bfb96fd-ee72-4271-fb64-0ada5a14c852"
      },
      "execution_count": 70,
      "outputs": [
        {
          "output_type": "stream",
          "name": "stdout",
          "text": [
            "11/11 [==============================] - 0s 14ms/step - loss: 0.6981 - accuracy: 0.5423\n"
          ]
        },
        {
          "output_type": "execute_result",
          "data": {
            "text/plain": [
              "[0.6980618238449097, 0.5422740578651428]"
            ]
          },
          "metadata": {},
          "execution_count": 70
        }
      ]
    },
    {
      "cell_type": "code",
      "source": [
        "##############################################################\n",
        "##### Classification Model on Audio Data with Attention #####\n",
        "##############################################################\n",
        "\n",
        "a_seq_len = 50\n",
        "a_latent_dim = 5\n",
        "\n",
        "a_input_shape = (a_seq_len, a_latent_dim)\n",
        "a_mask_value = np.zeros(shape=(a_latent_dim,), dtype=np.float32)\n",
        "\n",
        "a_input = Input(shape=a_input_shape, name='a_input_layer')\n",
        "a_mask_lyr = Masking(mask_value=a_mask_value, name='a_mask_layer')\n",
        "a_lstm_lyr = LSTM(256, return_sequences=True, dropout=0.4, name='a_lstm_layer_1')\n",
        "a_att_lyr = AttentionLayer()\n",
        "a_dense_lyr_1 = Dense(32, activation='relu',  name='a_dense_layer_1')\n",
        "a_dense_lyr_2 = Dense(2, activation='softmax', name='a_dense_layer_2')\n",
        "\n",
        "x = a_mask_lyr(a_input)\n",
        "x = a_lstm_lyr(x)\n",
        "att_we, att_op = a_att_lyr(x)\n",
        "op_1 = a_dense_lyr_1(att_op)\n",
        "op_2 = a_dense_lyr_2(op_1)\n",
        "\n",
        "a_model1 = Model(inputs=a_input, outputs=op_2, name='audio_classification_model_with_attention')\n",
        "a_model1.summary()"
      ],
      "metadata": {
        "colab": {
          "base_uri": "https://localhost:8080/"
        },
        "id": "iOqagNNnD9qf",
        "outputId": "209b75b2-fbf1-4f90-edb1-caa8681e36dd"
      },
      "execution_count": 71,
      "outputs": [
        {
          "output_type": "stream",
          "name": "stdout",
          "text": [
            "Model: \"audio_classification_model_with_attention\"\n",
            "_________________________________________________________________\n",
            " Layer (type)                Output Shape              Param #   \n",
            "=================================================================\n",
            " a_input_layer (InputLayer)  [(None, 50, 5)]           0         \n",
            "                                                                 \n",
            " a_mask_layer (Masking)      (None, 50, 5)             0         \n",
            "                                                                 \n",
            " a_lstm_layer_1 (LSTM)       (None, 50, 256)           268288    \n",
            "                                                                 \n",
            " attention_layer_2 (Attentio  ((None, 50, 1),          306       \n",
            " nLayer)                      (None, 256))                       \n",
            "                                                                 \n",
            " a_dense_layer_1 (Dense)     (None, 32)                8224      \n",
            "                                                                 \n",
            " a_dense_layer_2 (Dense)     (None, 2)                 66        \n",
            "                                                                 \n",
            "=================================================================\n",
            "Total params: 276,884\n",
            "Trainable params: 276,884\n",
            "Non-trainable params: 0\n",
            "_________________________________________________________________\n"
          ]
        }
      ]
    },
    {
      "cell_type": "code",
      "source": [
        "a_model1.compile(optimizer='adam', loss='categorical_crossentropy', metrics='accuracy')\n",
        "a_history1 = a_model1.fit(train_audio_binary_ds, validation_data=valid_audio_binary_ds, \n",
        "            epochs=50, callbacks=[tf.keras.callbacks.EarlyStopping(patience=10, restore_best_weights=True)])"
      ],
      "metadata": {
        "colab": {
          "base_uri": "https://localhost:8080/"
        },
        "id": "DGFcPU73D9no",
        "outputId": "4309e6cd-26ec-4e5b-c7a2-6d113a3e078f"
      },
      "execution_count": 72,
      "outputs": [
        {
          "output_type": "stream",
          "name": "stdout",
          "text": [
            "Epoch 1/50\n",
            "21/21 [==============================] - 8s 190ms/step - loss: 0.6925 - accuracy: 0.5615 - val_loss: 0.6874 - val_accuracy: 0.5677\n",
            "Epoch 2/50\n",
            "21/21 [==============================] - 3s 131ms/step - loss: 0.6864 - accuracy: 0.5794 - val_loss: 0.6847 - val_accuracy: 0.5895\n",
            "Epoch 3/50\n",
            "21/21 [==============================] - 3s 131ms/step - loss: 0.6843 - accuracy: 0.5935 - val_loss: 0.6800 - val_accuracy: 0.6157\n",
            "Epoch 4/50\n",
            "21/21 [==============================] - 3s 134ms/step - loss: 0.6803 - accuracy: 0.5857 - val_loss: 0.6795 - val_accuracy: 0.6070\n",
            "Epoch 5/50\n",
            "21/21 [==============================] - 3s 135ms/step - loss: 0.6765 - accuracy: 0.5888 - val_loss: 0.6882 - val_accuracy: 0.5721\n",
            "Epoch 6/50\n",
            "21/21 [==============================] - 3s 138ms/step - loss: 0.6755 - accuracy: 0.5997 - val_loss: 0.6771 - val_accuracy: 0.5939\n",
            "Epoch 7/50\n",
            "21/21 [==============================] - 3s 129ms/step - loss: 0.6715 - accuracy: 0.5958 - val_loss: 0.6779 - val_accuracy: 0.5939\n",
            "Epoch 8/50\n",
            "21/21 [==============================] - 3s 135ms/step - loss: 0.6731 - accuracy: 0.5974 - val_loss: 0.6761 - val_accuracy: 0.5983\n",
            "Epoch 9/50\n",
            "21/21 [==============================] - 3s 130ms/step - loss: 0.6699 - accuracy: 0.6012 - val_loss: 0.6805 - val_accuracy: 0.5764\n",
            "Epoch 10/50\n",
            "21/21 [==============================] - 3s 130ms/step - loss: 0.6740 - accuracy: 0.5997 - val_loss: 0.6744 - val_accuracy: 0.5895\n",
            "Epoch 11/50\n",
            "21/21 [==============================] - 3s 128ms/step - loss: 0.6674 - accuracy: 0.6083 - val_loss: 0.6774 - val_accuracy: 0.5852\n",
            "Epoch 12/50\n",
            "21/21 [==============================] - 3s 131ms/step - loss: 0.6640 - accuracy: 0.6145 - val_loss: 0.6839 - val_accuracy: 0.5895\n",
            "Epoch 13/50\n",
            "21/21 [==============================] - 3s 139ms/step - loss: 0.6719 - accuracy: 0.6044 - val_loss: 0.6674 - val_accuracy: 0.6026\n",
            "Epoch 14/50\n",
            "21/21 [==============================] - 3s 132ms/step - loss: 0.6667 - accuracy: 0.6098 - val_loss: 0.6742 - val_accuracy: 0.5852\n",
            "Epoch 15/50\n",
            "21/21 [==============================] - 3s 126ms/step - loss: 0.6695 - accuracy: 0.6075 - val_loss: 0.6741 - val_accuracy: 0.5764\n",
            "Epoch 16/50\n",
            "21/21 [==============================] - 3s 130ms/step - loss: 0.6683 - accuracy: 0.6005 - val_loss: 0.6692 - val_accuracy: 0.6070\n",
            "Epoch 17/50\n",
            "21/21 [==============================] - 3s 131ms/step - loss: 0.6686 - accuracy: 0.5927 - val_loss: 0.6659 - val_accuracy: 0.6114\n",
            "Epoch 18/50\n",
            "21/21 [==============================] - 3s 128ms/step - loss: 0.6663 - accuracy: 0.6051 - val_loss: 0.6715 - val_accuracy: 0.5939\n",
            "Epoch 19/50\n",
            "21/21 [==============================] - 3s 129ms/step - loss: 0.6724 - accuracy: 0.5989 - val_loss: 0.6681 - val_accuracy: 0.6070\n",
            "Epoch 20/50\n",
            "21/21 [==============================] - 3s 131ms/step - loss: 0.6625 - accuracy: 0.6090 - val_loss: 0.6753 - val_accuracy: 0.5721\n",
            "Epoch 21/50\n",
            "21/21 [==============================] - 3s 129ms/step - loss: 0.6691 - accuracy: 0.6051 - val_loss: 0.6673 - val_accuracy: 0.5939\n",
            "Epoch 22/50\n",
            "21/21 [==============================] - 3s 133ms/step - loss: 0.6652 - accuracy: 0.6083 - val_loss: 0.6706 - val_accuracy: 0.5764\n",
            "Epoch 23/50\n",
            "21/21 [==============================] - 3s 131ms/step - loss: 0.6694 - accuracy: 0.5966 - val_loss: 0.6683 - val_accuracy: 0.6026\n",
            "Epoch 24/50\n",
            "21/21 [==============================] - 3s 129ms/step - loss: 0.6656 - accuracy: 0.6044 - val_loss: 0.6709 - val_accuracy: 0.5939\n",
            "Epoch 25/50\n",
            "21/21 [==============================] - 3s 130ms/step - loss: 0.6642 - accuracy: 0.6129 - val_loss: 0.6665 - val_accuracy: 0.6026\n",
            "Epoch 26/50\n",
            "21/21 [==============================] - 3s 134ms/step - loss: 0.6623 - accuracy: 0.6090 - val_loss: 0.6662 - val_accuracy: 0.6201\n",
            "Epoch 27/50\n",
            "21/21 [==============================] - 3s 129ms/step - loss: 0.6666 - accuracy: 0.6137 - val_loss: 0.6656 - val_accuracy: 0.6026\n",
            "Epoch 28/50\n",
            "21/21 [==============================] - 3s 130ms/step - loss: 0.6648 - accuracy: 0.6098 - val_loss: 0.6664 - val_accuracy: 0.6201\n",
            "Epoch 29/50\n",
            "21/21 [==============================] - 3s 129ms/step - loss: 0.6648 - accuracy: 0.6083 - val_loss: 0.6630 - val_accuracy: 0.6114\n",
            "Epoch 30/50\n",
            "21/21 [==============================] - 3s 136ms/step - loss: 0.6654 - accuracy: 0.6067 - val_loss: 0.6637 - val_accuracy: 0.6157\n",
            "Epoch 31/50\n",
            "21/21 [==============================] - 3s 127ms/step - loss: 0.6645 - accuracy: 0.6160 - val_loss: 0.6665 - val_accuracy: 0.6157\n",
            "Epoch 32/50\n",
            "21/21 [==============================] - 3s 130ms/step - loss: 0.6650 - accuracy: 0.5974 - val_loss: 0.6659 - val_accuracy: 0.6157\n",
            "Epoch 33/50\n",
            "21/21 [==============================] - 3s 127ms/step - loss: 0.6661 - accuracy: 0.6028 - val_loss: 0.6655 - val_accuracy: 0.6201\n",
            "Epoch 34/50\n",
            "21/21 [==============================] - 3s 131ms/step - loss: 0.6658 - accuracy: 0.6137 - val_loss: 0.6652 - val_accuracy: 0.6288\n",
            "Epoch 35/50\n",
            "21/21 [==============================] - 3s 128ms/step - loss: 0.6650 - accuracy: 0.6059 - val_loss: 0.6649 - val_accuracy: 0.5983\n",
            "Epoch 36/50\n",
            "21/21 [==============================] - 3s 130ms/step - loss: 0.6601 - accuracy: 0.6192 - val_loss: 0.6654 - val_accuracy: 0.6288\n",
            "Epoch 37/50\n",
            "21/21 [==============================] - 3s 133ms/step - loss: 0.6657 - accuracy: 0.6114 - val_loss: 0.6593 - val_accuracy: 0.6376\n",
            "Epoch 38/50\n",
            "21/21 [==============================] - 3s 130ms/step - loss: 0.6640 - accuracy: 0.6106 - val_loss: 0.6585 - val_accuracy: 0.6419\n",
            "Epoch 39/50\n",
            "21/21 [==============================] - 3s 136ms/step - loss: 0.6632 - accuracy: 0.6137 - val_loss: 0.6591 - val_accuracy: 0.6201\n",
            "Epoch 40/50\n",
            "21/21 [==============================] - 3s 132ms/step - loss: 0.6634 - accuracy: 0.6114 - val_loss: 0.6596 - val_accuracy: 0.6376\n",
            "Epoch 41/50\n",
            "21/21 [==============================] - 3s 128ms/step - loss: 0.6633 - accuracy: 0.6083 - val_loss: 0.6605 - val_accuracy: 0.6332\n",
            "Epoch 42/50\n",
            "21/21 [==============================] - 3s 132ms/step - loss: 0.6605 - accuracy: 0.6083 - val_loss: 0.6584 - val_accuracy: 0.6288\n",
            "Epoch 43/50\n",
            "21/21 [==============================] - 3s 131ms/step - loss: 0.6597 - accuracy: 0.6129 - val_loss: 0.6592 - val_accuracy: 0.6245\n",
            "Epoch 44/50\n",
            "21/21 [==============================] - 3s 133ms/step - loss: 0.6611 - accuracy: 0.6020 - val_loss: 0.6590 - val_accuracy: 0.6157\n",
            "Epoch 45/50\n",
            "21/21 [==============================] - 3s 133ms/step - loss: 0.6643 - accuracy: 0.6036 - val_loss: 0.6593 - val_accuracy: 0.6201\n",
            "Epoch 46/50\n",
            "21/21 [==============================] - 3s 132ms/step - loss: 0.6611 - accuracy: 0.6059 - val_loss: 0.6645 - val_accuracy: 0.6070\n",
            "Epoch 47/50\n",
            "21/21 [==============================] - 3s 132ms/step - loss: 0.6593 - accuracy: 0.6176 - val_loss: 0.6613 - val_accuracy: 0.6070\n",
            "Epoch 48/50\n",
            "21/21 [==============================] - 3s 134ms/step - loss: 0.6720 - accuracy: 0.5935 - val_loss: 0.6603 - val_accuracy: 0.6157\n",
            "Epoch 49/50\n",
            "21/21 [==============================] - 3s 130ms/step - loss: 0.6618 - accuracy: 0.6114 - val_loss: 0.6592 - val_accuracy: 0.6157\n",
            "Epoch 50/50\n",
            "21/21 [==============================] - 3s 135ms/step - loss: 0.6591 - accuracy: 0.6176 - val_loss: 0.6626 - val_accuracy: 0.5983\n"
          ]
        }
      ]
    },
    {
      "cell_type": "code",
      "source": [
        "a_model1.evaluate(test_audio_binary_ds)"
      ],
      "metadata": {
        "colab": {
          "base_uri": "https://localhost:8080/"
        },
        "id": "XK_X6LAFD9kt",
        "outputId": "460d756a-9b6f-4c80-8570-0891430bed13"
      },
      "execution_count": 73,
      "outputs": [
        {
          "output_type": "stream",
          "name": "stdout",
          "text": [
            "11/11 [==============================] - 0s 14ms/step - loss: 0.6912 - accuracy: 0.5627\n"
          ]
        },
        {
          "output_type": "execute_result",
          "data": {
            "text/plain": [
              "[0.6912454962730408, 0.5626822113990784]"
            ]
          },
          "metadata": {},
          "execution_count": 73
        }
      ]
    },
    {
      "cell_type": "code",
      "source": [
        "valid_data_df['a_model1']= a_model1.predict(data_valid['audio'])[:,1] >= 0.5\n",
        "valid_data_df"
      ],
      "metadata": {
        "colab": {
          "base_uri": "https://localhost:8080/",
          "height": 424
        },
        "id": "vYuJprmZ2_Ok",
        "outputId": "ec2dc911-b60d-44ce-c6ca-a20522666fe9"
      },
      "execution_count": 74,
      "outputs": [
        {
          "output_type": "execute_result",
          "data": {
            "text/plain": [
              "                f_name          s_time          e_time  true_labels  t_model  \\\n",
              "0    b'WKA5OygbEKI_20'  b'131.7929705'  b'133.6886621'         True     True   \n",
              "1    b'WKA5OygbEKI_21'  b'133.6886621'   b'138.976644'         True    False   \n",
              "2    b'WKA5OygbEKI_22'   b'170.544898'   b'172.729932'         True     True   \n",
              "3     b'WKA5OygbEKI_1'  b'4.432426304'  b'8.852380952'         True     True   \n",
              "4     b'WKA5OygbEKI_3'  b'45.95804989'  b'49.69954649'         True     True   \n",
              "..                 ...             ...             ...          ...      ...   \n",
              "224   b'c5xsKMxpXnc_4'  b'133.2097506'  b'135.8836735'         True     True   \n",
              "225   b'c5xsKMxpXnc_7'  b'149.3829932'  b'152.4360544'        False    False   \n",
              "226   b'c5xsKMxpXnc_6'  b'146.7290249'  b'149.3829932'        False    False   \n",
              "227   b'c5xsKMxpXnc_9'  b'156.6764172'  b'159.0609977'        False    False   \n",
              "228   b'c5xsKMxpXnc_8'  b'154.1122449'  b'156.6764172'        False    False   \n",
              "\n",
              "     v_model1  a_model1  \n",
              "0        True      True  \n",
              "1        True      True  \n",
              "2        True      True  \n",
              "3        True      True  \n",
              "4        True      True  \n",
              "..        ...       ...  \n",
              "224      True     False  \n",
              "225      True     False  \n",
              "226      True      True  \n",
              "227      True      True  \n",
              "228      True      True  \n",
              "\n",
              "[229 rows x 7 columns]"
            ],
            "text/html": [
              "\n",
              "  <div id=\"df-ce2111b5-99dd-4d65-bf67-474030d5b7c6\">\n",
              "    <div class=\"colab-df-container\">\n",
              "      <div>\n",
              "<style scoped>\n",
              "    .dataframe tbody tr th:only-of-type {\n",
              "        vertical-align: middle;\n",
              "    }\n",
              "\n",
              "    .dataframe tbody tr th {\n",
              "        vertical-align: top;\n",
              "    }\n",
              "\n",
              "    .dataframe thead th {\n",
              "        text-align: right;\n",
              "    }\n",
              "</style>\n",
              "<table border=\"1\" class=\"dataframe\">\n",
              "  <thead>\n",
              "    <tr style=\"text-align: right;\">\n",
              "      <th></th>\n",
              "      <th>f_name</th>\n",
              "      <th>s_time</th>\n",
              "      <th>e_time</th>\n",
              "      <th>true_labels</th>\n",
              "      <th>t_model</th>\n",
              "      <th>v_model1</th>\n",
              "      <th>a_model1</th>\n",
              "    </tr>\n",
              "  </thead>\n",
              "  <tbody>\n",
              "    <tr>\n",
              "      <th>0</th>\n",
              "      <td>b'WKA5OygbEKI_20'</td>\n",
              "      <td>b'131.7929705'</td>\n",
              "      <td>b'133.6886621'</td>\n",
              "      <td>True</td>\n",
              "      <td>True</td>\n",
              "      <td>True</td>\n",
              "      <td>True</td>\n",
              "    </tr>\n",
              "    <tr>\n",
              "      <th>1</th>\n",
              "      <td>b'WKA5OygbEKI_21'</td>\n",
              "      <td>b'133.6886621'</td>\n",
              "      <td>b'138.976644'</td>\n",
              "      <td>True</td>\n",
              "      <td>False</td>\n",
              "      <td>True</td>\n",
              "      <td>True</td>\n",
              "    </tr>\n",
              "    <tr>\n",
              "      <th>2</th>\n",
              "      <td>b'WKA5OygbEKI_22'</td>\n",
              "      <td>b'170.544898'</td>\n",
              "      <td>b'172.729932'</td>\n",
              "      <td>True</td>\n",
              "      <td>True</td>\n",
              "      <td>True</td>\n",
              "      <td>True</td>\n",
              "    </tr>\n",
              "    <tr>\n",
              "      <th>3</th>\n",
              "      <td>b'WKA5OygbEKI_1'</td>\n",
              "      <td>b'4.432426304'</td>\n",
              "      <td>b'8.852380952'</td>\n",
              "      <td>True</td>\n",
              "      <td>True</td>\n",
              "      <td>True</td>\n",
              "      <td>True</td>\n",
              "    </tr>\n",
              "    <tr>\n",
              "      <th>4</th>\n",
              "      <td>b'WKA5OygbEKI_3'</td>\n",
              "      <td>b'45.95804989'</td>\n",
              "      <td>b'49.69954649'</td>\n",
              "      <td>True</td>\n",
              "      <td>True</td>\n",
              "      <td>True</td>\n",
              "      <td>True</td>\n",
              "    </tr>\n",
              "    <tr>\n",
              "      <th>...</th>\n",
              "      <td>...</td>\n",
              "      <td>...</td>\n",
              "      <td>...</td>\n",
              "      <td>...</td>\n",
              "      <td>...</td>\n",
              "      <td>...</td>\n",
              "      <td>...</td>\n",
              "    </tr>\n",
              "    <tr>\n",
              "      <th>224</th>\n",
              "      <td>b'c5xsKMxpXnc_4'</td>\n",
              "      <td>b'133.2097506'</td>\n",
              "      <td>b'135.8836735'</td>\n",
              "      <td>True</td>\n",
              "      <td>True</td>\n",
              "      <td>True</td>\n",
              "      <td>False</td>\n",
              "    </tr>\n",
              "    <tr>\n",
              "      <th>225</th>\n",
              "      <td>b'c5xsKMxpXnc_7'</td>\n",
              "      <td>b'149.3829932'</td>\n",
              "      <td>b'152.4360544'</td>\n",
              "      <td>False</td>\n",
              "      <td>False</td>\n",
              "      <td>True</td>\n",
              "      <td>False</td>\n",
              "    </tr>\n",
              "    <tr>\n",
              "      <th>226</th>\n",
              "      <td>b'c5xsKMxpXnc_6'</td>\n",
              "      <td>b'146.7290249'</td>\n",
              "      <td>b'149.3829932'</td>\n",
              "      <td>False</td>\n",
              "      <td>False</td>\n",
              "      <td>True</td>\n",
              "      <td>True</td>\n",
              "    </tr>\n",
              "    <tr>\n",
              "      <th>227</th>\n",
              "      <td>b'c5xsKMxpXnc_9'</td>\n",
              "      <td>b'156.6764172'</td>\n",
              "      <td>b'159.0609977'</td>\n",
              "      <td>False</td>\n",
              "      <td>False</td>\n",
              "      <td>True</td>\n",
              "      <td>True</td>\n",
              "    </tr>\n",
              "    <tr>\n",
              "      <th>228</th>\n",
              "      <td>b'c5xsKMxpXnc_8'</td>\n",
              "      <td>b'154.1122449'</td>\n",
              "      <td>b'156.6764172'</td>\n",
              "      <td>False</td>\n",
              "      <td>False</td>\n",
              "      <td>True</td>\n",
              "      <td>True</td>\n",
              "    </tr>\n",
              "  </tbody>\n",
              "</table>\n",
              "<p>229 rows × 7 columns</p>\n",
              "</div>\n",
              "      <button class=\"colab-df-convert\" onclick=\"convertToInteractive('df-ce2111b5-99dd-4d65-bf67-474030d5b7c6')\"\n",
              "              title=\"Convert this dataframe to an interactive table.\"\n",
              "              style=\"display:none;\">\n",
              "        \n",
              "  <svg xmlns=\"http://www.w3.org/2000/svg\" height=\"24px\"viewBox=\"0 0 24 24\"\n",
              "       width=\"24px\">\n",
              "    <path d=\"M0 0h24v24H0V0z\" fill=\"none\"/>\n",
              "    <path d=\"M18.56 5.44l.94 2.06.94-2.06 2.06-.94-2.06-.94-.94-2.06-.94 2.06-2.06.94zm-11 1L8.5 8.5l.94-2.06 2.06-.94-2.06-.94L8.5 2.5l-.94 2.06-2.06.94zm10 10l.94 2.06.94-2.06 2.06-.94-2.06-.94-.94-2.06-.94 2.06-2.06.94z\"/><path d=\"M17.41 7.96l-1.37-1.37c-.4-.4-.92-.59-1.43-.59-.52 0-1.04.2-1.43.59L10.3 9.45l-7.72 7.72c-.78.78-.78 2.05 0 2.83L4 21.41c.39.39.9.59 1.41.59.51 0 1.02-.2 1.41-.59l7.78-7.78 2.81-2.81c.8-.78.8-2.07 0-2.86zM5.41 20L4 18.59l7.72-7.72 1.47 1.35L5.41 20z\"/>\n",
              "  </svg>\n",
              "      </button>\n",
              "      \n",
              "  <style>\n",
              "    .colab-df-container {\n",
              "      display:flex;\n",
              "      flex-wrap:wrap;\n",
              "      gap: 12px;\n",
              "    }\n",
              "\n",
              "    .colab-df-convert {\n",
              "      background-color: #E8F0FE;\n",
              "      border: none;\n",
              "      border-radius: 50%;\n",
              "      cursor: pointer;\n",
              "      display: none;\n",
              "      fill: #1967D2;\n",
              "      height: 32px;\n",
              "      padding: 0 0 0 0;\n",
              "      width: 32px;\n",
              "    }\n",
              "\n",
              "    .colab-df-convert:hover {\n",
              "      background-color: #E2EBFA;\n",
              "      box-shadow: 0px 1px 2px rgba(60, 64, 67, 0.3), 0px 1px 3px 1px rgba(60, 64, 67, 0.15);\n",
              "      fill: #174EA6;\n",
              "    }\n",
              "\n",
              "    [theme=dark] .colab-df-convert {\n",
              "      background-color: #3B4455;\n",
              "      fill: #D2E3FC;\n",
              "    }\n",
              "\n",
              "    [theme=dark] .colab-df-convert:hover {\n",
              "      background-color: #434B5C;\n",
              "      box-shadow: 0px 1px 3px 1px rgba(0, 0, 0, 0.15);\n",
              "      filter: drop-shadow(0px 1px 2px rgba(0, 0, 0, 0.3));\n",
              "      fill: #FFFFFF;\n",
              "    }\n",
              "  </style>\n",
              "\n",
              "      <script>\n",
              "        const buttonEl =\n",
              "          document.querySelector('#df-ce2111b5-99dd-4d65-bf67-474030d5b7c6 button.colab-df-convert');\n",
              "        buttonEl.style.display =\n",
              "          google.colab.kernel.accessAllowed ? 'block' : 'none';\n",
              "\n",
              "        async function convertToInteractive(key) {\n",
              "          const element = document.querySelector('#df-ce2111b5-99dd-4d65-bf67-474030d5b7c6');\n",
              "          const dataTable =\n",
              "            await google.colab.kernel.invokeFunction('convertToInteractive',\n",
              "                                                     [key], {});\n",
              "          if (!dataTable) return;\n",
              "\n",
              "          const docLinkHtml = 'Like what you see? Visit the ' +\n",
              "            '<a target=\"_blank\" href=https://colab.research.google.com/notebooks/data_table.ipynb>data table notebook</a>'\n",
              "            + ' to learn more about interactive tables.';\n",
              "          element.innerHTML = '';\n",
              "          dataTable['output_type'] = 'display_data';\n",
              "          await google.colab.output.renderOutput(dataTable, element);\n",
              "          const docLink = document.createElement('div');\n",
              "          docLink.innerHTML = docLinkHtml;\n",
              "          element.appendChild(docLink);\n",
              "        }\n",
              "      </script>\n",
              "    </div>\n",
              "  </div>\n",
              "  "
            ]
          },
          "metadata": {},
          "execution_count": 74
        }
      ]
    },
    {
      "cell_type": "code",
      "source": [],
      "metadata": {
        "id": "ArXcsiYytK0Z"
      },
      "execution_count": null,
      "outputs": []
    },
    {
      "cell_type": "code",
      "source": [
        "#confusion matrix\n",
        "a_model1_test_pred = a_model1.predict(data_test['audio'])[:,1] > 0.5\n",
        "tf.math.confusion_matrix(data_test_label_actual, a_model1_test_pred, 2)"
      ],
      "metadata": {
        "colab": {
          "base_uri": "https://localhost:8080/"
        },
        "outputId": "adea102e-286b-4d43-bd1b-0e96707a899b",
        "id": "L8ULVdJttLG2"
      },
      "execution_count": 136,
      "outputs": [
        {
          "output_type": "execute_result",
          "data": {
            "text/plain": [
              "<tf.Tensor: shape=(2, 2), dtype=int32, numpy=\n",
              "array([[130, 323],\n",
              "       [ 27, 206]], dtype=int32)>"
            ]
          },
          "metadata": {},
          "execution_count": 136
        }
      ]
    },
    {
      "cell_type": "code",
      "source": [
        "# roc curve\n",
        "tpr, fpr, threshold = metrics.roc_curve(data_test_label_actual, a_model1_test_pred)\n",
        "roc_auc = metrics.roc_auc_score(data_test_label_actual, a_model1_test_pred)"
      ],
      "metadata": {
        "id": "jucn1Z_stLG4"
      },
      "execution_count": 176,
      "outputs": []
    },
    {
      "cell_type": "code",
      "source": [
        "lw= 2\n",
        "plt.plot(tpr,fpr,color=\"darkorange\",\n",
        "    lw=lw,\n",
        "    label=\"ROC curve (area = %0.2f)\" % roc_auc\n",
        "  )\n",
        "plt.plot([0,1], [0,1], color=\"navy\", lw=lw, linestyle=\"--\")\n",
        "plt.xlim([0.0, 1.0])\n",
        "plt.ylim([0.0, 1.05])\n",
        "plt.xlabel(\"False Positive Rate\")\n",
        "plt.ylabel(\"True Positive Rate\")\n",
        "plt.title(\"Receiver operating characteristic audio model\")\n",
        "plt.legend(loc=\"lower right\")\n",
        "plt.show()"
      ],
      "metadata": {
        "colab": {
          "base_uri": "https://localhost:8080/",
          "height": 295
        },
        "outputId": "297926f9-40fc-4441-f985-8c7bfbce76d9",
        "id": "KkiURJmCtLG4"
      },
      "execution_count": 178,
      "outputs": [
        {
          "output_type": "display_data",
          "data": {
            "text/plain": [
              "<Figure size 432x288 with 1 Axes>"
            ],
            "image/png": "[encoded data removed]"
          },
          "metadata": {
            "needs_background": "light"
          }
        }
      ]
    },
    {
      "cell_type": "markdown",
      "source": [
        "### T + V"
      ],
      "metadata": {
        "id": "QiVuK8bTvbuP"
      }
    },
    {
      "cell_type": "code",
      "source": [
        "# preparing the data for training\n",
        "AUTOTUNE = tf.data.experimental.AUTOTUNE\n",
        "buffer_size = 64\n",
        "batch_size = 64\n",
        "\n",
        "###################################################################\n",
        "##### Dataset for Binary Classification Text and Visual Model #####\n",
        "###################################################################\n",
        "\n",
        "train_tv_binary_ds = tf.data.Dataset.from_tensor_slices(\n",
        "                (\n",
        "                    (data_train['text'],\n",
        "                    data_train['vision']), \n",
        "                    data_train['labels']\n",
        "                )\n",
        "            ).map(lambda x,y: (x,[1, 0]) if y < 0 else (x,[0,1])).shuffle(buffer_size).batch(batch_size).prefetch(AUTOTUNE)\n",
        "\n",
        "valid_tv_binary_ds = tf.data.Dataset.from_tensor_slices(\n",
        "                (\n",
        "                    (data_valid['text'],\n",
        "                    data_valid['vision']),\n",
        "                    data_valid['labels']\n",
        "                )\n",
        "            ).map(lambda x,y: (x,[1, 0]) if y < 0 else (x,[0,1])).shuffle(buffer_size).batch(batch_size).prefetch(AUTOTUNE)\n",
        "\n",
        "test_tv_binary_ds = tf.data.Dataset.from_tensor_slices(\n",
        "                (\n",
        "                    (data_test['text'],\n",
        "                    data_test['vision']),\n",
        "                    data_test['labels']\n",
        "                )\n",
        "            ).map(lambda x,y: (x,[1, 0]) if y < 0 else (x,[0,1])).shuffle(buffer_size).batch(batch_size).prefetch(AUTOTUNE)"
      ],
      "metadata": {
        "id": "Kn9bx8Rvj7Fw"
      },
      "execution_count": 75,
      "outputs": []
    },
    {
      "cell_type": "code",
      "source": [
        "for data in train_tv_binary_ds.take(1):\n",
        "  print(data)"
      ],
      "metadata": {
        "id": "UZkjpRssk76c",
        "outputId": "5795878e-24bc-4e56-a33c-60b01199b971",
        "colab": {
          "base_uri": "https://localhost:8080/"
        }
      },
      "execution_count": 76,
      "outputs": [
        {
          "output_type": "stream",
          "name": "stdout",
          "text": [
            "((<tf.Tensor: shape=(64, 50, 300), dtype=float32, numpy=\n",
            "array([[[ 0.       ,  0.       ,  0.       , ...,  0.       ,\n",
            "          0.       ,  0.       ],\n",
            "        [ 0.       ,  0.       ,  0.       , ...,  0.       ,\n",
            "          0.       ,  0.       ],\n",
            "        [ 0.       ,  0.       ,  0.       , ...,  0.       ,\n",
            "          0.       ,  0.       ],\n",
            "        ...,\n",
            "        [-0.13889  ,  0.10991  , -0.20471  , ..., -0.083825 ,\n",
            "          0.49241  , -0.045157 ],\n",
            "        [-0.20639  , -0.11403  , -0.11346  , ..., -0.2082   ,\n",
            "          0.307    , -0.25052  ],\n",
            "        [-0.8414   ,  0.59629  ,  0.2473   , ..., -0.29299  ,\n",
            "          0.035984 , -0.4871   ]],\n",
            "\n",
            "       [[ 0.       ,  0.       ,  0.       , ...,  0.       ,\n",
            "          0.       ,  0.       ],\n",
            "        [ 0.       ,  0.       ,  0.       , ...,  0.       ,\n",
            "          0.       ,  0.       ],\n",
            "        [ 0.       ,  0.       ,  0.       , ...,  0.       ,\n",
            "          0.       ,  0.       ],\n",
            "        ...,\n",
            "        [ 0.27204  , -0.06203  , -0.1884   , ...,  0.13015  ,\n",
            "         -0.18317  ,  0.1323   ],\n",
            "        [ 0.2998   ,  0.23987  , -0.15863  , ..., -0.048577 ,\n",
            "         -0.0017002,  0.25579  ],\n",
            "        [ 0.054071 ,  0.1111   , -0.14557  , ..., -0.27098  ,\n",
            "          0.044033 ,  0.003769 ]],\n",
            "\n",
            "       [[ 0.       ,  0.       ,  0.       , ...,  0.       ,\n",
            "          0.       ,  0.       ],\n",
            "        [ 0.       ,  0.       ,  0.       , ...,  0.       ,\n",
            "          0.       ,  0.       ],\n",
            "        [ 0.       ,  0.       ,  0.       , ...,  0.       ,\n",
            "          0.       ,  0.       ],\n",
            "        ...,\n",
            "        [ 0.27204  , -0.06203  , -0.1884   , ...,  0.13015  ,\n",
            "         -0.18317  ,  0.1323   ],\n",
            "        [ 0.2071   , -0.47656  ,  0.15479  , ..., -0.26411  ,\n",
            "         -0.16523  ,  0.23532  ],\n",
            "        [-0.13178  ,  0.32677  , -0.31246  , ..., -0.33016  ,\n",
            "         -0.28239  ,  0.20554  ]],\n",
            "\n",
            "       ...,\n",
            "\n",
            "       [[ 0.       ,  0.       ,  0.       , ...,  0.       ,\n",
            "          0.       ,  0.       ],\n",
            "        [ 0.       ,  0.       ,  0.       , ...,  0.       ,\n",
            "          0.       ,  0.       ],\n",
            "        [ 0.       ,  0.       ,  0.       , ...,  0.       ,\n",
            "          0.       ,  0.       ],\n",
            "        ...,\n",
            "        [-0.26355  ,  0.20987  , -0.41154  , ...,  0.24636  ,\n",
            "          0.37747  ,  0.6181   ],\n",
            "        [-0.2242   ,  0.14423  , -0.098119 , ..., -0.11186  ,\n",
            "          0.2869   ,  0.071667 ],\n",
            "        [ 0.09852  ,  0.25001  , -0.27018  , ..., -0.062639 ,\n",
            "          0.24424  ,  0.17779  ]],\n",
            "\n",
            "       [[ 0.       ,  0.       ,  0.       , ...,  0.       ,\n",
            "          0.       ,  0.       ],\n",
            "        [ 0.       ,  0.       ,  0.       , ...,  0.       ,\n",
            "          0.       ,  0.       ],\n",
            "        [ 0.       ,  0.       ,  0.       , ...,  0.       ,\n",
            "          0.       ,  0.       ],\n",
            "        ...,\n",
            "        [-0.10307  , -0.01104  , -0.25669  , ..., -0.16931  ,\n",
            "          0.0058846, -0.43268  ],\n",
            "        [-1.1728   ,  0.24514  , -0.38037  , ...,  0.058612 ,\n",
            "         -0.46592  , -0.17416  ],\n",
            "        [ 0.0038175,  0.11622  , -0.37608  , ..., -0.17798  ,\n",
            "         -0.1324   , -0.016241 ]],\n",
            "\n",
            "       [[ 0.       ,  0.       ,  0.       , ...,  0.       ,\n",
            "          0.       ,  0.       ],\n",
            "        [ 0.       ,  0.       ,  0.       , ...,  0.       ,\n",
            "          0.       ,  0.       ],\n",
            "        [ 0.       ,  0.       ,  0.       , ...,  0.       ,\n",
            "          0.       ,  0.       ],\n",
            "        ...,\n",
            "        [-0.15097  ,  0.29794  , -0.093572 , ..., -0.091308 ,\n",
            "          0.03936  ,  0.32585  ],\n",
            "        [ 0.060216 ,  0.21799  , -0.04249  , ...,  0.11709  ,\n",
            "         -0.16692  , -0.094085 ],\n",
            "        [-0.99977  , -0.1947   , -0.41958  , ...,  0.44761  ,\n",
            "          0.029474 ,  0.22546  ]]], dtype=float32)>, <tf.Tensor: shape=(64, 50, 20), dtype=float64, numpy=\n",
            "array([[[ 0.        ,  0.        ,  0.        , ...,  0.        ,\n",
            "          0.        ,  0.        ],\n",
            "        [ 0.        ,  0.        ,  0.        , ...,  0.        ,\n",
            "          0.        ,  0.        ],\n",
            "        [ 0.        ,  0.        ,  0.        , ...,  0.        ,\n",
            "          0.        ,  0.        ],\n",
            "        ...,\n",
            "        [-0.15002287, -0.42474356, -0.0645597 , ..., -0.15026372,\n",
            "         -0.21768905, -0.28307843],\n",
            "        [-0.18258126, -0.29370892,  0.0143151 , ..., -0.21444565,\n",
            "         -0.20922444, -0.16887789],\n",
            "        [-0.18790563, -0.43591127, -0.01118399, ..., -0.4028586 ,\n",
            "         -0.12364316, -0.07815511]],\n",
            "\n",
            "       [[ 0.        ,  0.        ,  0.        , ...,  0.        ,\n",
            "          0.        ,  0.        ],\n",
            "        [ 0.        ,  0.        ,  0.        , ...,  0.        ,\n",
            "          0.        ,  0.        ],\n",
            "        [ 0.        ,  0.        ,  0.        , ...,  0.        ,\n",
            "          0.        ,  0.        ],\n",
            "        ...,\n",
            "        [-0.14198722, -0.35103281, -0.06462482, ..., -0.25370923,\n",
            "          0.16314383, -0.43405373],\n",
            "        [-0.14448813, -0.53140999, -0.06918325, ..., -0.2971511 ,\n",
            "          0.262145  , -0.33400737],\n",
            "        [-0.15297254, -0.47092512, -0.00715509, ..., -0.28633382,\n",
            "          0.11303431, -0.30360782]],\n",
            "\n",
            "       [[ 0.        ,  0.        ,  0.        , ...,  0.        ,\n",
            "          0.        ,  0.        ],\n",
            "        [ 0.        ,  0.        ,  0.        , ...,  0.        ,\n",
            "          0.        ,  0.        ],\n",
            "        [ 0.        ,  0.        ,  0.        , ...,  0.        ,\n",
            "          0.        ,  0.        ],\n",
            "        ...,\n",
            "        [-0.25660341, -0.70308401, -0.14963377, ..., -0.02672843,\n",
            "         -0.2435503 , -0.4777216 ],\n",
            "        [-0.34458935, -0.60133805, -0.11047368, ..., -0.12197307,\n",
            "         -0.12115899, -0.33634904],\n",
            "        [-0.30373606, -0.82659307, -0.25855728, ..., -0.14404181,\n",
            "          0.00228605, -0.37624109]],\n",
            "\n",
            "       ...,\n",
            "\n",
            "       [[ 0.        ,  0.        ,  0.        , ...,  0.        ,\n",
            "          0.        ,  0.        ],\n",
            "        [ 0.        ,  0.        ,  0.        , ...,  0.        ,\n",
            "          0.        ,  0.        ],\n",
            "        [ 0.        ,  0.        ,  0.        , ...,  0.        ,\n",
            "          0.        ,  0.        ],\n",
            "        ...,\n",
            "        [-0.0430643 , -0.40175671,  0.08254585, ..., -0.16341849,\n",
            "          0.21313115, -0.01933374],\n",
            "        [-0.05362413, -0.30233081,  0.06030588, ..., -0.241281  ,\n",
            "          0.26319373,  0.12656517],\n",
            "        [-0.07586647, -0.45135689,  0.01070223, ..., -0.10383849,\n",
            "          0.25579809,  0.30427559]],\n",
            "\n",
            "       [[ 0.        ,  0.        ,  0.        , ...,  0.        ,\n",
            "          0.        ,  0.        ],\n",
            "        [ 0.        ,  0.        ,  0.        , ...,  0.        ,\n",
            "          0.        ,  0.        ],\n",
            "        [ 0.        ,  0.        ,  0.        , ...,  0.        ,\n",
            "          0.        ,  0.        ],\n",
            "        ...,\n",
            "        [-0.18500727, -0.67025522, -0.1561094 , ..., -0.09001592,\n",
            "         -0.00232566, -0.12593146],\n",
            "        [-0.16219079, -0.53141285, -0.18717425, ..., -0.08764289,\n",
            "         -0.01662031, -0.0222801 ],\n",
            "        [-0.1666218 , -0.51493284, -0.17188028, ..., -0.0678619 ,\n",
            "         -0.08310189, -0.10582809]],\n",
            "\n",
            "       [[ 0.        ,  0.        ,  0.        , ...,  0.        ,\n",
            "          0.        ,  0.        ],\n",
            "        [ 0.        ,  0.        ,  0.        , ...,  0.        ,\n",
            "          0.        ,  0.        ],\n",
            "        [ 0.        ,  0.        ,  0.        , ...,  0.        ,\n",
            "          0.        ,  0.        ],\n",
            "        ...,\n",
            "        [-0.50111741, -0.71763662, -0.25416846, ..., -0.14386055,\n",
            "          0.1832573 ,  0.22318879],\n",
            "        [-0.38508349, -0.68237743, -0.19461755, ..., -0.08866999,\n",
            "         -0.00240089,  0.01850413],\n",
            "        [-0.42053718, -0.64755926, -0.16597144, ..., -0.1788326 ,\n",
            "          0.04265679,  0.08699125]]])>), <tf.Tensor: shape=(64, 2), dtype=int32, numpy=\n",
            "array([[1, 0],\n",
            "       [1, 0],\n",
            "       [0, 1],\n",
            "       [0, 1],\n",
            "       [1, 0],\n",
            "       [0, 1],\n",
            "       [0, 1],\n",
            "       [1, 0],\n",
            "       [0, 1],\n",
            "       [1, 0],\n",
            "       [0, 1],\n",
            "       [1, 0],\n",
            "       [0, 1],\n",
            "       [1, 0],\n",
            "       [1, 0],\n",
            "       [1, 0],\n",
            "       [0, 1],\n",
            "       [0, 1],\n",
            "       [0, 1],\n",
            "       [1, 0],\n",
            "       [1, 0],\n",
            "       [1, 0],\n",
            "       [0, 1],\n",
            "       [1, 0],\n",
            "       [0, 1],\n",
            "       [1, 0],\n",
            "       [0, 1],\n",
            "       [1, 0],\n",
            "       [1, 0],\n",
            "       [0, 1],\n",
            "       [1, 0],\n",
            "       [0, 1],\n",
            "       [0, 1],\n",
            "       [1, 0],\n",
            "       [0, 1],\n",
            "       [1, 0],\n",
            "       [1, 0],\n",
            "       [0, 1],\n",
            "       [0, 1],\n",
            "       [1, 0],\n",
            "       [0, 1],\n",
            "       [0, 1],\n",
            "       [1, 0],\n",
            "       [0, 1],\n",
            "       [0, 1],\n",
            "       [0, 1],\n",
            "       [0, 1],\n",
            "       [1, 0],\n",
            "       [0, 1],\n",
            "       [0, 1],\n",
            "       [0, 1],\n",
            "       [0, 1],\n",
            "       [1, 0],\n",
            "       [1, 0],\n",
            "       [0, 1],\n",
            "       [1, 0],\n",
            "       [1, 0],\n",
            "       [1, 0],\n",
            "       [0, 1],\n",
            "       [0, 1],\n",
            "       [1, 0],\n",
            "       [0, 1],\n",
            "       [0, 1],\n",
            "       [1, 0]], dtype=int32)>)\n"
          ]
        }
      ]
    },
    {
      "cell_type": "code",
      "source": [
        "##############################################\n",
        "#### Merging textual and visual analysis #####\n",
        "##############################################\n",
        "\n",
        "t_lstm_lyr.trainable = False\n",
        "t_att_lyr.trainable  = False\n",
        "t_dense_lyr_1.trainable = False\n",
        "\n",
        "v_lstm_lyr.trainable = False\n",
        "v_att_lyr.trainable  = False\n",
        "v_dense_lyr_1.trainable = False\n",
        "\n",
        "\n",
        "t_x = t_mask_lyr(t_input)\n",
        "t_x = t_lstm_lyr(t_x)\n",
        "t_att_we, t_att_op = t_att_lyr(t_x)\n",
        "t_op = t_dense_lyr_1(t_att_op)\n",
        "\n",
        "v_x = v_mask_lyr(v_input)\n",
        "v_x = v_lstm_lyr(v_x)\n",
        "v_att_we, v_att_op = v_att_lyr(v_x)\n",
        "v_op = v_dense_lyr_1(v_att_op)\n",
        "\n",
        "# x = tf.keras.layers.concatenate((t_att_op, v_att_op))\n",
        "# x = tf.keras.layers.concatenate((t_op, v_op))\n",
        "x  = tf.keras.layers.Lambda(lambda x: tf.math.multiply(x[0],x[1]))((t_op, v_op))\n",
        "\n",
        "tv_dense_1 = Dense(16, activation='softmax', name='text_visual_dense_layer_1')\n",
        "tv_dense = Dense(2, activation='softmax', name='text_visual_dense_layer')\n",
        "\n",
        "x = tv_dense_1(x)\n",
        "op = tv_dense(x)\n",
        "\n",
        "tv_model = Model(inputs=[t_input, v_input], outputs=op, name='Text_Visual_Model')\n",
        "tv_model.summary()"
      ],
      "metadata": {
        "colab": {
          "base_uri": "https://localhost:8080/"
        },
        "id": "MiSEbtf_aq7I",
        "outputId": "2a42fa7f-ebee-4340-8a9f-2dcfd7bcdbbb"
      },
      "execution_count": 77,
      "outputs": [
        {
          "output_type": "stream",
          "name": "stdout",
          "text": [
            "Model: \"Text_Visual_Model\"\n",
            "__________________________________________________________________________________________________\n",
            " Layer (type)                   Output Shape         Param #     Connected to                     \n",
            "==================================================================================================\n",
            " text_input_layer (InputLayer)  [(None, 50, 300)]    0           []                               \n",
            "                                                                                                  \n",
            " v_input_layer (InputLayer)     [(None, 50, 20)]     0           []                               \n",
            "                                                                                                  \n",
            " text_masking_layer (Masking)   (None, 50, 300)      0           ['text_input_layer[0][0]']       \n",
            "                                                                                                  \n",
            " v_mask_layer (Masking)         (None, 50, 20)       0           ['v_input_layer[0][0]']          \n",
            "                                                                                                  \n",
            " text_lstm_layer_1 (LSTM)       (None, 50, 256)      570368      ['text_masking_layer[1][0]']     \n",
            "                                                                                                  \n",
            " v_lstm_layer_1 (LSTM)          (None, 50, 256)      283648      ['v_mask_layer[1][0]']           \n",
            "                                                                                                  \n",
            " attention_layer (AttentionLaye  ((None, 50, 1),     306         ['text_lstm_layer_1[1][0]']      \n",
            " r)                              (None, 256))                                                     \n",
            "                                                                                                  \n",
            " attention_layer_1 (AttentionLa  ((None, 50, 1),     306         ['v_lstm_layer_1[1][0]']         \n",
            " yer)                            (None, 256))                                                     \n",
            "                                                                                                  \n",
            " text_dense_layer_1 (Dense)     (None, 32)           8224        ['attention_layer[1][1]']        \n",
            "                                                                                                  \n",
            " v_dense_layer_1 (Dense)        (None, 32)           8224        ['attention_layer_1[1][1]']      \n",
            "                                                                                                  \n",
            " lambda (Lambda)                (None, 32)           0           ['text_dense_layer_1[1][0]',     \n",
            "                                                                  'v_dense_layer_1[1][0]']        \n",
            "                                                                                                  \n",
            " text_visual_dense_layer_1 (Den  (None, 16)          528         ['lambda[0][0]']                 \n",
            " se)                                                                                              \n",
            "                                                                                                  \n",
            " text_visual_dense_layer (Dense  (None, 2)           34          ['text_visual_dense_layer_1[0][0]\n",
            " )                                                               ']                               \n",
            "                                                                                                  \n",
            "==================================================================================================\n",
            "Total params: 871,638\n",
            "Trainable params: 562\n",
            "Non-trainable params: 871,076\n",
            "__________________________________________________________________________________________________\n"
          ]
        }
      ]
    },
    {
      "cell_type": "code",
      "source": [
        "tv_model.compile(optimizer='adam', loss='categorical_crossentropy', metrics='accuracy')\n",
        "tv_history1 = tv_model.fit(train_tv_binary_ds, validation_data=valid_tv_binary_ds, \n",
        "            epochs=500, callbacks=[tf.keras.callbacks.EarlyStopping(patience=10, restore_best_weights=True)])"
      ],
      "metadata": {
        "colab": {
          "base_uri": "https://localhost:8080/"
        },
        "id": "KvNXnIGBiK0G",
        "outputId": "8768acee-8ee1-43fe-967c-002b3555cb6f"
      },
      "execution_count": 78,
      "outputs": [
        {
          "output_type": "stream",
          "name": "stdout",
          "text": [
            "Epoch 1/500\n",
            "21/21 [==============================] - 10s 155ms/step - loss: 0.6917 - accuracy: 0.5740 - val_loss: 0.6863 - val_accuracy: 0.5983\n",
            "Epoch 2/500\n",
            "21/21 [==============================] - 1s 40ms/step - loss: 0.6881 - accuracy: 0.5701 - val_loss: 0.6831 - val_accuracy: 0.5983\n",
            "Epoch 3/500\n",
            "21/21 [==============================] - 1s 42ms/step - loss: 0.6860 - accuracy: 0.5701 - val_loss: 0.6806 - val_accuracy: 0.5983\n",
            "Epoch 4/500\n",
            "21/21 [==============================] - 1s 42ms/step - loss: 0.6844 - accuracy: 0.5701 - val_loss: 0.6785 - val_accuracy: 0.5983\n",
            "Epoch 5/500\n",
            "21/21 [==============================] - 1s 42ms/step - loss: 0.6830 - accuracy: 0.5701 - val_loss: 0.6764 - val_accuracy: 0.5983\n",
            "Epoch 6/500\n",
            "21/21 [==============================] - 1s 42ms/step - loss: 0.6818 - accuracy: 0.5701 - val_loss: 0.6757 - val_accuracy: 0.5983\n",
            "Epoch 7/500\n",
            "21/21 [==============================] - 1s 44ms/step - loss: 0.6812 - accuracy: 0.5701 - val_loss: 0.6750 - val_accuracy: 0.5983\n",
            "Epoch 8/500\n",
            "21/21 [==============================] - 1s 41ms/step - loss: 0.6807 - accuracy: 0.5701 - val_loss: 0.6742 - val_accuracy: 0.5983\n",
            "Epoch 9/500\n",
            "21/21 [==============================] - 1s 43ms/step - loss: 0.6801 - accuracy: 0.5701 - val_loss: 0.6732 - val_accuracy: 0.5983\n",
            "Epoch 10/500\n",
            "21/21 [==============================] - 1s 43ms/step - loss: 0.6791 - accuracy: 0.5701 - val_loss: 0.6723 - val_accuracy: 0.5983\n",
            "Epoch 11/500\n",
            "21/21 [==============================] - 1s 43ms/step - loss: 0.6785 - accuracy: 0.5701 - val_loss: 0.6720 - val_accuracy: 0.5983\n",
            "Epoch 12/500\n",
            "21/21 [==============================] - 1s 43ms/step - loss: 0.6779 - accuracy: 0.5701 - val_loss: 0.6713 - val_accuracy: 0.5983\n",
            "Epoch 13/500\n",
            "21/21 [==============================] - 1s 43ms/step - loss: 0.6775 - accuracy: 0.5701 - val_loss: 0.6703 - val_accuracy: 0.5983\n",
            "Epoch 14/500\n",
            "21/21 [==============================] - 1s 43ms/step - loss: 0.6765 - accuracy: 0.5701 - val_loss: 0.6696 - val_accuracy: 0.5983\n",
            "Epoch 15/500\n",
            "21/21 [==============================] - 1s 43ms/step - loss: 0.6759 - accuracy: 0.5701 - val_loss: 0.6690 - val_accuracy: 0.5983\n",
            "Epoch 16/500\n",
            "21/21 [==============================] - 1s 43ms/step - loss: 0.6754 - accuracy: 0.5701 - val_loss: 0.6678 - val_accuracy: 0.5983\n",
            "Epoch 17/500\n",
            "21/21 [==============================] - 1s 44ms/step - loss: 0.6743 - accuracy: 0.5701 - val_loss: 0.6673 - val_accuracy: 0.5983\n",
            "Epoch 18/500\n",
            "21/21 [==============================] - 1s 43ms/step - loss: 0.6738 - accuracy: 0.5701 - val_loss: 0.6670 - val_accuracy: 0.5983\n",
            "Epoch 19/500\n",
            "21/21 [==============================] - 1s 42ms/step - loss: 0.6733 - accuracy: 0.5701 - val_loss: 0.6660 - val_accuracy: 0.5983\n",
            "Epoch 20/500\n",
            "21/21 [==============================] - 1s 43ms/step - loss: 0.6726 - accuracy: 0.5701 - val_loss: 0.6648 - val_accuracy: 0.5983\n",
            "Epoch 21/500\n",
            "21/21 [==============================] - 1s 43ms/step - loss: 0.6718 - accuracy: 0.5701 - val_loss: 0.6638 - val_accuracy: 0.5983\n",
            "Epoch 22/500\n",
            "21/21 [==============================] - 1s 42ms/step - loss: 0.6712 - accuracy: 0.5701 - val_loss: 0.6630 - val_accuracy: 0.5983\n",
            "Epoch 23/500\n",
            "21/21 [==============================] - 1s 41ms/step - loss: 0.6702 - accuracy: 0.5701 - val_loss: 0.6623 - val_accuracy: 0.5983\n",
            "Epoch 24/500\n",
            "21/21 [==============================] - 1s 42ms/step - loss: 0.6695 - accuracy: 0.5701 - val_loss: 0.6615 - val_accuracy: 0.5983\n",
            "Epoch 25/500\n",
            "21/21 [==============================] - 1s 42ms/step - loss: 0.6688 - accuracy: 0.5701 - val_loss: 0.6607 - val_accuracy: 0.5983\n",
            "Epoch 26/500\n",
            "21/21 [==============================] - 1s 43ms/step - loss: 0.6677 - accuracy: 0.5701 - val_loss: 0.6602 - val_accuracy: 0.5983\n",
            "Epoch 27/500\n",
            "21/21 [==============================] - 1s 43ms/step - loss: 0.6671 - accuracy: 0.5701 - val_loss: 0.6595 - val_accuracy: 0.5983\n",
            "Epoch 28/500\n",
            "21/21 [==============================] - 1s 43ms/step - loss: 0.6657 - accuracy: 0.5701 - val_loss: 0.6587 - val_accuracy: 0.5983\n",
            "Epoch 29/500\n",
            "21/21 [==============================] - 1s 42ms/step - loss: 0.6655 - accuracy: 0.5701 - val_loss: 0.6576 - val_accuracy: 0.5983\n",
            "Epoch 30/500\n",
            "21/21 [==============================] - 1s 42ms/step - loss: 0.6641 - accuracy: 0.5701 - val_loss: 0.6568 - val_accuracy: 0.5983\n",
            "Epoch 31/500\n",
            "21/21 [==============================] - 1s 42ms/step - loss: 0.6632 - accuracy: 0.5701 - val_loss: 0.6559 - val_accuracy: 0.5983\n",
            "Epoch 32/500\n",
            "21/21 [==============================] - 1s 43ms/step - loss: 0.6627 - accuracy: 0.5701 - val_loss: 0.6550 - val_accuracy: 0.5983\n",
            "Epoch 33/500\n",
            "21/21 [==============================] - 1s 42ms/step - loss: 0.6613 - accuracy: 0.5701 - val_loss: 0.6543 - val_accuracy: 0.5983\n",
            "Epoch 34/500\n",
            "21/21 [==============================] - 1s 43ms/step - loss: 0.6604 - accuracy: 0.5701 - val_loss: 0.6535 - val_accuracy: 0.5983\n",
            "Epoch 35/500\n",
            "21/21 [==============================] - 1s 42ms/step - loss: 0.6593 - accuracy: 0.5701 - val_loss: 0.6525 - val_accuracy: 0.5983\n",
            "Epoch 36/500\n",
            "21/21 [==============================] - 1s 43ms/step - loss: 0.6581 - accuracy: 0.5709 - val_loss: 0.6516 - val_accuracy: 0.5983\n",
            "Epoch 37/500\n",
            "21/21 [==============================] - 1s 44ms/step - loss: 0.6572 - accuracy: 0.5709 - val_loss: 0.6508 - val_accuracy: 0.5983\n",
            "Epoch 38/500\n",
            "21/21 [==============================] - 1s 43ms/step - loss: 0.6563 - accuracy: 0.5709 - val_loss: 0.6495 - val_accuracy: 0.5983\n",
            "Epoch 39/500\n",
            "21/21 [==============================] - 1s 42ms/step - loss: 0.6551 - accuracy: 0.5701 - val_loss: 0.6484 - val_accuracy: 0.5983\n",
            "Epoch 40/500\n",
            "21/21 [==============================] - 1s 43ms/step - loss: 0.6535 - accuracy: 0.5709 - val_loss: 0.6474 - val_accuracy: 0.5983\n",
            "Epoch 41/500\n",
            "21/21 [==============================] - 1s 43ms/step - loss: 0.6522 - accuracy: 0.5709 - val_loss: 0.6465 - val_accuracy: 0.5983\n",
            "Epoch 42/500\n",
            "21/21 [==============================] - 1s 44ms/step - loss: 0.6511 - accuracy: 0.5732 - val_loss: 0.6454 - val_accuracy: 0.5983\n",
            "Epoch 43/500\n",
            "21/21 [==============================] - 1s 42ms/step - loss: 0.6497 - accuracy: 0.5709 - val_loss: 0.6444 - val_accuracy: 0.5983\n",
            "Epoch 44/500\n",
            "21/21 [==============================] - 1s 43ms/step - loss: 0.6487 - accuracy: 0.5724 - val_loss: 0.6430 - val_accuracy: 0.5983\n",
            "Epoch 45/500\n",
            "21/21 [==============================] - 1s 44ms/step - loss: 0.6474 - accuracy: 0.5724 - val_loss: 0.6418 - val_accuracy: 0.6026\n",
            "Epoch 46/500\n",
            "21/21 [==============================] - 1s 43ms/step - loss: 0.6463 - accuracy: 0.5724 - val_loss: 0.6406 - val_accuracy: 0.6026\n",
            "Epoch 47/500\n",
            "21/21 [==============================] - 1s 43ms/step - loss: 0.6448 - accuracy: 0.5724 - val_loss: 0.6394 - val_accuracy: 0.6026\n",
            "Epoch 48/500\n",
            "21/21 [==============================] - 1s 44ms/step - loss: 0.6434 - accuracy: 0.5740 - val_loss: 0.6381 - val_accuracy: 0.6026\n",
            "Epoch 49/500\n",
            "21/21 [==============================] - 1s 43ms/step - loss: 0.6418 - accuracy: 0.5740 - val_loss: 0.6370 - val_accuracy: 0.6026\n",
            "Epoch 50/500\n",
            "21/21 [==============================] - 1s 43ms/step - loss: 0.6401 - accuracy: 0.5763 - val_loss: 0.6359 - val_accuracy: 0.6026\n",
            "Epoch 51/500\n",
            "21/21 [==============================] - 1s 44ms/step - loss: 0.6390 - accuracy: 0.5802 - val_loss: 0.6347 - val_accuracy: 0.6026\n",
            "Epoch 52/500\n",
            "21/21 [==============================] - 1s 43ms/step - loss: 0.6370 - accuracy: 0.5779 - val_loss: 0.6335 - val_accuracy: 0.6026\n",
            "Epoch 53/500\n",
            "21/21 [==============================] - 1s 43ms/step - loss: 0.6353 - accuracy: 0.5802 - val_loss: 0.6324 - val_accuracy: 0.6026\n",
            "Epoch 54/500\n",
            "21/21 [==============================] - 1s 42ms/step - loss: 0.6343 - accuracy: 0.5787 - val_loss: 0.6314 - val_accuracy: 0.6070\n",
            "Epoch 55/500\n",
            "21/21 [==============================] - 1s 43ms/step - loss: 0.6329 - accuracy: 0.5787 - val_loss: 0.6303 - val_accuracy: 0.6070\n",
            "Epoch 56/500\n",
            "21/21 [==============================] - 1s 42ms/step - loss: 0.6310 - accuracy: 0.5833 - val_loss: 0.6290 - val_accuracy: 0.6070\n",
            "Epoch 57/500\n",
            "21/21 [==============================] - 1s 43ms/step - loss: 0.6295 - accuracy: 0.5818 - val_loss: 0.6276 - val_accuracy: 0.6070\n",
            "Epoch 58/500\n",
            "21/21 [==============================] - 1s 42ms/step - loss: 0.6278 - accuracy: 0.5857 - val_loss: 0.6261 - val_accuracy: 0.6026\n",
            "Epoch 59/500\n",
            "21/21 [==============================] - 1s 42ms/step - loss: 0.6261 - accuracy: 0.5841 - val_loss: 0.6247 - val_accuracy: 0.6026\n",
            "Epoch 60/500\n",
            "21/21 [==============================] - 1s 42ms/step - loss: 0.6239 - accuracy: 0.5919 - val_loss: 0.6234 - val_accuracy: 0.6026\n",
            "Epoch 61/500\n",
            "21/21 [==============================] - 1s 43ms/step - loss: 0.6228 - accuracy: 0.5864 - val_loss: 0.6219 - val_accuracy: 0.6026\n",
            "Epoch 62/500\n",
            "21/21 [==============================] - 1s 41ms/step - loss: 0.6212 - accuracy: 0.5919 - val_loss: 0.6207 - val_accuracy: 0.6026\n",
            "Epoch 63/500\n",
            "21/21 [==============================] - 1s 43ms/step - loss: 0.6188 - accuracy: 0.5958 - val_loss: 0.6191 - val_accuracy: 0.6026\n",
            "Epoch 64/500\n",
            "21/21 [==============================] - 1s 43ms/step - loss: 0.6181 - accuracy: 0.5927 - val_loss: 0.6179 - val_accuracy: 0.6026\n",
            "Epoch 65/500\n",
            "21/21 [==============================] - 1s 42ms/step - loss: 0.6156 - accuracy: 0.6020 - val_loss: 0.6164 - val_accuracy: 0.6026\n",
            "Epoch 66/500\n",
            "21/21 [==============================] - 1s 43ms/step - loss: 0.6142 - accuracy: 0.6028 - val_loss: 0.6150 - val_accuracy: 0.6070\n",
            "Epoch 67/500\n",
            "21/21 [==============================] - 1s 44ms/step - loss: 0.6122 - accuracy: 0.6012 - val_loss: 0.6135 - val_accuracy: 0.6157\n",
            "Epoch 68/500\n",
            "21/21 [==============================] - 1s 42ms/step - loss: 0.6102 - accuracy: 0.6051 - val_loss: 0.6120 - val_accuracy: 0.6201\n",
            "Epoch 69/500\n",
            "21/21 [==============================] - 1s 42ms/step - loss: 0.6094 - accuracy: 0.6051 - val_loss: 0.6104 - val_accuracy: 0.6201\n",
            "Epoch 70/500\n",
            "21/21 [==============================] - 1s 42ms/step - loss: 0.6077 - accuracy: 0.6028 - val_loss: 0.6090 - val_accuracy: 0.6201\n",
            "Epoch 71/500\n",
            "21/21 [==============================] - 1s 42ms/step - loss: 0.6045 - accuracy: 0.6114 - val_loss: 0.6077 - val_accuracy: 0.6245\n",
            "Epoch 72/500\n",
            "21/21 [==============================] - 1s 42ms/step - loss: 0.6033 - accuracy: 0.6238 - val_loss: 0.6064 - val_accuracy: 0.6288\n",
            "Epoch 73/500\n",
            "21/21 [==============================] - 1s 42ms/step - loss: 0.6002 - accuracy: 0.6269 - val_loss: 0.6049 - val_accuracy: 0.6288\n",
            "Epoch 74/500\n",
            "21/21 [==============================] - 1s 44ms/step - loss: 0.5995 - accuracy: 0.6238 - val_loss: 0.6036 - val_accuracy: 0.6332\n",
            "Epoch 75/500\n",
            "21/21 [==============================] - 1s 43ms/step - loss: 0.5971 - accuracy: 0.6316 - val_loss: 0.6023 - val_accuracy: 0.6376\n",
            "Epoch 76/500\n",
            "21/21 [==============================] - 1s 42ms/step - loss: 0.5956 - accuracy: 0.6379 - val_loss: 0.6008 - val_accuracy: 0.6332\n",
            "Epoch 77/500\n",
            "21/21 [==============================] - 1s 43ms/step - loss: 0.5941 - accuracy: 0.6347 - val_loss: 0.5994 - val_accuracy: 0.6419\n",
            "Epoch 78/500\n",
            "21/21 [==============================] - 1s 42ms/step - loss: 0.5917 - accuracy: 0.6379 - val_loss: 0.5979 - val_accuracy: 0.6419\n",
            "Epoch 79/500\n",
            "21/21 [==============================] - 1s 41ms/step - loss: 0.5903 - accuracy: 0.6495 - val_loss: 0.5968 - val_accuracy: 0.6463\n",
            "Epoch 80/500\n",
            "21/21 [==============================] - 1s 42ms/step - loss: 0.5884 - accuracy: 0.6581 - val_loss: 0.5953 - val_accuracy: 0.6463\n",
            "Epoch 81/500\n",
            "21/21 [==============================] - 1s 43ms/step - loss: 0.5875 - accuracy: 0.6643 - val_loss: 0.5940 - val_accuracy: 0.6419\n",
            "Epoch 82/500\n",
            "21/21 [==============================] - 1s 42ms/step - loss: 0.5864 - accuracy: 0.6526 - val_loss: 0.5925 - val_accuracy: 0.6463\n",
            "Epoch 83/500\n",
            "21/21 [==============================] - 1s 43ms/step - loss: 0.5832 - accuracy: 0.6550 - val_loss: 0.5911 - val_accuracy: 0.6419\n",
            "Epoch 84/500\n",
            "21/21 [==============================] - 1s 42ms/step - loss: 0.5804 - accuracy: 0.6690 - val_loss: 0.5898 - val_accuracy: 0.6376\n",
            "Epoch 85/500\n",
            "21/21 [==============================] - 1s 44ms/step - loss: 0.5797 - accuracy: 0.6628 - val_loss: 0.5884 - val_accuracy: 0.6376\n",
            "Epoch 86/500\n",
            "21/21 [==============================] - 1s 42ms/step - loss: 0.5779 - accuracy: 0.6822 - val_loss: 0.5872 - val_accuracy: 0.6463\n",
            "Epoch 87/500\n",
            "21/21 [==============================] - 1s 43ms/step - loss: 0.5756 - accuracy: 0.6893 - val_loss: 0.5859 - val_accuracy: 0.6550\n",
            "Epoch 88/500\n",
            "21/21 [==============================] - 1s 42ms/step - loss: 0.5743 - accuracy: 0.6838 - val_loss: 0.5846 - val_accuracy: 0.6681\n",
            "Epoch 89/500\n",
            "21/21 [==============================] - 1s 43ms/step - loss: 0.5716 - accuracy: 0.7072 - val_loss: 0.5834 - val_accuracy: 0.6812\n",
            "Epoch 90/500\n",
            "21/21 [==============================] - 1s 42ms/step - loss: 0.5694 - accuracy: 0.7352 - val_loss: 0.5822 - val_accuracy: 0.6769\n",
            "Epoch 91/500\n",
            "21/21 [==============================] - 1s 42ms/step - loss: 0.5685 - accuracy: 0.7500 - val_loss: 0.5810 - val_accuracy: 0.7074\n",
            "Epoch 92/500\n",
            "21/21 [==============================] - 1s 42ms/step - loss: 0.5654 - accuracy: 0.7695 - val_loss: 0.5798 - val_accuracy: 0.7118\n",
            "Epoch 93/500\n",
            "21/21 [==============================] - 1s 44ms/step - loss: 0.5643 - accuracy: 0.7757 - val_loss: 0.5785 - val_accuracy: 0.7162\n",
            "Epoch 94/500\n",
            "21/21 [==============================] - 1s 42ms/step - loss: 0.5636 - accuracy: 0.7967 - val_loss: 0.5775 - val_accuracy: 0.7336\n",
            "Epoch 95/500\n",
            "21/21 [==============================] - 1s 42ms/step - loss: 0.5599 - accuracy: 0.8115 - val_loss: 0.5762 - val_accuracy: 0.7336\n",
            "Epoch 96/500\n",
            "21/21 [==============================] - 1s 41ms/step - loss: 0.5594 - accuracy: 0.7866 - val_loss: 0.5748 - val_accuracy: 0.7249\n",
            "Epoch 97/500\n",
            "21/21 [==============================] - 1s 43ms/step - loss: 0.5566 - accuracy: 0.8092 - val_loss: 0.5738 - val_accuracy: 0.7380\n",
            "Epoch 98/500\n",
            "21/21 [==============================] - 1s 42ms/step - loss: 0.5544 - accuracy: 0.8146 - val_loss: 0.5726 - val_accuracy: 0.7380\n",
            "Epoch 99/500\n",
            "21/21 [==============================] - 1s 42ms/step - loss: 0.5545 - accuracy: 0.8224 - val_loss: 0.5715 - val_accuracy: 0.7424\n",
            "Epoch 100/500\n",
            "21/21 [==============================] - 1s 43ms/step - loss: 0.5517 - accuracy: 0.8115 - val_loss: 0.5702 - val_accuracy: 0.7380\n",
            "Epoch 101/500\n",
            "21/21 [==============================] - 1s 44ms/step - loss: 0.5487 - accuracy: 0.8139 - val_loss: 0.5690 - val_accuracy: 0.7380\n",
            "Epoch 102/500\n",
            "21/21 [==============================] - 1s 42ms/step - loss: 0.5486 - accuracy: 0.8185 - val_loss: 0.5680 - val_accuracy: 0.7380\n",
            "Epoch 103/500\n",
            "21/21 [==============================] - 1s 43ms/step - loss: 0.5462 - accuracy: 0.8178 - val_loss: 0.5669 - val_accuracy: 0.7380\n",
            "Epoch 104/500\n",
            "21/21 [==============================] - 1s 43ms/step - loss: 0.5452 - accuracy: 0.8069 - val_loss: 0.5657 - val_accuracy: 0.7380\n",
            "Epoch 105/500\n",
            "21/21 [==============================] - 1s 43ms/step - loss: 0.5424 - accuracy: 0.8076 - val_loss: 0.5646 - val_accuracy: 0.7380\n",
            "Epoch 106/500\n",
            "21/21 [==============================] - 1s 42ms/step - loss: 0.5415 - accuracy: 0.8146 - val_loss: 0.5637 - val_accuracy: 0.7467\n",
            "Epoch 107/500\n",
            "21/21 [==============================] - 1s 42ms/step - loss: 0.5404 - accuracy: 0.8224 - val_loss: 0.5627 - val_accuracy: 0.7467\n",
            "Epoch 108/500\n",
            "21/21 [==============================] - 1s 44ms/step - loss: 0.5390 - accuracy: 0.8287 - val_loss: 0.5617 - val_accuracy: 0.7424\n",
            "Epoch 109/500\n",
            "21/21 [==============================] - 1s 43ms/step - loss: 0.5373 - accuracy: 0.8310 - val_loss: 0.5607 - val_accuracy: 0.7467\n",
            "Epoch 110/500\n",
            "21/21 [==============================] - 1s 42ms/step - loss: 0.5344 - accuracy: 0.8279 - val_loss: 0.5599 - val_accuracy: 0.7511\n",
            "Epoch 111/500\n",
            "21/21 [==============================] - 1s 43ms/step - loss: 0.5338 - accuracy: 0.8279 - val_loss: 0.5589 - val_accuracy: 0.7598\n",
            "Epoch 112/500\n",
            "21/21 [==============================] - 1s 42ms/step - loss: 0.5322 - accuracy: 0.8271 - val_loss: 0.5579 - val_accuracy: 0.7555\n",
            "Epoch 113/500\n",
            "21/21 [==============================] - 1s 41ms/step - loss: 0.5312 - accuracy: 0.8294 - val_loss: 0.5569 - val_accuracy: 0.7511\n",
            "Epoch 114/500\n",
            "21/21 [==============================] - 1s 43ms/step - loss: 0.5288 - accuracy: 0.8287 - val_loss: 0.5560 - val_accuracy: 0.7511\n",
            "Epoch 115/500\n",
            "21/21 [==============================] - 1s 43ms/step - loss: 0.5261 - accuracy: 0.8271 - val_loss: 0.5551 - val_accuracy: 0.7598\n",
            "Epoch 116/500\n",
            "21/21 [==============================] - 1s 42ms/step - loss: 0.5238 - accuracy: 0.8294 - val_loss: 0.5543 - val_accuracy: 0.7598\n",
            "Epoch 117/500\n",
            "21/21 [==============================] - 1s 42ms/step - loss: 0.5215 - accuracy: 0.8279 - val_loss: 0.5534 - val_accuracy: 0.7598\n",
            "Epoch 118/500\n",
            "21/21 [==============================] - 1s 42ms/step - loss: 0.5225 - accuracy: 0.8302 - val_loss: 0.5525 - val_accuracy: 0.7598\n",
            "Epoch 119/500\n",
            "21/21 [==============================] - 1s 42ms/step - loss: 0.5189 - accuracy: 0.8294 - val_loss: 0.5515 - val_accuracy: 0.7511\n",
            "Epoch 120/500\n",
            "21/21 [==============================] - 1s 43ms/step - loss: 0.5175 - accuracy: 0.8318 - val_loss: 0.5507 - val_accuracy: 0.7598\n",
            "Epoch 121/500\n",
            "21/21 [==============================] - 1s 42ms/step - loss: 0.5166 - accuracy: 0.8271 - val_loss: 0.5499 - val_accuracy: 0.7598\n",
            "Epoch 122/500\n",
            "21/21 [==============================] - 1s 42ms/step - loss: 0.5159 - accuracy: 0.8310 - val_loss: 0.5492 - val_accuracy: 0.7598\n",
            "Epoch 123/500\n",
            "21/21 [==============================] - 1s 43ms/step - loss: 0.5134 - accuracy: 0.8294 - val_loss: 0.5484 - val_accuracy: 0.7598\n",
            "Epoch 124/500\n",
            "21/21 [==============================] - 1s 43ms/step - loss: 0.5131 - accuracy: 0.8271 - val_loss: 0.5476 - val_accuracy: 0.7598\n",
            "Epoch 125/500\n",
            "21/21 [==============================] - 1s 43ms/step - loss: 0.5116 - accuracy: 0.8310 - val_loss: 0.5469 - val_accuracy: 0.7598\n",
            "Epoch 126/500\n",
            "21/21 [==============================] - 1s 44ms/step - loss: 0.5095 - accuracy: 0.8294 - val_loss: 0.5462 - val_accuracy: 0.7598\n",
            "Epoch 127/500\n",
            "21/21 [==============================] - 1s 42ms/step - loss: 0.5086 - accuracy: 0.8287 - val_loss: 0.5455 - val_accuracy: 0.7598\n",
            "Epoch 128/500\n",
            "21/21 [==============================] - 1s 43ms/step - loss: 0.5084 - accuracy: 0.8271 - val_loss: 0.5449 - val_accuracy: 0.7598\n",
            "Epoch 129/500\n",
            "21/21 [==============================] - 1s 42ms/step - loss: 0.5066 - accuracy: 0.8294 - val_loss: 0.5442 - val_accuracy: 0.7642\n",
            "Epoch 130/500\n",
            "21/21 [==============================] - 1s 42ms/step - loss: 0.5037 - accuracy: 0.8271 - val_loss: 0.5436 - val_accuracy: 0.7686\n",
            "Epoch 131/500\n",
            "21/21 [==============================] - 1s 42ms/step - loss: 0.5046 - accuracy: 0.8302 - val_loss: 0.5429 - val_accuracy: 0.7686\n",
            "Epoch 132/500\n",
            "21/21 [==============================] - 1s 41ms/step - loss: 0.5021 - accuracy: 0.8279 - val_loss: 0.5423 - val_accuracy: 0.7598\n",
            "Epoch 133/500\n",
            "21/21 [==============================] - 1s 42ms/step - loss: 0.5009 - accuracy: 0.8279 - val_loss: 0.5416 - val_accuracy: 0.7686\n",
            "Epoch 134/500\n",
            "21/21 [==============================] - 1s 43ms/step - loss: 0.5003 - accuracy: 0.8255 - val_loss: 0.5409 - val_accuracy: 0.7598\n",
            "Epoch 135/500\n",
            "21/21 [==============================] - 1s 44ms/step - loss: 0.4980 - accuracy: 0.8287 - val_loss: 0.5404 - val_accuracy: 0.7598\n",
            "Epoch 136/500\n",
            "21/21 [==============================] - 1s 42ms/step - loss: 0.4958 - accuracy: 0.8255 - val_loss: 0.5398 - val_accuracy: 0.7686\n",
            "Epoch 137/500\n",
            "21/21 [==============================] - 1s 42ms/step - loss: 0.4962 - accuracy: 0.8279 - val_loss: 0.5393 - val_accuracy: 0.7642\n",
            "Epoch 138/500\n",
            "21/21 [==============================] - 1s 43ms/step - loss: 0.4941 - accuracy: 0.8287 - val_loss: 0.5388 - val_accuracy: 0.7686\n",
            "Epoch 139/500\n",
            "21/21 [==============================] - 1s 43ms/step - loss: 0.4947 - accuracy: 0.8279 - val_loss: 0.5383 - val_accuracy: 0.7642\n",
            "Epoch 140/500\n",
            "21/21 [==============================] - 1s 42ms/step - loss: 0.4913 - accuracy: 0.8287 - val_loss: 0.5377 - val_accuracy: 0.7642\n",
            "Epoch 141/500\n",
            "21/21 [==============================] - 1s 44ms/step - loss: 0.4901 - accuracy: 0.8287 - val_loss: 0.5372 - val_accuracy: 0.7642\n",
            "Epoch 142/500\n",
            "21/21 [==============================] - 1s 44ms/step - loss: 0.4886 - accuracy: 0.8271 - val_loss: 0.5367 - val_accuracy: 0.7642\n",
            "Epoch 143/500\n",
            "21/21 [==============================] - 1s 42ms/step - loss: 0.4885 - accuracy: 0.8240 - val_loss: 0.5363 - val_accuracy: 0.7511\n",
            "Epoch 144/500\n",
            "21/21 [==============================] - 1s 43ms/step - loss: 0.4875 - accuracy: 0.8287 - val_loss: 0.5358 - val_accuracy: 0.7642\n",
            "Epoch 145/500\n",
            "21/21 [==============================] - 1s 43ms/step - loss: 0.4860 - accuracy: 0.8287 - val_loss: 0.5353 - val_accuracy: 0.7642\n",
            "Epoch 146/500\n",
            "21/21 [==============================] - 1s 43ms/step - loss: 0.4853 - accuracy: 0.8279 - val_loss: 0.5349 - val_accuracy: 0.7642\n",
            "Epoch 147/500\n",
            "21/21 [==============================] - 1s 43ms/step - loss: 0.4838 - accuracy: 0.8263 - val_loss: 0.5344 - val_accuracy: 0.7686\n",
            "Epoch 148/500\n",
            "21/21 [==============================] - 1s 43ms/step - loss: 0.4831 - accuracy: 0.8255 - val_loss: 0.5340 - val_accuracy: 0.7686\n",
            "Epoch 149/500\n",
            "21/21 [==============================] - 1s 42ms/step - loss: 0.4817 - accuracy: 0.8271 - val_loss: 0.5336 - val_accuracy: 0.7642\n",
            "Epoch 150/500\n",
            "21/21 [==============================] - 1s 42ms/step - loss: 0.4802 - accuracy: 0.8294 - val_loss: 0.5332 - val_accuracy: 0.7642\n",
            "Epoch 151/500\n",
            "21/21 [==============================] - 1s 42ms/step - loss: 0.4792 - accuracy: 0.8255 - val_loss: 0.5329 - val_accuracy: 0.7642\n",
            "Epoch 152/500\n",
            "21/21 [==============================] - 1s 42ms/step - loss: 0.4787 - accuracy: 0.8287 - val_loss: 0.5325 - val_accuracy: 0.7686\n",
            "Epoch 153/500\n",
            "21/21 [==============================] - 1s 43ms/step - loss: 0.4771 - accuracy: 0.8294 - val_loss: 0.5321 - val_accuracy: 0.7642\n",
            "Epoch 154/500\n",
            "21/21 [==============================] - 1s 43ms/step - loss: 0.4748 - accuracy: 0.8302 - val_loss: 0.5318 - val_accuracy: 0.7642\n",
            "Epoch 155/500\n",
            "21/21 [==============================] - 1s 43ms/step - loss: 0.4743 - accuracy: 0.8294 - val_loss: 0.5315 - val_accuracy: 0.7642\n",
            "Epoch 156/500\n",
            "21/21 [==============================] - 1s 43ms/step - loss: 0.4748 - accuracy: 0.8271 - val_loss: 0.5312 - val_accuracy: 0.7642\n",
            "Epoch 157/500\n",
            "21/21 [==============================] - 1s 42ms/step - loss: 0.4740 - accuracy: 0.8271 - val_loss: 0.5308 - val_accuracy: 0.7642\n",
            "Epoch 158/500\n",
            "21/21 [==============================] - 1s 43ms/step - loss: 0.4731 - accuracy: 0.8287 - val_loss: 0.5305 - val_accuracy: 0.7555\n",
            "Epoch 159/500\n",
            "21/21 [==============================] - 1s 42ms/step - loss: 0.4709 - accuracy: 0.8294 - val_loss: 0.5302 - val_accuracy: 0.7555\n",
            "Epoch 160/500\n",
            "21/21 [==============================] - 1s 43ms/step - loss: 0.4697 - accuracy: 0.8248 - val_loss: 0.5300 - val_accuracy: 0.7511\n",
            "Epoch 161/500\n",
            "21/21 [==============================] - 1s 44ms/step - loss: 0.4694 - accuracy: 0.8263 - val_loss: 0.5299 - val_accuracy: 0.7511\n",
            "Epoch 162/500\n",
            "21/21 [==============================] - 1s 44ms/step - loss: 0.4684 - accuracy: 0.8326 - val_loss: 0.5295 - val_accuracy: 0.7511\n",
            "Epoch 163/500\n",
            "21/21 [==============================] - 1s 43ms/step - loss: 0.4678 - accuracy: 0.8302 - val_loss: 0.5292 - val_accuracy: 0.7511\n",
            "Epoch 164/500\n",
            "21/21 [==============================] - 1s 42ms/step - loss: 0.4653 - accuracy: 0.8310 - val_loss: 0.5290 - val_accuracy: 0.7511\n",
            "Epoch 165/500\n",
            "21/21 [==============================] - 1s 43ms/step - loss: 0.4656 - accuracy: 0.8287 - val_loss: 0.5288 - val_accuracy: 0.7555\n",
            "Epoch 166/500\n",
            "21/21 [==============================] - 1s 43ms/step - loss: 0.4640 - accuracy: 0.8310 - val_loss: 0.5285 - val_accuracy: 0.7555\n",
            "Epoch 167/500\n",
            "21/21 [==============================] - 1s 43ms/step - loss: 0.4642 - accuracy: 0.8279 - val_loss: 0.5283 - val_accuracy: 0.7555\n",
            "Epoch 168/500\n",
            "21/21 [==============================] - 1s 44ms/step - loss: 0.4625 - accuracy: 0.8263 - val_loss: 0.5281 - val_accuracy: 0.7555\n",
            "Epoch 169/500\n",
            "21/21 [==============================] - 1s 43ms/step - loss: 0.4629 - accuracy: 0.8287 - val_loss: 0.5279 - val_accuracy: 0.7555\n",
            "Epoch 170/500\n",
            "21/21 [==============================] - 1s 43ms/step - loss: 0.4608 - accuracy: 0.8302 - val_loss: 0.5278 - val_accuracy: 0.7511\n",
            "Epoch 171/500\n",
            "21/21 [==============================] - 1s 43ms/step - loss: 0.4605 - accuracy: 0.8287 - val_loss: 0.5277 - val_accuracy: 0.7511\n",
            "Epoch 172/500\n",
            "21/21 [==============================] - 1s 42ms/step - loss: 0.4617 - accuracy: 0.8310 - val_loss: 0.5275 - val_accuracy: 0.7511\n",
            "Epoch 173/500\n",
            "21/21 [==============================] - 1s 43ms/step - loss: 0.4593 - accuracy: 0.8294 - val_loss: 0.5273 - val_accuracy: 0.7511\n",
            "Epoch 174/500\n",
            "21/21 [==============================] - 1s 44ms/step - loss: 0.4574 - accuracy: 0.8271 - val_loss: 0.5271 - val_accuracy: 0.7555\n",
            "Epoch 175/500\n",
            "21/21 [==============================] - 1s 43ms/step - loss: 0.4578 - accuracy: 0.8271 - val_loss: 0.5270 - val_accuracy: 0.7555\n",
            "Epoch 176/500\n",
            "21/21 [==============================] - 1s 43ms/step - loss: 0.4561 - accuracy: 0.8318 - val_loss: 0.5269 - val_accuracy: 0.7555\n",
            "Epoch 177/500\n",
            "21/21 [==============================] - 1s 42ms/step - loss: 0.4537 - accuracy: 0.8287 - val_loss: 0.5268 - val_accuracy: 0.7511\n",
            "Epoch 178/500\n",
            "21/21 [==============================] - 1s 43ms/step - loss: 0.4551 - accuracy: 0.8271 - val_loss: 0.5267 - val_accuracy: 0.7511\n",
            "Epoch 179/500\n",
            "21/21 [==============================] - 1s 43ms/step - loss: 0.4540 - accuracy: 0.8294 - val_loss: 0.5265 - val_accuracy: 0.7511\n",
            "Epoch 180/500\n",
            "21/21 [==============================] - 1s 44ms/step - loss: 0.4538 - accuracy: 0.8279 - val_loss: 0.5264 - val_accuracy: 0.7511\n",
            "Epoch 181/500\n",
            "21/21 [==============================] - 1s 47ms/step - loss: 0.4509 - accuracy: 0.8294 - val_loss: 0.5263 - val_accuracy: 0.7511\n",
            "Epoch 182/500\n",
            "21/21 [==============================] - 1s 43ms/step - loss: 0.4538 - accuracy: 0.8263 - val_loss: 0.5263 - val_accuracy: 0.7511\n",
            "Epoch 183/500\n",
            "21/21 [==============================] - 1s 46ms/step - loss: 0.4523 - accuracy: 0.8271 - val_loss: 0.5262 - val_accuracy: 0.7511\n",
            "Epoch 184/500\n",
            "21/21 [==============================] - 1s 43ms/step - loss: 0.4507 - accuracy: 0.8287 - val_loss: 0.5262 - val_accuracy: 0.7511\n",
            "Epoch 185/500\n",
            "21/21 [==============================] - 1s 43ms/step - loss: 0.4469 - accuracy: 0.8310 - val_loss: 0.5260 - val_accuracy: 0.7511\n",
            "Epoch 186/500\n",
            "21/21 [==============================] - 1s 43ms/step - loss: 0.4489 - accuracy: 0.8294 - val_loss: 0.5259 - val_accuracy: 0.7555\n",
            "Epoch 187/500\n",
            "21/21 [==============================] - 1s 42ms/step - loss: 0.4483 - accuracy: 0.8302 - val_loss: 0.5259 - val_accuracy: 0.7555\n",
            "Epoch 188/500\n",
            "21/21 [==============================] - 1s 43ms/step - loss: 0.4484 - accuracy: 0.8294 - val_loss: 0.5258 - val_accuracy: 0.7555\n",
            "Epoch 189/500\n",
            "21/21 [==============================] - 1s 44ms/step - loss: 0.4452 - accuracy: 0.8287 - val_loss: 0.5258 - val_accuracy: 0.7555\n",
            "Epoch 190/500\n",
            "21/21 [==============================] - 1s 43ms/step - loss: 0.4455 - accuracy: 0.8302 - val_loss: 0.5257 - val_accuracy: 0.7555\n",
            "Epoch 191/500\n",
            "21/21 [==============================] - 1s 43ms/step - loss: 0.4456 - accuracy: 0.8279 - val_loss: 0.5257 - val_accuracy: 0.7555\n",
            "Epoch 192/500\n",
            "21/21 [==============================] - 1s 44ms/step - loss: 0.4451 - accuracy: 0.8287 - val_loss: 0.5257 - val_accuracy: 0.7555\n",
            "Epoch 193/500\n",
            "21/21 [==============================] - 1s 43ms/step - loss: 0.4432 - accuracy: 0.8279 - val_loss: 0.5257 - val_accuracy: 0.7555\n",
            "Epoch 194/500\n",
            "21/21 [==============================] - 1s 42ms/step - loss: 0.4439 - accuracy: 0.8326 - val_loss: 0.5256 - val_accuracy: 0.7555\n",
            "Epoch 195/500\n",
            "21/21 [==============================] - 1s 43ms/step - loss: 0.4434 - accuracy: 0.8326 - val_loss: 0.5256 - val_accuracy: 0.7555\n",
            "Epoch 196/500\n",
            "21/21 [==============================] - 1s 43ms/step - loss: 0.4455 - accuracy: 0.8271 - val_loss: 0.5256 - val_accuracy: 0.7555\n",
            "Epoch 197/500\n",
            "21/21 [==============================] - 1s 44ms/step - loss: 0.4427 - accuracy: 0.8279 - val_loss: 0.5256 - val_accuracy: 0.7555\n",
            "Epoch 198/500\n",
            "21/21 [==============================] - 1s 43ms/step - loss: 0.4408 - accuracy: 0.8294 - val_loss: 0.5257 - val_accuracy: 0.7555\n",
            "Epoch 199/500\n",
            "21/21 [==============================] - 1s 42ms/step - loss: 0.4396 - accuracy: 0.8310 - val_loss: 0.5257 - val_accuracy: 0.7555\n",
            "Epoch 200/500\n",
            "21/21 [==============================] - 1s 43ms/step - loss: 0.4394 - accuracy: 0.8326 - val_loss: 0.5256 - val_accuracy: 0.7555\n",
            "Epoch 201/500\n",
            "21/21 [==============================] - 1s 43ms/step - loss: 0.4409 - accuracy: 0.8271 - val_loss: 0.5256 - val_accuracy: 0.7555\n",
            "Epoch 202/500\n",
            "21/21 [==============================] - 1s 42ms/step - loss: 0.4401 - accuracy: 0.8287 - val_loss: 0.5257 - val_accuracy: 0.7555\n",
            "Epoch 203/500\n",
            "21/21 [==============================] - 1s 41ms/step - loss: 0.4373 - accuracy: 0.8255 - val_loss: 0.5257 - val_accuracy: 0.7555\n",
            "Epoch 204/500\n",
            "21/21 [==============================] - 1s 43ms/step - loss: 0.4392 - accuracy: 0.8271 - val_loss: 0.5258 - val_accuracy: 0.7555\n"
          ]
        }
      ]
    },
    {
      "cell_type": "code",
      "source": [
        "tv_model.evaluate(test_tv_binary_ds)"
      ],
      "metadata": {
        "colab": {
          "base_uri": "https://localhost:8080/"
        },
        "id": "2DrTsR5hk0in",
        "outputId": "850f4216-3367-4885-ecef-b5daab746938"
      },
      "execution_count": 79,
      "outputs": [
        {
          "output_type": "stream",
          "name": "stdout",
          "text": [
            "11/11 [==============================] - 0s 33ms/step - loss: 0.5605 - accuracy: 0.7741\n"
          ]
        },
        {
          "output_type": "execute_result",
          "data": {
            "text/plain": [
              "[0.560467004776001, 0.7740525007247925]"
            ]
          },
          "metadata": {},
          "execution_count": 79
        }
      ]
    },
    {
      "cell_type": "code",
      "source": [
        "########## Trying convulution Netwwork ##########\n",
        "\n",
        "##############################################\n",
        "#### Merging textual and visual analysis #####\n",
        "##############################################\n",
        "\n",
        "t_lstm_lyr.trainable = True\n",
        "t_att_lyr.trainable  = True\n",
        "t_dense_lyr_1.trainable = True\n",
        "\n",
        "v_lstm_lyr.trainable = True\n",
        "v_att_lyr.trainable  = True\n",
        "v_dense_lyr_1.trainable = True\n",
        "\n",
        "\n",
        "t_x = t_mask_lyr(t_input)\n",
        "t_x = t_lstm_lyr(t_x)\n",
        "t_att_we, t_att_op = t_att_lyr(t_x)\n",
        "t_op = t_dense_lyr_1(t_att_op)\n",
        "\n",
        "v_x = v_mask_lyr(v_input)\n",
        "v_x = v_lstm_lyr(v_x)\n",
        "v_att_we, v_att_op = v_att_lyr(v_x)\n",
        "v_op = v_dense_lyr_1(v_att_op)\n",
        "\n",
        "# x = tf.keras.layers.concatenate((t_att_op, v_att_op))\n",
        "# x = tf.keras.layers.concatenate((t_op, v_op))\n",
        "\n",
        "\n",
        "t_op_reshaped = tf.keras.layers.Reshape((8,4,1))(t_op)\n",
        "v_op_reshaped = tf.keras.layers.Reshape((8,4,1))(v_op)\n",
        "\n",
        "\n",
        "op_stacked = tf.keras.layers.Concatenate()([t_op_reshaped, v_op_reshaped])\n",
        "\n",
        "x = tf.keras.layers.Conv2D(32, (1,1))(op_stacked)\n",
        "x = tf.keras.layers.Conv2D(64, (1,1))(x)\n",
        "x = tf.keras.layers.Flatten()(x)\n",
        "\n",
        "# x  = tf.keras.layers.Lambda(lambda x: tf.math.multiply(x[0],x[1]))((t_op, v_op))\n",
        "\n",
        "tv_dense_1 = Dense(16, activation='softmax', name='text_visual_dense_layer_1')\n",
        "tv_dense = Dense(2, activation='softmax', name='text_visual_dense_layer')\n",
        "\n",
        "x = tv_dense_1(x)\n",
        "op = tv_dense(x)\n",
        "\n",
        "tv_model_conv = Model(inputs=[t_input, v_input], outputs=op, name='Text_Visual_Model')\n",
        "tv_model_conv.summary()"
      ],
      "metadata": {
        "colab": {
          "base_uri": "https://localhost:8080/"
        },
        "id": "A71yEtVortwd",
        "outputId": "8610937c-1184-4931-b932-3d0fb89f5ea9"
      },
      "execution_count": 80,
      "outputs": [
        {
          "output_type": "stream",
          "name": "stdout",
          "text": [
            "Model: \"Text_Visual_Model\"\n",
            "__________________________________________________________________________________________________\n",
            " Layer (type)                   Output Shape         Param #     Connected to                     \n",
            "==================================================================================================\n",
            " text_input_layer (InputLayer)  [(None, 50, 300)]    0           []                               \n",
            "                                                                                                  \n",
            " v_input_layer (InputLayer)     [(None, 50, 20)]     0           []                               \n",
            "                                                                                                  \n",
            " text_masking_layer (Masking)   (None, 50, 300)      0           ['text_input_layer[0][0]']       \n",
            "                                                                                                  \n",
            " v_mask_layer (Masking)         (None, 50, 20)       0           ['v_input_layer[0][0]']          \n",
            "                                                                                                  \n",
            " text_lstm_layer_1 (LSTM)       (None, 50, 256)      570368      ['text_masking_layer[2][0]']     \n",
            "                                                                                                  \n",
            " v_lstm_layer_1 (LSTM)          (None, 50, 256)      283648      ['v_mask_layer[2][0]']           \n",
            "                                                                                                  \n",
            " attention_layer (AttentionLaye  ((None, 50, 1),     306         ['text_lstm_layer_1[2][0]']      \n",
            " r)                              (None, 256))                                                     \n",
            "                                                                                                  \n",
            " attention_layer_1 (AttentionLa  ((None, 50, 1),     306         ['v_lstm_layer_1[2][0]']         \n",
            " yer)                            (None, 256))                                                     \n",
            "                                                                                                  \n",
            " text_dense_layer_1 (Dense)     (None, 32)           8224        ['attention_layer[2][1]']        \n",
            "                                                                                                  \n",
            " v_dense_layer_1 (Dense)        (None, 32)           8224        ['attention_layer_1[2][1]']      \n",
            "                                                                                                  \n",
            " reshape (Reshape)              (None, 8, 4, 1)      0           ['text_dense_layer_1[2][0]']     \n",
            "                                                                                                  \n",
            " reshape_1 (Reshape)            (None, 8, 4, 1)      0           ['v_dense_layer_1[2][0]']        \n",
            "                                                                                                  \n",
            " concatenate (Concatenate)      (None, 8, 4, 2)      0           ['reshape[0][0]',                \n",
            "                                                                  'reshape_1[0][0]']              \n",
            "                                                                                                  \n",
            " conv2d (Conv2D)                (None, 8, 4, 32)     96          ['concatenate[0][0]']            \n",
            "                                                                                                  \n",
            " conv2d_1 (Conv2D)              (None, 8, 4, 64)     2112        ['conv2d[0][0]']                 \n",
            "                                                                                                  \n",
            " flatten (Flatten)              (None, 2048)         0           ['conv2d_1[0][0]']               \n",
            "                                                                                                  \n",
            " text_visual_dense_layer_1 (Den  (None, 16)          32784       ['flatten[0][0]']                \n",
            " se)                                                                                              \n",
            "                                                                                                  \n",
            " text_visual_dense_layer (Dense  (None, 2)           34          ['text_visual_dense_layer_1[0][0]\n",
            " )                                                               ']                               \n",
            "                                                                                                  \n",
            "==================================================================================================\n",
            "Total params: 906,102\n",
            "Trainable params: 906,102\n",
            "Non-trainable params: 0\n",
            "__________________________________________________________________________________________________\n"
          ]
        }
      ]
    },
    {
      "cell_type": "code",
      "source": [
        "tv_model_conv.compile(optimizer='adam', loss='categorical_crossentropy', metrics='accuracy')\n",
        "tv_history_conv = tv_model_conv.fit(train_tv_binary_ds, validation_data=valid_tv_binary_ds, \n",
        "            epochs=500, callbacks=[tf.keras.callbacks.EarlyStopping(patience=10, restore_best_weights=True)])"
      ],
      "metadata": {
        "colab": {
          "base_uri": "https://localhost:8080/"
        },
        "id": "2TpMumRe7o9m",
        "outputId": "e4595f21-82e5-44fd-f86b-eee464986a62"
      },
      "execution_count": 81,
      "outputs": [
        {
          "output_type": "stream",
          "name": "stdout",
          "text": [
            "Epoch 1/500\n",
            "21/21 [==============================] - 23s 356ms/step - loss: 0.6102 - accuracy: 0.7165 - val_loss: 0.6183 - val_accuracy: 0.6725\n",
            "Epoch 2/500\n",
            "21/21 [==============================] - 5s 235ms/step - loss: 0.5221 - accuracy: 0.8123 - val_loss: 0.5814 - val_accuracy: 0.7205\n",
            "Epoch 3/500\n",
            "21/21 [==============================] - 5s 241ms/step - loss: 0.4894 - accuracy: 0.8349 - val_loss: 0.5603 - val_accuracy: 0.7424\n",
            "Epoch 4/500\n",
            "21/21 [==============================] - 5s 240ms/step - loss: 0.4884 - accuracy: 0.8271 - val_loss: 0.5367 - val_accuracy: 0.7642\n",
            "Epoch 5/500\n",
            "21/21 [==============================] - 5s 237ms/step - loss: 0.4507 - accuracy: 0.8645 - val_loss: 0.5228 - val_accuracy: 0.7860\n",
            "Epoch 6/500\n",
            "21/21 [==============================] - 5s 235ms/step - loss: 0.4584 - accuracy: 0.8505 - val_loss: 0.5205 - val_accuracy: 0.7860\n",
            "Epoch 7/500\n",
            "21/21 [==============================] - 5s 239ms/step - loss: 0.4258 - accuracy: 0.8801 - val_loss: 0.5094 - val_accuracy: 0.7817\n",
            "Epoch 8/500\n",
            "21/21 [==============================] - 5s 239ms/step - loss: 0.4100 - accuracy: 0.8925 - val_loss: 0.5405 - val_accuracy: 0.7555\n",
            "Epoch 9/500\n",
            "21/21 [==============================] - 5s 236ms/step - loss: 0.5341 - accuracy: 0.7804 - val_loss: 0.5787 - val_accuracy: 0.7162\n",
            "Epoch 10/500\n",
            "21/21 [==============================] - 5s 236ms/step - loss: 0.4381 - accuracy: 0.8583 - val_loss: 0.5192 - val_accuracy: 0.7817\n",
            "Epoch 11/500\n",
            "21/21 [==============================] - 5s 240ms/step - loss: 0.4000 - accuracy: 0.8824 - val_loss: 0.5368 - val_accuracy: 0.7729\n",
            "Epoch 12/500\n",
            "21/21 [==============================] - 5s 239ms/step - loss: 0.4142 - accuracy: 0.8707 - val_loss: 0.5269 - val_accuracy: 0.7642\n",
            "Epoch 13/500\n",
            "21/21 [==============================] - 5s 241ms/step - loss: 0.3872 - accuracy: 0.8871 - val_loss: 0.5329 - val_accuracy: 0.7555\n",
            "Epoch 14/500\n",
            "21/21 [==============================] - 5s 238ms/step - loss: 0.3639 - accuracy: 0.9081 - val_loss: 0.4938 - val_accuracy: 0.7991\n",
            "Epoch 15/500\n",
            "21/21 [==============================] - 5s 239ms/step - loss: 0.3453 - accuracy: 0.9167 - val_loss: 0.4973 - val_accuracy: 0.7904\n",
            "Epoch 16/500\n",
            "21/21 [==============================] - 5s 239ms/step - loss: 0.3394 - accuracy: 0.9159 - val_loss: 0.4862 - val_accuracy: 0.7991\n",
            "Epoch 17/500\n",
            "21/21 [==============================] - 5s 234ms/step - loss: 0.3238 - accuracy: 0.9268 - val_loss: 0.4963 - val_accuracy: 0.7817\n",
            "Epoch 18/500\n",
            "21/21 [==============================] - 5s 235ms/step - loss: 0.3104 - accuracy: 0.9361 - val_loss: 0.5092 - val_accuracy: 0.7773\n",
            "Epoch 19/500\n",
            "21/21 [==============================] - 5s 236ms/step - loss: 0.3007 - accuracy: 0.9377 - val_loss: 0.5150 - val_accuracy: 0.7860\n",
            "Epoch 20/500\n",
            "21/21 [==============================] - 5s 239ms/step - loss: 0.2944 - accuracy: 0.9377 - val_loss: 0.5293 - val_accuracy: 0.7773\n",
            "Epoch 21/500\n",
            "21/21 [==============================] - 5s 235ms/step - loss: 0.2978 - accuracy: 0.9315 - val_loss: 0.5381 - val_accuracy: 0.7642\n",
            "Epoch 22/500\n",
            "21/21 [==============================] - 5s 238ms/step - loss: 0.2885 - accuracy: 0.9361 - val_loss: 0.5223 - val_accuracy: 0.7686\n",
            "Epoch 23/500\n",
            "21/21 [==============================] - 5s 237ms/step - loss: 0.2792 - accuracy: 0.9408 - val_loss: 0.5425 - val_accuracy: 0.7642\n",
            "Epoch 24/500\n",
            "21/21 [==============================] - 5s 238ms/step - loss: 0.2669 - accuracy: 0.9463 - val_loss: 0.5510 - val_accuracy: 0.7380\n",
            "Epoch 25/500\n",
            "21/21 [==============================] - 5s 236ms/step - loss: 0.2798 - accuracy: 0.9361 - val_loss: 0.6081 - val_accuracy: 0.7118\n",
            "Epoch 26/500\n",
            "21/21 [==============================] - 5s 239ms/step - loss: 0.2714 - accuracy: 0.9385 - val_loss: 0.5676 - val_accuracy: 0.7467\n"
          ]
        }
      ]
    },
    {
      "cell_type": "code",
      "source": [
        "tv_model_conv.evaluate(test_tv_binary_ds)"
      ],
      "metadata": {
        "colab": {
          "base_uri": "https://localhost:8080/"
        },
        "id": "GGaZnem69eQn",
        "outputId": "f6933d8c-e77d-449d-e633-b0c4b2d7aa6b"
      },
      "execution_count": 82,
      "outputs": [
        {
          "output_type": "stream",
          "name": "stdout",
          "text": [
            "11/11 [==============================] - 0s 36ms/step - loss: 0.5514 - accuracy: 0.7682\n"
          ]
        },
        {
          "output_type": "execute_result",
          "data": {
            "text/plain": [
              "[0.5513774752616882, 0.7682215571403503]"
            ]
          },
          "metadata": {},
          "execution_count": 82
        }
      ]
    },
    {
      "cell_type": "markdown",
      "source": [
        "### T + A"
      ],
      "metadata": {
        "id": "gWHOuLbeKw2Y"
      }
    },
    {
      "cell_type": "code",
      "source": [
        "# preparing the data for training\n",
        "AUTOTUNE = tf.data.experimental.AUTOTUNE\n",
        "buffer_size = 64\n",
        "batch_size = 64\n",
        "\n",
        "###################################################################\n",
        "##### Dataset for Binary Classification Text and Visual Model #####\n",
        "###################################################################\n",
        "\n",
        "train_ta_binary_ds = tf.data.Dataset.from_tensor_slices(\n",
        "                (\n",
        "                    (data_train['text'],\n",
        "                    data_train['audio']), \n",
        "                    data_train['labels']\n",
        "                )\n",
        "            ).map(lambda x,y: (x,[1, 0]) if y < 0 else (x,[0,1])).shuffle(buffer_size).batch(batch_size).prefetch(AUTOTUNE)\n",
        "\n",
        "valid_ta_binary_ds = tf.data.Dataset.from_tensor_slices(\n",
        "                (\n",
        "                    (data_valid['text'],\n",
        "                    data_valid['audio']),\n",
        "                    data_valid['labels']\n",
        "                )\n",
        "            ).map(lambda x,y: (x,[1, 0]) if y < 0 else (x,[0,1])).shuffle(buffer_size).batch(batch_size).prefetch(AUTOTUNE)\n",
        "\n",
        "test_ta_binary_ds = tf.data.Dataset.from_tensor_slices(\n",
        "                (\n",
        "                    (data_test['text'],\n",
        "                    data_test['audio']),\n",
        "                    data_test['labels']\n",
        "                )\n",
        "            ).map(lambda x,y: (x,[1, 0]) if y < 0 else (x,[0,1])).shuffle(buffer_size).batch(batch_size).prefetch(AUTOTUNE)"
      ],
      "metadata": {
        "id": "5saXpeNLKzia"
      },
      "execution_count": 83,
      "outputs": []
    },
    {
      "cell_type": "code",
      "source": [
        "for data in train_ta_binary_ds.take(1):\n",
        "  print(data)"
      ],
      "metadata": {
        "id": "MbQSN3VkKzib",
        "outputId": "1ba39362-25f4-4147-97fd-7668f98185e2",
        "colab": {
          "base_uri": "https://localhost:8080/"
        }
      },
      "execution_count": 84,
      "outputs": [
        {
          "output_type": "stream",
          "name": "stdout",
          "text": [
            "((<tf.Tensor: shape=(64, 50, 300), dtype=float32, numpy=\n",
            "array([[[ 0.       ,  0.       ,  0.       , ...,  0.       ,\n",
            "          0.       ,  0.       ],\n",
            "        [ 0.       ,  0.       ,  0.       , ...,  0.       ,\n",
            "          0.       ,  0.       ],\n",
            "        [ 0.       ,  0.       ,  0.       , ...,  0.       ,\n",
            "          0.       ,  0.       ],\n",
            "        ...,\n",
            "        [-0.30494  ,  0.01233  ,  0.038375 , ...,  0.011121 ,\n",
            "          0.14095  , -0.021138 ],\n",
            "        [-0.28679  ,  0.37497  , -0.55139  , ..., -0.17936  ,\n",
            "          0.23549  ,  0.040642 ],\n",
            "        [-0.42625  ,  0.4431   , -0.34517  , ..., -0.4303   ,\n",
            "         -0.068851 ,  0.12875  ]],\n",
            "\n",
            "       [[ 0.       ,  0.       ,  0.       , ...,  0.       ,\n",
            "          0.       ,  0.       ],\n",
            "        [ 0.       ,  0.       ,  0.       , ...,  0.       ,\n",
            "          0.       ,  0.       ],\n",
            "        [ 0.       ,  0.       ,  0.       , ...,  0.       ,\n",
            "          0.       ,  0.       ],\n",
            "        ...,\n",
            "        [ 0.060216 ,  0.21799  , -0.04249  , ...,  0.11709  ,\n",
            "         -0.16692  , -0.094085 ],\n",
            "        [ 0.27204  , -0.06203  , -0.1884   , ...,  0.13015  ,\n",
            "         -0.18317  ,  0.1323   ],\n",
            "        [ 0.2071   , -0.47656  ,  0.15479  , ..., -0.26411  ,\n",
            "         -0.16523  ,  0.23532  ]],\n",
            "\n",
            "       [[ 0.       ,  0.       ,  0.       , ...,  0.       ,\n",
            "          0.       ,  0.       ],\n",
            "        [ 0.       ,  0.       ,  0.       , ...,  0.       ,\n",
            "          0.       ,  0.       ],\n",
            "        [ 0.       ,  0.       ,  0.       , ...,  0.       ,\n",
            "          0.       ,  0.       ],\n",
            "        ...,\n",
            "        [ 0.27204  , -0.06203  , -0.1884   , ...,  0.13015  ,\n",
            "         -0.18317  ,  0.1323   ],\n",
            "        [ 0.2998   ,  0.23987  , -0.15863  , ..., -0.048577 ,\n",
            "         -0.0017002,  0.25579  ],\n",
            "        [ 0.054071 ,  0.1111   , -0.14557  , ..., -0.27098  ,\n",
            "          0.044033 ,  0.003769 ]],\n",
            "\n",
            "       ...,\n",
            "\n",
            "       [[ 0.       ,  0.       ,  0.       , ...,  0.       ,\n",
            "          0.       ,  0.       ],\n",
            "        [ 0.       ,  0.       ,  0.       , ...,  0.       ,\n",
            "          0.       ,  0.       ],\n",
            "        [ 0.       ,  0.       ,  0.       , ...,  0.       ,\n",
            "          0.       ,  0.       ],\n",
            "        ...,\n",
            "        [-0.42625  ,  0.4431   , -0.34517  , ..., -0.4303   ,\n",
            "         -0.068851 ,  0.12875  ],\n",
            "        [-0.29493  ,  0.15086  , -0.25308  , ...,  0.25197  ,\n",
            "         -0.58585  , -0.17676  ],\n",
            "        [-0.014862 ,  0.1527   , -0.28112  , ..., -0.040564 ,\n",
            "          0.056418 ,  0.23428  ]],\n",
            "\n",
            "       [[ 0.       ,  0.       ,  0.       , ...,  0.       ,\n",
            "          0.       ,  0.       ],\n",
            "        [ 0.       ,  0.       ,  0.       , ...,  0.       ,\n",
            "          0.       ,  0.       ],\n",
            "        [ 0.       ,  0.       ,  0.       , ...,  0.       ,\n",
            "          0.       ,  0.       ],\n",
            "        ...,\n",
            "        [ 0.28304  ,  0.26176  ,  0.067534 , ...,  0.077725 ,\n",
            "         -0.046055 ,  0.31524  ],\n",
            "        [-0.28679  ,  0.37497  , -0.55139  , ..., -0.17936  ,\n",
            "          0.23549  ,  0.040642 ],\n",
            "        [ 0.       ,  0.       ,  0.       , ...,  0.       ,\n",
            "          0.       ,  0.       ]],\n",
            "\n",
            "       [[ 0.       ,  0.       ,  0.       , ...,  0.       ,\n",
            "          0.       ,  0.       ],\n",
            "        [ 0.       ,  0.       ,  0.       , ...,  0.       ,\n",
            "          0.       ,  0.       ],\n",
            "        [ 0.       ,  0.       ,  0.       , ...,  0.       ,\n",
            "          0.       ,  0.       ],\n",
            "        ...,\n",
            "        [-0.096463 ,  0.12389  , -0.28605  , ...,  0.053104 ,\n",
            "          0.072041 , -0.30538  ],\n",
            "        [-0.099534 ,  0.028202 , -0.23189  , ..., -0.10302  ,\n",
            "         -0.039964 ,  0.26808  ],\n",
            "        [-0.39717  ,  0.30269  , -0.18428  , ..., -0.35103  ,\n",
            "          0.31035  ,  0.36604  ]]], dtype=float32)>, <tf.Tensor: shape=(64, 50, 5), dtype=float64, numpy=\n",
            "array([[[ 0.        ,  0.        ,  0.        ,  0.        ,\n",
            "          0.        ],\n",
            "        [ 0.        ,  0.        ,  0.        ,  0.        ,\n",
            "          0.        ],\n",
            "        [ 0.        ,  0.        ,  0.        ,  0.        ,\n",
            "          0.        ],\n",
            "        ...,\n",
            "        [ 1.        ,  0.41741095,  0.09442075,  0.00701649,\n",
            "          1.65318085],\n",
            "        [ 1.        ,  0.58115881,  0.13991691, -0.12851601,\n",
            "          0.19808479],\n",
            "        [ 0.1097561 ,  0.15414881,  0.10128964, -0.03139262,\n",
            "          1.37054186]],\n",
            "\n",
            "       [[ 0.        ,  0.        ,  0.        ,  0.        ,\n",
            "          0.        ],\n",
            "        [ 0.        ,  0.        ,  0.        ,  0.        ,\n",
            "          0.        ],\n",
            "        [ 0.        ,  0.        ,  0.        ,  0.        ,\n",
            "          0.        ],\n",
            "        ...,\n",
            "        [ 1.        ,  0.14424279,  0.12215636, -0.08616413,\n",
            "         -0.19754794],\n",
            "        [ 1.        ,  0.35237395,  0.09580124,  0.06160432,\n",
            "          1.76464972],\n",
            "        [ 0.5625    ,  0.17342991,  0.12159295,  0.01218553,\n",
            "          2.4575692 ]],\n",
            "\n",
            "       [[ 0.        ,  0.        ,  0.        ,  0.        ,\n",
            "          0.        ],\n",
            "        [ 0.        ,  0.        ,  0.        ,  0.        ,\n",
            "          0.        ],\n",
            "        [ 0.        ,  0.        ,  0.        ,  0.        ,\n",
            "          0.        ],\n",
            "        ...,\n",
            "        [ 0.48148148,  0.05540487,  0.14187002,  0.15402128,\n",
            "          0.26071862],\n",
            "        [ 0.94      ,  0.16856336,  0.14677174,  0.22280548,\n",
            "         -1.18946568],\n",
            "        [ 0.19565217,  0.09556772,  0.1135634 ,  0.16528978,\n",
            "          0.28520868]],\n",
            "\n",
            "       ...,\n",
            "\n",
            "       [[ 0.        ,  0.        ,  0.        ,  0.        ,\n",
            "          0.        ],\n",
            "        [ 0.        ,  0.        ,  0.        ,  0.        ,\n",
            "          0.        ],\n",
            "        [ 0.        ,  0.        ,  0.        ,  0.        ,\n",
            "          0.        ],\n",
            "        ...,\n",
            "        [ 0.92857143,  0.18548016,  0.11648651, -0.14608271,\n",
            "         -1.91545319],\n",
            "        [ 0.6       ,  0.18715476,  0.13743538, -0.31384405,\n",
            "          0.73966194],\n",
            "        [ 0.5       ,  0.17881588,  0.09780017, -0.05575377,\n",
            "          0.99644995]],\n",
            "\n",
            "       [[ 0.        ,  0.        ,  0.        ,  0.        ,\n",
            "          0.        ],\n",
            "        [ 0.        ,  0.        ,  0.        ,  0.        ,\n",
            "          0.        ],\n",
            "        [ 0.        ,  0.        ,  0.        ,  0.        ,\n",
            "          0.        ],\n",
            "        ...,\n",
            "        [ 0.89655172,  0.26781797,  0.11029647,  0.01985415,\n",
            "          0.29241453],\n",
            "        [ 0.        ,  0.08130081,  0.15026763, -0.07614305,\n",
            "          0.85199056],\n",
            "        [ 0.        ,  0.        ,  0.        ,  0.        ,\n",
            "          0.        ]],\n",
            "\n",
            "       [[ 0.        ,  0.        ,  0.        ,  0.        ,\n",
            "          0.        ],\n",
            "        [ 0.        ,  0.        ,  0.        ,  0.        ,\n",
            "          0.        ],\n",
            "        [ 0.        ,  0.        ,  0.        ,  0.        ,\n",
            "          0.        ],\n",
            "        ...,\n",
            "        [ 0.25      ,  0.24974474,  0.14719191,  0.01762236,\n",
            "          1.74999833],\n",
            "        [ 0.83333333,  0.47534259,  0.12876467,  0.0447276 ,\n",
            "          0.91082394],\n",
            "        [ 0.56976744,  0.35597357,  0.13885209, -0.02327958,\n",
            "          0.21130343]]])>), <tf.Tensor: shape=(64, 2), dtype=int32, numpy=\n",
            "array([[0, 1],\n",
            "       [0, 1],\n",
            "       [1, 0],\n",
            "       [0, 1],\n",
            "       [1, 0],\n",
            "       [1, 0],\n",
            "       [0, 1],\n",
            "       [0, 1],\n",
            "       [0, 1],\n",
            "       [0, 1],\n",
            "       [0, 1],\n",
            "       [0, 1],\n",
            "       [0, 1],\n",
            "       [0, 1],\n",
            "       [0, 1],\n",
            "       [1, 0],\n",
            "       [1, 0],\n",
            "       [0, 1],\n",
            "       [1, 0],\n",
            "       [1, 0],\n",
            "       [1, 0],\n",
            "       [1, 0],\n",
            "       [1, 0],\n",
            "       [1, 0],\n",
            "       [1, 0],\n",
            "       [1, 0],\n",
            "       [0, 1],\n",
            "       [1, 0],\n",
            "       [0, 1],\n",
            "       [1, 0],\n",
            "       [0, 1],\n",
            "       [1, 0],\n",
            "       [0, 1],\n",
            "       [0, 1],\n",
            "       [1, 0],\n",
            "       [0, 1],\n",
            "       [0, 1],\n",
            "       [1, 0],\n",
            "       [0, 1],\n",
            "       [0, 1],\n",
            "       [1, 0],\n",
            "       [1, 0],\n",
            "       [1, 0],\n",
            "       [1, 0],\n",
            "       [0, 1],\n",
            "       [0, 1],\n",
            "       [0, 1],\n",
            "       [0, 1],\n",
            "       [1, 0],\n",
            "       [1, 0],\n",
            "       [1, 0],\n",
            "       [0, 1],\n",
            "       [1, 0],\n",
            "       [1, 0],\n",
            "       [0, 1],\n",
            "       [0, 1],\n",
            "       [1, 0],\n",
            "       [1, 0],\n",
            "       [1, 0],\n",
            "       [0, 1],\n",
            "       [0, 1],\n",
            "       [0, 1],\n",
            "       [0, 1],\n",
            "       [0, 1]], dtype=int32)>)\n"
          ]
        }
      ]
    },
    {
      "cell_type": "code",
      "source": [
        "########## Trying convulution Netwwork ##########\n",
        "\n",
        "##############################################\n",
        "#### Merging textual and Audio analysis #####\n",
        "##############################################\n",
        "\n",
        "t_lstm_lyr.trainable = False\n",
        "t_att_lyr.trainable  = False\n",
        "t_dense_lyr_1.trainable = False\n",
        "\n",
        "a_lstm_lyr.trainable = False\n",
        "a_att_lyr.trainable  = False\n",
        "a_dense_lyr_1.trainable = False\n",
        "\n",
        "\n",
        "t_x = t_mask_lyr(t_input)\n",
        "t_x = t_lstm_lyr(t_x)\n",
        "t_att_we, t_att_op = t_att_lyr(t_x)\n",
        "t_op = t_dense_lyr_1(t_att_op)\n",
        "\n",
        "a_x = a_mask_lyr(a_input)\n",
        "a_x = a_lstm_lyr(a_x)\n",
        "a_att_we, a_att_op = a_att_lyr(a_x)\n",
        "a_op = a_dense_lyr_1(a_att_op)\n",
        "\n",
        "# x = tf.keras.layers.concatenate((t_att_op, v_att_op))\n",
        "# x = tf.keras.layers.concatenate((t_op, v_op))\n",
        "\n",
        "\n",
        "t_op_reshaped = tf.keras.layers.Reshape((8,4,1))(t_op)\n",
        "a_op_reshaped = tf.keras.layers.Reshape((8,4,1))(a_op)\n",
        "\n",
        "\n",
        "op_stacked = tf.keras.layers.Concatenate()([t_op_reshaped, a_op_reshaped])\n",
        "\n",
        "x = tf.keras.layers.Conv2D(32, (1,1))(op_stacked)\n",
        "x = tf.keras.layers.Conv2D(64, (1,1))(x)\n",
        "x = tf.keras.layers.Flatten()(x)\n",
        "\n",
        "# x  = tf.keras.layers.Lambda(lambda x: tf.math.multiply(x[0],x[1]))((t_op, v_op))\n",
        "\n",
        "ta_dense_1 = Dense(16, activation='softmax', name='text_audio_dense_layer_1')\n",
        "ta_dense = Dense(2, activation='softmax', name='text_audio_dense_layer')\n",
        "\n",
        "x = ta_dense_1(x)\n",
        "op = ta_dense(x)\n",
        "\n",
        "ta_model_conv = Model(inputs=[t_input, a_input], outputs=op, name='Text_Audio_Model')\n",
        "ta_model_conv.summary()"
      ],
      "metadata": {
        "colab": {
          "base_uri": "https://localhost:8080/"
        },
        "outputId": "9e2fd256-a4c5-4d4a-fff8-174519d37194",
        "id": "bVy7q5pbKzic"
      },
      "execution_count": 85,
      "outputs": [
        {
          "output_type": "stream",
          "name": "stdout",
          "text": [
            "Model: \"Text_Audio_Model\"\n",
            "__________________________________________________________________________________________________\n",
            " Layer (type)                   Output Shape         Param #     Connected to                     \n",
            "==================================================================================================\n",
            " text_input_layer (InputLayer)  [(None, 50, 300)]    0           []                               \n",
            "                                                                                                  \n",
            " a_input_layer (InputLayer)     [(None, 50, 5)]      0           []                               \n",
            "                                                                                                  \n",
            " text_masking_layer (Masking)   (None, 50, 300)      0           ['text_input_layer[0][0]']       \n",
            "                                                                                                  \n",
            " a_mask_layer (Masking)         (None, 50, 5)        0           ['a_input_layer[0][0]']          \n",
            "                                                                                                  \n",
            " text_lstm_layer_1 (LSTM)       (None, 50, 256)      570368      ['text_masking_layer[3][0]']     \n",
            "                                                                                                  \n",
            " a_lstm_layer_1 (LSTM)          (None, 50, 256)      268288      ['a_mask_layer[1][0]']           \n",
            "                                                                                                  \n",
            " attention_layer (AttentionLaye  ((None, 50, 1),     306         ['text_lstm_layer_1[3][0]']      \n",
            " r)                              (None, 256))                                                     \n",
            "                                                                                                  \n",
            " attention_layer_2 (AttentionLa  ((None, 50, 1),     306         ['a_lstm_layer_1[1][0]']         \n",
            " yer)                            (None, 256))                                                     \n",
            "                                                                                                  \n",
            " text_dense_layer_1 (Dense)     (None, 32)           8224        ['attention_layer[3][1]']        \n",
            "                                                                                                  \n",
            " a_dense_layer_1 (Dense)        (None, 32)           8224        ['attention_layer_2[1][1]']      \n",
            "                                                                                                  \n",
            " reshape_2 (Reshape)            (None, 8, 4, 1)      0           ['text_dense_layer_1[3][0]']     \n",
            "                                                                                                  \n",
            " reshape_3 (Reshape)            (None, 8, 4, 1)      0           ['a_dense_layer_1[1][0]']        \n",
            "                                                                                                  \n",
            " concatenate_1 (Concatenate)    (None, 8, 4, 2)      0           ['reshape_2[0][0]',              \n",
            "                                                                  'reshape_3[0][0]']              \n",
            "                                                                                                  \n",
            " conv2d_2 (Conv2D)              (None, 8, 4, 32)     96          ['concatenate_1[0][0]']          \n",
            "                                                                                                  \n",
            " conv2d_3 (Conv2D)              (None, 8, 4, 64)     2112        ['conv2d_2[0][0]']               \n",
            "                                                                                                  \n",
            " flatten_1 (Flatten)            (None, 2048)         0           ['conv2d_3[0][0]']               \n",
            "                                                                                                  \n",
            " text_audio_dense_layer_1 (Dens  (None, 16)          32784       ['flatten_1[0][0]']              \n",
            " e)                                                                                               \n",
            "                                                                                                  \n",
            " text_audio_dense_layer (Dense)  (None, 2)           34          ['text_audio_dense_layer_1[0][0]'\n",
            "                                                                 ]                                \n",
            "                                                                                                  \n",
            "==================================================================================================\n",
            "Total params: 890,742\n",
            "Trainable params: 35,026\n",
            "Non-trainable params: 855,716\n",
            "__________________________________________________________________________________________________\n"
          ]
        }
      ]
    },
    {
      "cell_type": "code",
      "source": [
        "ta_model_conv.compile(optimizer='adam', loss='categorical_crossentropy', metrics='accuracy')\n",
        "ta_history_conv = ta_model_conv.fit(train_ta_binary_ds, validation_data=valid_ta_binary_ds, \n",
        "            epochs=500, callbacks=[tf.keras.callbacks.EarlyStopping(patience=10, restore_best_weights=True)])"
      ],
      "metadata": {
        "colab": {
          "base_uri": "https://localhost:8080/"
        },
        "outputId": "e2ca6de4-d1a1-49fa-d515-828aecf2c327",
        "id": "7gjWAXPxKzid"
      },
      "execution_count": 86,
      "outputs": [
        {
          "output_type": "stream",
          "name": "stdout",
          "text": [
            "Epoch 1/500\n",
            "21/21 [==============================] - 9s 156ms/step - loss: 0.6046 - accuracy: 0.7344 - val_loss: 0.5736 - val_accuracy: 0.7511\n",
            "Epoch 2/500\n",
            "21/21 [==============================] - 1s 42ms/step - loss: 0.4475 - accuracy: 0.9206 - val_loss: 0.5273 - val_accuracy: 0.7948\n",
            "Epoch 3/500\n",
            "21/21 [==============================] - 1s 42ms/step - loss: 0.4057 - accuracy: 0.9245 - val_loss: 0.5155 - val_accuracy: 0.7991\n",
            "Epoch 4/500\n",
            "21/21 [==============================] - 1s 41ms/step - loss: 0.3895 - accuracy: 0.9252 - val_loss: 0.5083 - val_accuracy: 0.8035\n",
            "Epoch 5/500\n",
            "21/21 [==============================] - 1s 43ms/step - loss: 0.3790 - accuracy: 0.9283 - val_loss: 0.5049 - val_accuracy: 0.8035\n",
            "Epoch 6/500\n",
            "21/21 [==============================] - 1s 43ms/step - loss: 0.3714 - accuracy: 0.9291 - val_loss: 0.4995 - val_accuracy: 0.7948\n",
            "Epoch 7/500\n",
            "21/21 [==============================] - 1s 42ms/step - loss: 0.3624 - accuracy: 0.9276 - val_loss: 0.4959 - val_accuracy: 0.8122\n",
            "Epoch 8/500\n",
            "21/21 [==============================] - 1s 43ms/step - loss: 0.3548 - accuracy: 0.9291 - val_loss: 0.4923 - val_accuracy: 0.8122\n",
            "Epoch 9/500\n",
            "21/21 [==============================] - 1s 41ms/step - loss: 0.3483 - accuracy: 0.9276 - val_loss: 0.4899 - val_accuracy: 0.8122\n",
            "Epoch 10/500\n",
            "21/21 [==============================] - 1s 42ms/step - loss: 0.3416 - accuracy: 0.9283 - val_loss: 0.4883 - val_accuracy: 0.8122\n",
            "Epoch 11/500\n",
            "21/21 [==============================] - 1s 42ms/step - loss: 0.3356 - accuracy: 0.9276 - val_loss: 0.4862 - val_accuracy: 0.8079\n",
            "Epoch 12/500\n",
            "21/21 [==============================] - 1s 42ms/step - loss: 0.3312 - accuracy: 0.9276 - val_loss: 0.4851 - val_accuracy: 0.8079\n",
            "Epoch 13/500\n",
            "21/21 [==============================] - 1s 42ms/step - loss: 0.3253 - accuracy: 0.9283 - val_loss: 0.4847 - val_accuracy: 0.8079\n",
            "Epoch 14/500\n",
            "21/21 [==============================] - 1s 43ms/step - loss: 0.3206 - accuracy: 0.9283 - val_loss: 0.4830 - val_accuracy: 0.8079\n",
            "Epoch 15/500\n",
            "21/21 [==============================] - 1s 41ms/step - loss: 0.3164 - accuracy: 0.9276 - val_loss: 0.4798 - val_accuracy: 0.8122\n",
            "Epoch 16/500\n",
            "21/21 [==============================] - 1s 42ms/step - loss: 0.3207 - accuracy: 0.9190 - val_loss: 0.4948 - val_accuracy: 0.7904\n",
            "Epoch 17/500\n",
            "21/21 [==============================] - 1s 44ms/step - loss: 0.3094 - accuracy: 0.9260 - val_loss: 0.4823 - val_accuracy: 0.8079\n",
            "Epoch 18/500\n",
            "21/21 [==============================] - 1s 42ms/step - loss: 0.3047 - accuracy: 0.9291 - val_loss: 0.4815 - val_accuracy: 0.8035\n",
            "Epoch 19/500\n",
            "21/21 [==============================] - 1s 42ms/step - loss: 0.3013 - accuracy: 0.9283 - val_loss: 0.4808 - val_accuracy: 0.8079\n",
            "Epoch 20/500\n",
            "21/21 [==============================] - 1s 42ms/step - loss: 0.2978 - accuracy: 0.9299 - val_loss: 0.4813 - val_accuracy: 0.8035\n",
            "Epoch 21/500\n",
            "21/21 [==============================] - 1s 41ms/step - loss: 0.2950 - accuracy: 0.9291 - val_loss: 0.4798 - val_accuracy: 0.8079\n",
            "Epoch 22/500\n",
            "21/21 [==============================] - 1s 42ms/step - loss: 0.2913 - accuracy: 0.9291 - val_loss: 0.4802 - val_accuracy: 0.8079\n",
            "Epoch 23/500\n",
            "21/21 [==============================] - 1s 42ms/step - loss: 0.2890 - accuracy: 0.9291 - val_loss: 0.4814 - val_accuracy: 0.8035\n",
            "Epoch 24/500\n",
            "21/21 [==============================] - 1s 42ms/step - loss: 0.2858 - accuracy: 0.9283 - val_loss: 0.4795 - val_accuracy: 0.8122\n",
            "Epoch 25/500\n",
            "21/21 [==============================] - 1s 42ms/step - loss: 0.2827 - accuracy: 0.9291 - val_loss: 0.4809 - val_accuracy: 0.8035\n",
            "Epoch 26/500\n",
            "21/21 [==============================] - 1s 43ms/step - loss: 0.2807 - accuracy: 0.9299 - val_loss: 0.4804 - val_accuracy: 0.8035\n",
            "Epoch 27/500\n",
            "21/21 [==============================] - 1s 41ms/step - loss: 0.2780 - accuracy: 0.9291 - val_loss: 0.4803 - val_accuracy: 0.8079\n",
            "Epoch 28/500\n",
            "21/21 [==============================] - 1s 42ms/step - loss: 0.2758 - accuracy: 0.9291 - val_loss: 0.4809 - val_accuracy: 0.8079\n",
            "Epoch 29/500\n",
            "21/21 [==============================] - 1s 44ms/step - loss: 0.2730 - accuracy: 0.9291 - val_loss: 0.4817 - val_accuracy: 0.8079\n",
            "Epoch 30/500\n",
            "21/21 [==============================] - 1s 43ms/step - loss: 0.2707 - accuracy: 0.9291 - val_loss: 0.4824 - val_accuracy: 0.8079\n",
            "Epoch 31/500\n",
            "21/21 [==============================] - 1s 42ms/step - loss: 0.2697 - accuracy: 0.9276 - val_loss: 0.4842 - val_accuracy: 0.8035\n",
            "Epoch 32/500\n",
            "21/21 [==============================] - 1s 43ms/step - loss: 0.2681 - accuracy: 0.9299 - val_loss: 0.4869 - val_accuracy: 0.7991\n",
            "Epoch 33/500\n",
            "21/21 [==============================] - 1s 42ms/step - loss: 0.2667 - accuracy: 0.9291 - val_loss: 0.4852 - val_accuracy: 0.8079\n",
            "Epoch 34/500\n",
            "21/21 [==============================] - 1s 42ms/step - loss: 0.2649 - accuracy: 0.9268 - val_loss: 0.4860 - val_accuracy: 0.8079\n"
          ]
        }
      ]
    },
    {
      "cell_type": "code",
      "source": [
        "ta_model_conv.evaluate(test_ta_binary_ds)"
      ],
      "metadata": {
        "colab": {
          "base_uri": "https://localhost:8080/"
        },
        "outputId": "912c1da2-3428-450b-919f-3c86ac4ff718",
        "id": "9FL7TSSYKzid"
      },
      "execution_count": 87,
      "outputs": [
        {
          "output_type": "stream",
          "name": "stdout",
          "text": [
            "11/11 [==============================] - 0s 34ms/step - loss: 0.5687 - accuracy: 0.7609\n"
          ]
        },
        {
          "output_type": "execute_result",
          "data": {
            "text/plain": [
              "[0.5687164664268494, 0.7609329223632812]"
            ]
          },
          "metadata": {},
          "execution_count": 87
        }
      ]
    },
    {
      "cell_type": "markdown",
      "source": [
        "### T + V + A"
      ],
      "metadata": {
        "id": "Di6KNM-qPDMF"
      }
    },
    {
      "cell_type": "code",
      "source": [
        "# preparing the data for training\n",
        "AUTOTUNE = tf.data.experimental.AUTOTUNE\n",
        "buffer_size = 64\n",
        "batch_size = 64\n",
        "\n",
        "###################################################################\n",
        "##### Dataset for Binary Classification Text and Visual Model #####\n",
        "###################################################################\n",
        "\n",
        "train_tva_binary_ds = tf.data.Dataset.from_tensor_slices(\n",
        "                (\n",
        "                    (data_train['text'],\n",
        "                     data_train['vision'],\n",
        "                     data_train['audio']\n",
        "                    ), \n",
        "                    data_train['labels']\n",
        "                )\n",
        "            ).map(lambda x,y: (x,[1, 0]) if y < 0 else (x,[0,1])).shuffle(buffer_size).batch(batch_size).prefetch(AUTOTUNE)\n",
        "\n",
        "valid_tva_binary_ds = tf.data.Dataset.from_tensor_slices(\n",
        "                (\n",
        "                    (data_valid['text'],\n",
        "                     data_valid['vision'],\n",
        "                     data_valid['audio']\n",
        "                    ),\n",
        "                    data_valid['labels']\n",
        "                )\n",
        "            ).map(lambda x,y: (x,[1, 0]) if y < 0 else (x,[0,1])).shuffle(buffer_size).batch(batch_size).prefetch(AUTOTUNE)\n",
        "\n",
        "test_tva_binary_ds = tf.data.Dataset.from_tensor_slices(\n",
        "                (\n",
        "                    (data_test['text'],\n",
        "                     data_test['vision'],\n",
        "                     data_test['audio']\n",
        "                    ),\n",
        "                    data_test['labels']\n",
        "                )\n",
        "            ).map(lambda x,y: (x,[1, 0]) if y < 0 else (x,[0,1])).shuffle(buffer_size).batch(batch_size).prefetch(AUTOTUNE)"
      ],
      "metadata": {
        "id": "ZMj_t7T9NwvW"
      },
      "execution_count": 88,
      "outputs": []
    },
    {
      "cell_type": "code",
      "source": [
        "########## Trying convulution Netwwork ##########\n",
        "\n",
        "##############################################\n",
        "#### Merging textual and Audio analysis #####\n",
        "##############################################\n",
        "\n",
        "t_lstm_lyr.trainable = False\n",
        "t_att_lyr.trainable  = False\n",
        "t_dense_lyr_1.trainable = False\n",
        "\n",
        "v_lstm_lyr.trainable = False\n",
        "v_att_lyr.trainable  = False\n",
        "v_dense_lyr_1.trainable = False\n",
        "\n",
        "a_lstm_lyr.trainable = False\n",
        "a_att_lyr.trainable  = False\n",
        "a_dense_lyr_1.trainable = False\n",
        "\n",
        "t_x = t_mask_lyr(t_input)\n",
        "t_x = t_lstm_lyr(t_x)\n",
        "t_att_we, t_att_op = t_att_lyr(t_x)\n",
        "t_op = t_dense_lyr_1(t_att_op)\n",
        "\n",
        "v_x = v_mask_lyr(v_input)\n",
        "v_x = v_lstm_lyr(v_x)\n",
        "v_att_we, v_att_op = v_att_lyr(v_x)\n",
        "v_op = v_dense_lyr_1(v_att_op)\n",
        "\n",
        "a_x = a_mask_lyr(a_input)\n",
        "a_x = a_lstm_lyr(a_x)\n",
        "a_att_we, a_att_op = a_att_lyr(a_x)\n",
        "a_op = a_dense_lyr_1(a_att_op)\n",
        "\n",
        "# x = tf.keras.layers.concatenate((t_att_op, v_att_op))\n",
        "# x = tf.keras.layers.concatenate((t_op, v_op))\n",
        "\n",
        "t_op_reshaped = tf.keras.layers.Reshape((8,4,1))(t_op)\n",
        "v_op_reshaped = tf.keras.layers.Reshape((8,4,1))(v_op)\n",
        "a_op_reshaped = tf.keras.layers.Reshape((8,4,1))(a_op)\n",
        "\n",
        "op_stacked = tf.keras.layers.Concatenate()([t_op_reshaped, v_op_reshaped, a_op_reshaped])\n",
        "\n",
        "x = tf.keras.layers.Conv2D(32, (2,2))(op_stacked)\n",
        "x = tf.keras.layers.Conv2D(64, (2,2))(x)\n",
        "x = tf.keras.layers.Flatten()(x)\n",
        "\n",
        "# x  = tf.keras.layers.Lambda(lambda x: tf.math.multiply(x[0],x[1]))((t_op, v_op))\n",
        "\n",
        "tva_dense_1 = Dense(16, activation='softmax', name='text_vision_audio_dense_layer_1')\n",
        "tva_dense = Dense(2, activation='softmax', name='text_vision_audio_dense_layer')\n",
        "\n",
        "x = tva_dense_1(x)\n",
        "op = tva_dense(x)\n",
        "\n",
        "tva_model_conv = Model(inputs=[t_input, v_input, a_input], outputs=op, name='Text_Vision_Audio_Model')\n",
        "tva_model_conv.summary()"
      ],
      "metadata": {
        "colab": {
          "base_uri": "https://localhost:8080/"
        },
        "id": "QzsegfdoPjNa",
        "outputId": "31620060-a3cc-4f5f-db52-6f862ba6f123"
      },
      "execution_count": 89,
      "outputs": [
        {
          "output_type": "stream",
          "name": "stdout",
          "text": [
            "Model: \"Text_Vision_Audio_Model\"\n",
            "__________________________________________________________________________________________________\n",
            " Layer (type)                   Output Shape         Param #     Connected to                     \n",
            "==================================================================================================\n",
            " text_input_layer (InputLayer)  [(None, 50, 300)]    0           []                               \n",
            "                                                                                                  \n",
            " v_input_layer (InputLayer)     [(None, 50, 20)]     0           []                               \n",
            "                                                                                                  \n",
            " a_input_layer (InputLayer)     [(None, 50, 5)]      0           []                               \n",
            "                                                                                                  \n",
            " text_masking_layer (Masking)   (None, 50, 300)      0           ['text_input_layer[0][0]']       \n",
            "                                                                                                  \n",
            " v_mask_layer (Masking)         (None, 50, 20)       0           ['v_input_layer[0][0]']          \n",
            "                                                                                                  \n",
            " a_mask_layer (Masking)         (None, 50, 5)        0           ['a_input_layer[0][0]']          \n",
            "                                                                                                  \n",
            " text_lstm_layer_1 (LSTM)       (None, 50, 256)      570368      ['text_masking_layer[4][0]']     \n",
            "                                                                                                  \n",
            " v_lstm_layer_1 (LSTM)          (None, 50, 256)      283648      ['v_mask_layer[3][0]']           \n",
            "                                                                                                  \n",
            " a_lstm_layer_1 (LSTM)          (None, 50, 256)      268288      ['a_mask_layer[2][0]']           \n",
            "                                                                                                  \n",
            " attention_layer (AttentionLaye  ((None, 50, 1),     306         ['text_lstm_layer_1[4][0]']      \n",
            " r)                              (None, 256))                                                     \n",
            "                                                                                                  \n",
            " attention_layer_1 (AttentionLa  ((None, 50, 1),     306         ['v_lstm_layer_1[3][0]']         \n",
            " yer)                            (None, 256))                                                     \n",
            "                                                                                                  \n",
            " attention_layer_2 (AttentionLa  ((None, 50, 1),     306         ['a_lstm_layer_1[2][0]']         \n",
            " yer)                            (None, 256))                                                     \n",
            "                                                                                                  \n",
            " text_dense_layer_1 (Dense)     (None, 32)           8224        ['attention_layer[4][1]']        \n",
            "                                                                                                  \n",
            " v_dense_layer_1 (Dense)        (None, 32)           8224        ['attention_layer_1[3][1]']      \n",
            "                                                                                                  \n",
            " a_dense_layer_1 (Dense)        (None, 32)           8224        ['attention_layer_2[2][1]']      \n",
            "                                                                                                  \n",
            " reshape_4 (Reshape)            (None, 8, 4, 1)      0           ['text_dense_layer_1[4][0]']     \n",
            "                                                                                                  \n",
            " reshape_5 (Reshape)            (None, 8, 4, 1)      0           ['v_dense_layer_1[3][0]']        \n",
            "                                                                                                  \n",
            " reshape_6 (Reshape)            (None, 8, 4, 1)      0           ['a_dense_layer_1[2][0]']        \n",
            "                                                                                                  \n",
            " concatenate_2 (Concatenate)    (None, 8, 4, 3)      0           ['reshape_4[0][0]',              \n",
            "                                                                  'reshape_5[0][0]',              \n",
            "                                                                  'reshape_6[0][0]']              \n",
            "                                                                                                  \n",
            " conv2d_4 (Conv2D)              (None, 7, 3, 32)     416         ['concatenate_2[0][0]']          \n",
            "                                                                                                  \n",
            " conv2d_5 (Conv2D)              (None, 6, 2, 64)     8256        ['conv2d_4[0][0]']               \n",
            "                                                                                                  \n",
            " flatten_2 (Flatten)            (None, 768)          0           ['conv2d_5[0][0]']               \n",
            "                                                                                                  \n",
            " text_vision_audio_dense_layer_  (None, 16)          12304       ['flatten_2[0][0]']              \n",
            " 1 (Dense)                                                                                        \n",
            "                                                                                                  \n",
            " text_vision_audio_dense_layer   (None, 2)           34          ['text_vision_audio_dense_layer_1\n",
            " (Dense)                                                         [0][0]']                         \n",
            "                                                                                                  \n",
            "==================================================================================================\n",
            "Total params: 1,168,904\n",
            "Trainable params: 21,010\n",
            "Non-trainable params: 1,147,894\n",
            "__________________________________________________________________________________________________\n"
          ]
        }
      ]
    },
    {
      "cell_type": "code",
      "source": [
        "tva_model_conv.compile(optimizer='adam', loss='categorical_crossentropy', metrics='accuracy')\n",
        "tva_history_conv = tva_model_conv.fit(train_tva_binary_ds, validation_data=valid_tva_binary_ds, \n",
        "            epochs=500, callbacks=[tf.keras.callbacks.EarlyStopping(patience=10, restore_best_weights=True)])"
      ],
      "metadata": {
        "colab": {
          "base_uri": "https://localhost:8080/"
        },
        "id": "0R4noaX5QwWR",
        "outputId": "6133e4ef-bcad-4708-a3f2-b98ac1282519"
      },
      "execution_count": 90,
      "outputs": [
        {
          "output_type": "stream",
          "name": "stdout",
          "text": [
            "Epoch 1/500\n",
            "21/21 [==============================] - 15s 230ms/step - loss: 0.6241 - accuracy: 0.7936 - val_loss: 0.5854 - val_accuracy: 0.7860\n",
            "Epoch 2/500\n",
            "21/21 [==============================] - 1s 56ms/step - loss: 0.4745 - accuracy: 0.9245 - val_loss: 0.5327 - val_accuracy: 0.7991\n",
            "Epoch 3/500\n",
            "21/21 [==============================] - 1s 58ms/step - loss: 0.4100 - accuracy: 0.9276 - val_loss: 0.5163 - val_accuracy: 0.7991\n",
            "Epoch 4/500\n",
            "21/21 [==============================] - 1s 56ms/step - loss: 0.3908 - accuracy: 0.9291 - val_loss: 0.5093 - val_accuracy: 0.7948\n",
            "Epoch 5/500\n",
            "21/21 [==============================] - 1s 57ms/step - loss: 0.3791 - accuracy: 0.9283 - val_loss: 0.5033 - val_accuracy: 0.7991\n",
            "Epoch 6/500\n",
            "21/21 [==============================] - 1s 57ms/step - loss: 0.3693 - accuracy: 0.9283 - val_loss: 0.4997 - val_accuracy: 0.7991\n",
            "Epoch 7/500\n",
            "21/21 [==============================] - 1s 57ms/step - loss: 0.3610 - accuracy: 0.9299 - val_loss: 0.4956 - val_accuracy: 0.7991\n",
            "Epoch 8/500\n",
            "21/21 [==============================] - 1s 56ms/step - loss: 0.3527 - accuracy: 0.9299 - val_loss: 0.4921 - val_accuracy: 0.7991\n",
            "Epoch 9/500\n",
            "21/21 [==============================] - 1s 57ms/step - loss: 0.3461 - accuracy: 0.9291 - val_loss: 0.4886 - val_accuracy: 0.7991\n",
            "Epoch 10/500\n",
            "21/21 [==============================] - 1s 58ms/step - loss: 0.3396 - accuracy: 0.9299 - val_loss: 0.4864 - val_accuracy: 0.7991\n",
            "Epoch 11/500\n",
            "21/21 [==============================] - 1s 56ms/step - loss: 0.3329 - accuracy: 0.9291 - val_loss: 0.4832 - val_accuracy: 0.8035\n",
            "Epoch 12/500\n",
            "21/21 [==============================] - 1s 57ms/step - loss: 0.3279 - accuracy: 0.9315 - val_loss: 0.4809 - val_accuracy: 0.8035\n",
            "Epoch 13/500\n",
            "21/21 [==============================] - 1s 57ms/step - loss: 0.3222 - accuracy: 0.9307 - val_loss: 0.4795 - val_accuracy: 0.8035\n",
            "Epoch 14/500\n",
            "21/21 [==============================] - 1s 58ms/step - loss: 0.3173 - accuracy: 0.9307 - val_loss: 0.4783 - val_accuracy: 0.8079\n",
            "Epoch 15/500\n",
            "21/21 [==============================] - 1s 59ms/step - loss: 0.3119 - accuracy: 0.9299 - val_loss: 0.4774 - val_accuracy: 0.8035\n",
            "Epoch 16/500\n",
            "21/21 [==============================] - 1s 56ms/step - loss: 0.3081 - accuracy: 0.9322 - val_loss: 0.4760 - val_accuracy: 0.8079\n",
            "Epoch 17/500\n",
            "21/21 [==============================] - 1s 55ms/step - loss: 0.3023 - accuracy: 0.9330 - val_loss: 0.4749 - val_accuracy: 0.8079\n",
            "Epoch 18/500\n",
            "21/21 [==============================] - 1s 58ms/step - loss: 0.3008 - accuracy: 0.9307 - val_loss: 0.4743 - val_accuracy: 0.8079\n",
            "Epoch 19/500\n",
            "21/21 [==============================] - 1s 57ms/step - loss: 0.2955 - accuracy: 0.9307 - val_loss: 0.4744 - val_accuracy: 0.8079\n",
            "Epoch 20/500\n",
            "21/21 [==============================] - 1s 57ms/step - loss: 0.2928 - accuracy: 0.9299 - val_loss: 0.4743 - val_accuracy: 0.8079\n",
            "Epoch 21/500\n",
            "21/21 [==============================] - 1s 56ms/step - loss: 0.2891 - accuracy: 0.9330 - val_loss: 0.4747 - val_accuracy: 0.8035\n",
            "Epoch 22/500\n",
            "21/21 [==============================] - 1s 57ms/step - loss: 0.2864 - accuracy: 0.9307 - val_loss: 0.4761 - val_accuracy: 0.7991\n",
            "Epoch 23/500\n",
            "21/21 [==============================] - 1s 56ms/step - loss: 0.2841 - accuracy: 0.9307 - val_loss: 0.4777 - val_accuracy: 0.7991\n",
            "Epoch 24/500\n",
            "21/21 [==============================] - 1s 58ms/step - loss: 0.2783 - accuracy: 0.9346 - val_loss: 0.4797 - val_accuracy: 0.7991\n",
            "Epoch 25/500\n",
            "21/21 [==============================] - 1s 57ms/step - loss: 0.2757 - accuracy: 0.9330 - val_loss: 0.4790 - val_accuracy: 0.7991\n",
            "Epoch 26/500\n",
            "21/21 [==============================] - 1s 59ms/step - loss: 0.2737 - accuracy: 0.9330 - val_loss: 0.4806 - val_accuracy: 0.7991\n",
            "Epoch 27/500\n",
            "21/21 [==============================] - 1s 58ms/step - loss: 0.2721 - accuracy: 0.9330 - val_loss: 0.4811 - val_accuracy: 0.7991\n",
            "Epoch 28/500\n",
            "21/21 [==============================] - 1s 57ms/step - loss: 0.2672 - accuracy: 0.9354 - val_loss: 0.4830 - val_accuracy: 0.7991\n"
          ]
        }
      ]
    },
    {
      "cell_type": "code",
      "source": [
        "tva_model_conv.evaluate(test_tva_binary_ds)"
      ],
      "metadata": {
        "colab": {
          "base_uri": "https://localhost:8080/"
        },
        "id": "XWMHUsRuSUnm",
        "outputId": "24f430bb-a537-4f20-9f92-7a5a9e311550"
      },
      "execution_count": 91,
      "outputs": [
        {
          "output_type": "stream",
          "name": "stdout",
          "text": [
            "11/11 [==============================] - 1s 48ms/step - loss: 0.5545 - accuracy: 0.7638\n"
          ]
        },
        {
          "output_type": "execute_result",
          "data": {
            "text/plain": [
              "[0.554540753364563, 0.7638484239578247]"
            ]
          },
          "metadata": {},
          "execution_count": 91
        }
      ]
    },
    {
      "cell_type": "code",
      "source": [
        "tva_model_conv_test_pred"
      ],
      "metadata": {
        "id": "O6zLswp-t4Fo",
        "outputId": "389b1fb8-a017-47d8-f113-08496f0fda7b",
        "colab": {
          "base_uri": "https://localhost:8080/"
        }
      },
      "execution_count": 142,
      "outputs": [
        {
          "output_type": "execute_result",
          "data": {
            "text/plain": [
              "array([ True,  True, False, False, False, False,  True, False, False,\n",
              "       False, False,  True,  True, False,  True, False, False, False,\n",
              "        True,  True,  True,  True, False, False, False,  True, False,\n",
              "       False,  True, False, False,  True, False,  True, False, False,\n",
              "       False,  True,  True,  True,  True, False, False, False, False,\n",
              "        True,  True,  True,  True, False, False,  True, False,  True,\n",
              "        True,  True,  True,  True,  True,  True, False,  True, False,\n",
              "       False, False,  True, False, False, False, False, False,  True,\n",
              "       False,  True,  True,  True, False, False, False,  True,  True,\n",
              "       False,  True, False, False,  True, False,  True, False, False,\n",
              "       False,  True, False,  True,  True, False,  True,  True, False,\n",
              "       False, False,  True, False, False, False, False,  True, False,\n",
              "        True, False, False, False, False,  True, False,  True, False,\n",
              "       False,  True, False, False,  True, False, False,  True,  True,\n",
              "       False, False, False,  True,  True, False,  True, False, False,\n",
              "       False, False,  True, False,  True, False,  True, False, False,\n",
              "       False, False, False, False,  True, False,  True, False, False,\n",
              "       False,  True, False, False,  True, False, False, False,  True,\n",
              "        True, False, False, False,  True,  True, False, False,  True,\n",
              "       False, False,  True, False,  True, False, False,  True,  True,\n",
              "        True,  True,  True, False, False,  True,  True, False,  True,\n",
              "        True,  True, False, False, False,  True, False, False, False,\n",
              "       False,  True, False,  True,  True, False,  True, False,  True,\n",
              "        True, False,  True,  True,  True,  True, False,  True, False,\n",
              "       False, False, False, False, False, False,  True, False,  True,\n",
              "       False, False,  True, False, False, False,  True,  True,  True,\n",
              "        True,  True, False, False, False, False, False, False,  True,\n",
              "        True,  True,  True,  True, False,  True,  True,  True,  True,\n",
              "       False, False,  True, False, False, False, False, False, False,\n",
              "        True, False,  True, False,  True,  True,  True,  True, False,\n",
              "        True,  True,  True,  True,  True, False, False, False,  True,\n",
              "       False, False,  True, False, False,  True,  True,  True, False,\n",
              "        True, False, False,  True,  True, False, False,  True, False,\n",
              "       False, False, False, False, False, False, False,  True,  True,\n",
              "        True,  True, False, False, False,  True,  True,  True,  True,\n",
              "        True, False, False, False, False,  True, False, False,  True,\n",
              "       False,  True, False, False, False, False, False, False, False,\n",
              "        True, False, False, False, False, False,  True, False,  True,\n",
              "       False, False,  True,  True, False,  True,  True,  True,  True,\n",
              "        True, False, False,  True, False, False, False, False,  True,\n",
              "       False, False, False, False,  True, False,  True, False,  True,\n",
              "       False, False,  True,  True, False, False, False, False, False,\n",
              "       False,  True,  True, False, False,  True,  True, False,  True,\n",
              "       False,  True, False,  True,  True, False,  True,  True, False,\n",
              "       False,  True, False, False, False, False,  True,  True, False,\n",
              "       False,  True, False,  True, False,  True,  True, False,  True,\n",
              "       False, False,  True,  True,  True, False, False, False, False,\n",
              "       False,  True, False, False, False,  True, False,  True,  True,\n",
              "       False, False, False, False, False, False,  True,  True, False,\n",
              "        True, False, False,  True, False, False, False,  True,  True,\n",
              "       False, False,  True, False,  True, False, False, False, False,\n",
              "        True, False, False, False, False, False,  True, False, False,\n",
              "       False,  True, False, False, False,  True, False,  True,  True,\n",
              "        True, False, False,  True,  True, False, False, False,  True,\n",
              "       False,  True,  True,  True,  True, False,  True,  True,  True,\n",
              "        True, False,  True, False, False, False,  True,  True,  True,\n",
              "       False, False,  True, False,  True,  True, False,  True,  True,\n",
              "        True,  True, False, False,  True,  True, False, False,  True,\n",
              "        True,  True,  True,  True,  True,  True, False, False,  True,\n",
              "        True,  True, False,  True,  True,  True,  True,  True, False,\n",
              "       False,  True,  True,  True, False,  True,  True,  True,  True,\n",
              "       False,  True, False,  True, False, False, False, False,  True,\n",
              "       False,  True,  True,  True,  True, False,  True,  True, False,\n",
              "       False, False, False,  True,  True,  True,  True, False, False,\n",
              "        True,  True, False, False,  True, False,  True,  True, False,\n",
              "       False, False,  True, False,  True, False, False, False, False,\n",
              "        True,  True,  True,  True,  True, False, False, False, False,\n",
              "       False,  True,  True,  True,  True, False,  True,  True,  True,\n",
              "        True,  True,  True,  True,  True, False,  True, False,  True,\n",
              "       False, False, False,  True, False,  True, False, False, False,\n",
              "       False, False, False,  True, False, False, False,  True, False,\n",
              "       False, False, False, False, False, False,  True, False,  True,\n",
              "        True, False, False,  True, False, False,  True,  True,  True,\n",
              "       False,  True, False,  True, False,  True, False, False,  True,\n",
              "        True, False, False,  True,  True, False, False, False,  True,\n",
              "        True,  True,  True,  True,  True,  True, False,  True, False,\n",
              "        True, False])"
            ]
          },
          "metadata": {},
          "execution_count": 142
        }
      ]
    },
    {
      "cell_type": "code",
      "source": [
        "# tva_model_conv.predict(test_tva_binary_ds)\n",
        "actual = []\n",
        "pred = []\n",
        "for data in test_tva_binary_ds:\n",
        "  pred.extend(tva_model_conv.predict(data[0])[:,1] > 0.5)\n",
        "  actual.extend((data[1][:,1] == 1).numpy())"
      ],
      "metadata": {
        "id": "Rbr2k-l7ueg9"
      },
      "execution_count": 168,
      "outputs": []
    },
    {
      "cell_type": "code",
      "source": [
        "print(len(pred))\n",
        "print(len(actual))"
      ],
      "metadata": {
        "id": "mOCVmgsBw6Gc",
        "outputId": "0ed448b4-8921-4803-a22c-4d88444603b9",
        "colab": {
          "base_uri": "https://localhost:8080/"
        }
      },
      "execution_count": 169,
      "outputs": [
        {
          "output_type": "stream",
          "name": "stdout",
          "text": [
            "686\n",
            "686\n"
          ]
        }
      ]
    },
    {
      "cell_type": "code",
      "source": [
        "#confusion matrix\n",
        "# tva_model_conv_test_pred = tva_model_conv.predict(test_tva_binary_ds)[:,1] > 0.5\n",
        "tf.math.confusion_matrix(actual, pred, 2)"
      ],
      "metadata": {
        "colab": {
          "base_uri": "https://localhost:8080/"
        },
        "outputId": "d10e6b95-8a6b-4ab5-d82a-cea55e517239",
        "id": "QtTPIH55t4cD"
      },
      "execution_count": 170,
      "outputs": [
        {
          "output_type": "execute_result",
          "data": {
            "text/plain": [
              "<tf.Tensor: shape=(2, 2), dtype=int32, numpy=\n",
              "array([[295,  84],\n",
              "       [ 78, 229]], dtype=int32)>"
            ]
          },
          "metadata": {},
          "execution_count": 170
        }
      ]
    },
    {
      "cell_type": "code",
      "source": [
        "# roc curve\n",
        "tpr, fpr, threshold = metrics.roc_curve(actual, pred)\n",
        "roc_auc = metrics.roc_auc_score(actual, pred)"
      ],
      "metadata": {
        "id": "t3c9y2Qat4cE"
      },
      "execution_count": 171,
      "outputs": []
    },
    {
      "cell_type": "code",
      "source": [
        "lw= 2\n",
        "plt.plot(tpr,fpr,color=\"darkorange\",\n",
        "    lw=lw,\n",
        "    label=\"ROC curve (area = %0.2f)\" % roc_auc\n",
        "  )\n",
        "plt.plot([0,1], [0,1], color=\"navy\", lw=lw, linestyle=\"--\")\n",
        "plt.xlim([0.0, 1.0])\n",
        "plt.ylim([0.0, 1.05])\n",
        "plt.xlabel(\"False Positive Rate\")\n",
        "plt.ylabel(\"True Positive Rate\")\n",
        "plt.title(\"Receiver operating characteristic text_audio_video model\")\n",
        "plt.legend(loc=\"lower right\")\n",
        "plt.show()"
      ],
      "metadata": {
        "colab": {
          "base_uri": "https://localhost:8080/",
          "height": 295
        },
        "outputId": "54fb3bcf-fba3-4f1b-9c69-9bf2607a523b",
        "id": "Dn1cnccTt4cE"
      },
      "execution_count": 173,
      "outputs": [
        {
          "output_type": "display_data",
          "data": {
            "text/plain": [
              "<Figure size 432x288 with 1 Axes>"
            ],
            "image/png": "[encoded data removed]"
          },
          "metadata": {
            "needs_background": "light"
          }
        }
      ]
    },
    {
      "cell_type": "code",
      "source": [
        "tva_input_raw = (data_valid['text'], data_valid['vision'], data_valid['audio'])\n",
        "valid_data_df['tva_model_conv'] = tva_model_conv.predict(tva_input_raw)[:,1] >= 0.5\n",
        "valid_data_df"
      ],
      "metadata": {
        "colab": {
          "base_uri": "https://localhost:8080/",
          "height": 424
        },
        "id": "KTfj4Rt550Ss",
        "outputId": "7cc5f392-0e7b-47aa-84e7-98732c2bd384"
      },
      "execution_count": 92,
      "outputs": [
        {
          "output_type": "execute_result",
          "data": {
            "text/plain": [
              "                f_name          s_time          e_time  true_labels  t_model  \\\n",
              "0    b'WKA5OygbEKI_20'  b'131.7929705'  b'133.6886621'         True     True   \n",
              "1    b'WKA5OygbEKI_21'  b'133.6886621'   b'138.976644'         True    False   \n",
              "2    b'WKA5OygbEKI_22'   b'170.544898'   b'172.729932'         True     True   \n",
              "3     b'WKA5OygbEKI_1'  b'4.432426304'  b'8.852380952'         True     True   \n",
              "4     b'WKA5OygbEKI_3'  b'45.95804989'  b'49.69954649'         True     True   \n",
              "..                 ...             ...             ...          ...      ...   \n",
              "224   b'c5xsKMxpXnc_4'  b'133.2097506'  b'135.8836735'         True     True   \n",
              "225   b'c5xsKMxpXnc_7'  b'149.3829932'  b'152.4360544'        False    False   \n",
              "226   b'c5xsKMxpXnc_6'  b'146.7290249'  b'149.3829932'        False    False   \n",
              "227   b'c5xsKMxpXnc_9'  b'156.6764172'  b'159.0609977'        False    False   \n",
              "228   b'c5xsKMxpXnc_8'  b'154.1122449'  b'156.6764172'        False    False   \n",
              "\n",
              "     v_model1  a_model1  tva_model_conv  \n",
              "0        True      True            True  \n",
              "1        True      True           False  \n",
              "2        True      True            True  \n",
              "3        True      True            True  \n",
              "4        True      True            True  \n",
              "..        ...       ...             ...  \n",
              "224      True     False            True  \n",
              "225      True     False           False  \n",
              "226      True      True           False  \n",
              "227      True      True           False  \n",
              "228      True      True           False  \n",
              "\n",
              "[229 rows x 8 columns]"
            ],
            "text/html": [
              "\n",
              "  <div id=\"df-f18af4e8-1e01-43b0-92c0-2a0594ce8e62\">\n",
              "    <div class=\"colab-df-container\">\n",
              "      <div>\n",
              "<style scoped>\n",
              "    .dataframe tbody tr th:only-of-type {\n",
              "        vertical-align: middle;\n",
              "    }\n",
              "\n",
              "    .dataframe tbody tr th {\n",
              "        vertical-align: top;\n",
              "    }\n",
              "\n",
              "    .dataframe thead th {\n",
              "        text-align: right;\n",
              "    }\n",
              "</style>\n",
              "<table border=\"1\" class=\"dataframe\">\n",
              "  <thead>\n",
              "    <tr style=\"text-align: right;\">\n",
              "      <th></th>\n",
              "      <th>f_name</th>\n",
              "      <th>s_time</th>\n",
              "      <th>e_time</th>\n",
              "      <th>true_labels</th>\n",
              "      <th>t_model</th>\n",
              "      <th>v_model1</th>\n",
              "      <th>a_model1</th>\n",
              "      <th>tva_model_conv</th>\n",
              "    </tr>\n",
              "  </thead>\n",
              "  <tbody>\n",
              "    <tr>\n",
              "      <th>0</th>\n",
              "      <td>b'WKA5OygbEKI_20'</td>\n",
              "      <td>b'131.7929705'</td>\n",
              "      <td>b'133.6886621'</td>\n",
              "      <td>True</td>\n",
              "      <td>True</td>\n",
              "      <td>True</td>\n",
              "      <td>True</td>\n",
              "      <td>True</td>\n",
              "    </tr>\n",
              "    <tr>\n",
              "      <th>1</th>\n",
              "      <td>b'WKA5OygbEKI_21'</td>\n",
              "      <td>b'133.6886621'</td>\n",
              "      <td>b'138.976644'</td>\n",
              "      <td>True</td>\n",
              "      <td>False</td>\n",
              "      <td>True</td>\n",
              "      <td>True</td>\n",
              "      <td>False</td>\n",
              "    </tr>\n",
              "    <tr>\n",
              "      <th>2</th>\n",
              "      <td>b'WKA5OygbEKI_22'</td>\n",
              "      <td>b'170.544898'</td>\n",
              "      <td>b'172.729932'</td>\n",
              "      <td>True</td>\n",
              "      <td>True</td>\n",
              "      <td>True</td>\n",
              "      <td>True</td>\n",
              "      <td>True</td>\n",
              "    </tr>\n",
              "    <tr>\n",
              "      <th>3</th>\n",
              "      <td>b'WKA5OygbEKI_1'</td>\n",
              "      <td>b'4.432426304'</td>\n",
              "      <td>b'8.852380952'</td>\n",
              "      <td>True</td>\n",
              "      <td>True</td>\n",
              "      <td>True</td>\n",
              "      <td>True</td>\n",
              "      <td>True</td>\n",
              "    </tr>\n",
              "    <tr>\n",
              "      <th>4</th>\n",
              "      <td>b'WKA5OygbEKI_3'</td>\n",
              "      <td>b'45.95804989'</td>\n",
              "      <td>b'49.69954649'</td>\n",
              "      <td>True</td>\n",
              "      <td>True</td>\n",
              "      <td>True</td>\n",
              "      <td>True</td>\n",
              "      <td>True</td>\n",
              "    </tr>\n",
              "    <tr>\n",
              "      <th>...</th>\n",
              "      <td>...</td>\n",
              "      <td>...</td>\n",
              "      <td>...</td>\n",
              "      <td>...</td>\n",
              "      <td>...</td>\n",
              "      <td>...</td>\n",
              "      <td>...</td>\n",
              "      <td>...</td>\n",
              "    </tr>\n",
              "    <tr>\n",
              "      <th>224</th>\n",
              "      <td>b'c5xsKMxpXnc_4'</td>\n",
              "      <td>b'133.2097506'</td>\n",
              "      <td>b'135.8836735'</td>\n",
              "      <td>True</td>\n",
              "      <td>True</td>\n",
              "      <td>True</td>\n",
              "      <td>False</td>\n",
              "      <td>True</td>\n",
              "    </tr>\n",
              "    <tr>\n",
              "      <th>225</th>\n",
              "      <td>b'c5xsKMxpXnc_7'</td>\n",
              "      <td>b'149.3829932'</td>\n",
              "      <td>b'152.4360544'</td>\n",
              "      <td>False</td>\n",
              "      <td>False</td>\n",
              "      <td>True</td>\n",
              "      <td>False</td>\n",
              "      <td>False</td>\n",
              "    </tr>\n",
              "    <tr>\n",
              "      <th>226</th>\n",
              "      <td>b'c5xsKMxpXnc_6'</td>\n",
              "      <td>b'146.7290249'</td>\n",
              "      <td>b'149.3829932'</td>\n",
              "      <td>False</td>\n",
              "      <td>False</td>\n",
              "      <td>True</td>\n",
              "      <td>True</td>\n",
              "      <td>False</td>\n",
              "    </tr>\n",
              "    <tr>\n",
              "      <th>227</th>\n",
              "      <td>b'c5xsKMxpXnc_9'</td>\n",
              "      <td>b'156.6764172'</td>\n",
              "      <td>b'159.0609977'</td>\n",
              "      <td>False</td>\n",
              "      <td>False</td>\n",
              "      <td>True</td>\n",
              "      <td>True</td>\n",
              "      <td>False</td>\n",
              "    </tr>\n",
              "    <tr>\n",
              "      <th>228</th>\n",
              "      <td>b'c5xsKMxpXnc_8'</td>\n",
              "      <td>b'154.1122449'</td>\n",
              "      <td>b'156.6764172'</td>\n",
              "      <td>False</td>\n",
              "      <td>False</td>\n",
              "      <td>True</td>\n",
              "      <td>True</td>\n",
              "      <td>False</td>\n",
              "    </tr>\n",
              "  </tbody>\n",
              "</table>\n",
              "<p>229 rows × 8 columns</p>\n",
              "</div>\n",
              "      <button class=\"colab-df-convert\" onclick=\"convertToInteractive('df-f18af4e8-1e01-43b0-92c0-2a0594ce8e62')\"\n",
              "              title=\"Convert this dataframe to an interactive table.\"\n",
              "              style=\"display:none;\">\n",
              "        \n",
              "  <svg xmlns=\"http://www.w3.org/2000/svg\" height=\"24px\"viewBox=\"0 0 24 24\"\n",
              "       width=\"24px\">\n",
              "    <path d=\"M0 0h24v24H0V0z\" fill=\"none\"/>\n",
              "    <path d=\"M18.56 5.44l.94 2.06.94-2.06 2.06-.94-2.06-.94-.94-2.06-.94 2.06-2.06.94zm-11 1L8.5 8.5l.94-2.06 2.06-.94-2.06-.94L8.5 2.5l-.94 2.06-2.06.94zm10 10l.94 2.06.94-2.06 2.06-.94-2.06-.94-.94-2.06-.94 2.06-2.06.94z\"/><path d=\"M17.41 7.96l-1.37-1.37c-.4-.4-.92-.59-1.43-.59-.52 0-1.04.2-1.43.59L10.3 9.45l-7.72 7.72c-.78.78-.78 2.05 0 2.83L4 21.41c.39.39.9.59 1.41.59.51 0 1.02-.2 1.41-.59l7.78-7.78 2.81-2.81c.8-.78.8-2.07 0-2.86zM5.41 20L4 18.59l7.72-7.72 1.47 1.35L5.41 20z\"/>\n",
              "  </svg>\n",
              "      </button>\n",
              "      \n",
              "  <style>\n",
              "    .colab-df-container {\n",
              "      display:flex;\n",
              "      flex-wrap:wrap;\n",
              "      gap: 12px;\n",
              "    }\n",
              "\n",
              "    .colab-df-convert {\n",
              "      background-color: #E8F0FE;\n",
              "      border: none;\n",
              "      border-radius: 50%;\n",
              "      cursor: pointer;\n",
              "      display: none;\n",
              "      fill: #1967D2;\n",
              "      height: 32px;\n",
              "      padding: 0 0 0 0;\n",
              "      width: 32px;\n",
              "    }\n",
              "\n",
              "    .colab-df-convert:hover {\n",
              "      background-color: #E2EBFA;\n",
              "      box-shadow: 0px 1px 2px rgba(60, 64, 67, 0.3), 0px 1px 3px 1px rgba(60, 64, 67, 0.15);\n",
              "      fill: #174EA6;\n",
              "    }\n",
              "\n",
              "    [theme=dark] .colab-df-convert {\n",
              "      background-color: #3B4455;\n",
              "      fill: #D2E3FC;\n",
              "    }\n",
              "\n",
              "    [theme=dark] .colab-df-convert:hover {\n",
              "      background-color: #434B5C;\n",
              "      box-shadow: 0px 1px 3px 1px rgba(0, 0, 0, 0.15);\n",
              "      filter: drop-shadow(0px 1px 2px rgba(0, 0, 0, 0.3));\n",
              "      fill: #FFFFFF;\n",
              "    }\n",
              "  </style>\n",
              "\n",
              "      <script>\n",
              "        const buttonEl =\n",
              "          document.querySelector('#df-f18af4e8-1e01-43b0-92c0-2a0594ce8e62 button.colab-df-convert');\n",
              "        buttonEl.style.display =\n",
              "          google.colab.kernel.accessAllowed ? 'block' : 'none';\n",
              "\n",
              "        async function convertToInteractive(key) {\n",
              "          const element = document.querySelector('#df-f18af4e8-1e01-43b0-92c0-2a0594ce8e62');\n",
              "          const dataTable =\n",
              "            await google.colab.kernel.invokeFunction('convertToInteractive',\n",
              "                                                     [key], {});\n",
              "          if (!dataTable) return;\n",
              "\n",
              "          const docLinkHtml = 'Like what you see? Visit the ' +\n",
              "            '<a target=\"_blank\" href=https://colab.research.google.com/notebooks/data_table.ipynb>data table notebook</a>'\n",
              "            + ' to learn more about interactive tables.';\n",
              "          element.innerHTML = '';\n",
              "          dataTable['output_type'] = 'display_data';\n",
              "          await google.colab.output.renderOutput(dataTable, element);\n",
              "          const docLink = document.createElement('div');\n",
              "          docLink.innerHTML = docLinkHtml;\n",
              "          element.appendChild(docLink);\n",
              "        }\n",
              "      </script>\n",
              "    </div>\n",
              "  </div>\n",
              "  "
            ]
          },
          "metadata": {},
          "execution_count": 92
        }
      ]
    },
    {
      "cell_type": "code",
      "source": [
        "sum(valid_data_df.true_labels == valid_data_df.tva_model_conv) / valid_data_df.tva_model_conv.count()"
      ],
      "metadata": {
        "colab": {
          "base_uri": "https://localhost:8080/"
        },
        "id": "hoqTjJLCBNum",
        "outputId": "06a87d5a-f81a-4d51-99f0-5299141c06eb"
      },
      "execution_count": 93,
      "outputs": [
        {
          "output_type": "execute_result",
          "data": {
            "text/plain": [
              "0.8078602620087336"
            ]
          },
          "metadata": {},
          "execution_count": 93
        }
      ]
    },
    {
      "cell_type": "markdown",
      "source": [
        "#### Using attention on combination of all modalities."
      ],
      "metadata": {
        "id": "R2IDxakE2eYt"
      }
    },
    {
      "cell_type": "code",
      "source": [
        "########## Trying convulution Netwwork ##########\n",
        "\n",
        "##############################################\n",
        "#### Merging textual and Audio analysis #####\n",
        "##############################################\n",
        "\n",
        "t_lstm_lyr.trainable = False\n",
        "t_att_lyr.trainable  = False\n",
        "t_dense_lyr_1.trainable = False\n",
        "\n",
        "v_lstm_lyr.trainable = False\n",
        "v_att_lyr.trainable  = False\n",
        "v_dense_lyr_1.trainable = False\n",
        "\n",
        "a_lstm_lyr.trainable = False\n",
        "a_att_lyr.trainable  = False\n",
        "a_dense_lyr_1.trainable = False\n",
        "\n",
        "t_x = t_mask_lyr(t_input)\n",
        "t_x = t_lstm_lyr(t_x)\n",
        "t_att_we, t_att_op = t_att_lyr(t_x)\n",
        "t_op = t_dense_lyr_1(t_att_op)\n",
        "\n",
        "v_x = v_mask_lyr(v_input)\n",
        "v_x = v_lstm_lyr(v_x)\n",
        "v_att_we, v_att_op = v_att_lyr(v_x)\n",
        "v_op = v_dense_lyr_1(v_att_op)\n",
        "\n",
        "a_x = a_mask_lyr(a_input)\n",
        "a_x = a_lstm_lyr(a_x)\n",
        "a_att_we, a_att_op = a_att_lyr(a_x)\n",
        "a_op = a_dense_lyr_1(a_att_op)\n",
        "\n",
        "# x = tf.keras.layers.concatenate((t_att_op, v_att_op))\n",
        "# x = tf.keras.layers.concatenate((t_op, v_op))\n",
        "\n",
        "t_op_reshaped = tf.keras.layers.Reshape((1,32))(t_op)\n",
        "v_op_reshaped = tf.keras.layers.Reshape((1,32))(v_op)\n",
        "a_op_reshaped = tf.keras.layers.Reshape((1,32))(a_op)\n",
        "\n",
        "op_stacked = tf.keras.layers.Concatenate(axis=1)([t_op_reshaped, v_op_reshaped, a_op_reshaped])\n",
        "\n",
        "tva_att_lyr = AttentionLayer()\n",
        "tva_att_we, tva_att_op = tva_att_lyr(op_stacked)\n",
        "\n",
        "# x = tf.keras.layers.Conv2D(32, (2,2))(op_stacked)\n",
        "# x = tf.keras.layers.Conv2D(64, (2,2))(x)\n",
        "# x = tf.keras.layers.Flatten()(x)\n",
        "\n",
        "# x  = tf.keras.layers.Lambda(lambda x: tf.math.multiply(x[0],x[1]))((t_op, v_op))\n",
        "\n",
        "tva_dense_1 = Dense(16, activation='softmax', name='text_vision_audio_dense_layer_1')\n",
        "tva_dense = Dense(2, activation='softmax', name='text_vision_audio_dense_layer')\n",
        "\n",
        "x = tva_dense_1(tva_att_op)\n",
        "op = tva_dense(x)\n",
        "\n",
        "tva_model_att = Model(inputs=[t_input, v_input, a_input], outputs=op, name='Text_Vision_Audio_Model')\n",
        "tva_model_att.summary()"
      ],
      "metadata": {
        "colab": {
          "base_uri": "https://localhost:8080/"
        },
        "id": "KFCelcV1Sbpv",
        "outputId": "bf9cdbc0-4a07-495d-a7a8-b7ad9a142894"
      },
      "execution_count": 94,
      "outputs": [
        {
          "output_type": "stream",
          "name": "stdout",
          "text": [
            "Model: \"Text_Vision_Audio_Model\"\n",
            "__________________________________________________________________________________________________\n",
            " Layer (type)                   Output Shape         Param #     Connected to                     \n",
            "==================================================================================================\n",
            " text_input_layer (InputLayer)  [(None, 50, 300)]    0           []                               \n",
            "                                                                                                  \n",
            " v_input_layer (InputLayer)     [(None, 50, 20)]     0           []                               \n",
            "                                                                                                  \n",
            " a_input_layer (InputLayer)     [(None, 50, 5)]      0           []                               \n",
            "                                                                                                  \n",
            " text_masking_layer (Masking)   (None, 50, 300)      0           ['text_input_layer[0][0]']       \n",
            "                                                                                                  \n",
            " v_mask_layer (Masking)         (None, 50, 20)       0           ['v_input_layer[0][0]']          \n",
            "                                                                                                  \n",
            " a_mask_layer (Masking)         (None, 50, 5)        0           ['a_input_layer[0][0]']          \n",
            "                                                                                                  \n",
            " text_lstm_layer_1 (LSTM)       (None, 50, 256)      570368      ['text_masking_layer[5][0]']     \n",
            "                                                                                                  \n",
            " v_lstm_layer_1 (LSTM)          (None, 50, 256)      283648      ['v_mask_layer[4][0]']           \n",
            "                                                                                                  \n",
            " a_lstm_layer_1 (LSTM)          (None, 50, 256)      268288      ['a_mask_layer[3][0]']           \n",
            "                                                                                                  \n",
            " attention_layer (AttentionLaye  ((None, 50, 1),     306         ['text_lstm_layer_1[5][0]']      \n",
            " r)                              (None, 256))                                                     \n",
            "                                                                                                  \n",
            " attention_layer_1 (AttentionLa  ((None, 50, 1),     306         ['v_lstm_layer_1[4][0]']         \n",
            " yer)                            (None, 256))                                                     \n",
            "                                                                                                  \n",
            " attention_layer_2 (AttentionLa  ((None, 50, 1),     306         ['a_lstm_layer_1[3][0]']         \n",
            " yer)                            (None, 256))                                                     \n",
            "                                                                                                  \n",
            " text_dense_layer_1 (Dense)     (None, 32)           8224        ['attention_layer[5][1]']        \n",
            "                                                                                                  \n",
            " v_dense_layer_1 (Dense)        (None, 32)           8224        ['attention_layer_1[4][1]']      \n",
            "                                                                                                  \n",
            " a_dense_layer_1 (Dense)        (None, 32)           8224        ['attention_layer_2[3][1]']      \n",
            "                                                                                                  \n",
            " reshape_7 (Reshape)            (None, 1, 32)        0           ['text_dense_layer_1[5][0]']     \n",
            "                                                                                                  \n",
            " reshape_8 (Reshape)            (None, 1, 32)        0           ['v_dense_layer_1[4][0]']        \n",
            "                                                                                                  \n",
            " reshape_9 (Reshape)            (None, 1, 32)        0           ['a_dense_layer_1[3][0]']        \n",
            "                                                                                                  \n",
            " concatenate_3 (Concatenate)    (None, 3, 32)        0           ['reshape_7[0][0]',              \n",
            "                                                                  'reshape_8[0][0]',              \n",
            "                                                                  'reshape_9[0][0]']              \n",
            "                                                                                                  \n",
            " attention_layer_3 (AttentionLa  ((None, 3, 1),      35          ['concatenate_3[0][0]']          \n",
            " yer)                            (None, 32))                                                      \n",
            "                                                                                                  \n",
            " text_vision_audio_dense_layer_  (None, 16)          528         ['attention_layer_3[0][1]']      \n",
            " 1 (Dense)                                                                                        \n",
            "                                                                                                  \n",
            " text_vision_audio_dense_layer   (None, 2)           34          ['text_vision_audio_dense_layer_1\n",
            " (Dense)                                                         [0][0]']                         \n",
            "                                                                                                  \n",
            "==================================================================================================\n",
            "Total params: 1,148,491\n",
            "Trainable params: 597\n",
            "Non-trainable params: 1,147,894\n",
            "__________________________________________________________________________________________________\n"
          ]
        }
      ]
    },
    {
      "cell_type": "code",
      "source": [
        "tva_model_att.compile(optimizer='adam', loss='categorical_crossentropy', metrics='accuracy')\n",
        "tva_history_att = tva_model_att.fit(train_tva_binary_ds, validation_data=valid_tva_binary_ds, \n",
        "            epochs=500, callbacks=[tf.keras.callbacks.EarlyStopping(patience=10, restore_best_weights=True)])"
      ],
      "metadata": {
        "colab": {
          "base_uri": "https://localhost:8080/"
        },
        "id": "6nKwp6VV3mmk",
        "outputId": "5514672d-c192-4744-8d9b-31cddf313577"
      },
      "execution_count": 95,
      "outputs": [
        {
          "output_type": "stream",
          "name": "stdout",
          "text": [
            "Epoch 1/500\n",
            "21/21 [==============================] - 15s 226ms/step - loss: 0.6816 - accuracy: 0.5701 - val_loss: 0.6722 - val_accuracy: 0.5983\n",
            "Epoch 2/500\n",
            "21/21 [==============================] - 1s 55ms/step - loss: 0.6746 - accuracy: 0.5701 - val_loss: 0.6682 - val_accuracy: 0.5983\n",
            "Epoch 3/500\n",
            "21/21 [==============================] - 1s 56ms/step - loss: 0.6665 - accuracy: 0.5717 - val_loss: 0.6630 - val_accuracy: 0.5983\n",
            "Epoch 4/500\n",
            "21/21 [==============================] - 1s 56ms/step - loss: 0.6565 - accuracy: 0.5748 - val_loss: 0.6569 - val_accuracy: 0.5939\n",
            "Epoch 5/500\n",
            "21/21 [==============================] - 1s 56ms/step - loss: 0.6449 - accuracy: 0.5950 - val_loss: 0.6495 - val_accuracy: 0.6114\n",
            "Epoch 6/500\n",
            "21/21 [==============================] - 1s 56ms/step - loss: 0.6317 - accuracy: 0.6075 - val_loss: 0.6419 - val_accuracy: 0.6157\n",
            "Epoch 7/500\n",
            "21/21 [==============================] - 1s 56ms/step - loss: 0.6173 - accuracy: 0.6472 - val_loss: 0.6342 - val_accuracy: 0.6376\n",
            "Epoch 8/500\n",
            "21/21 [==============================] - 1s 56ms/step - loss: 0.6017 - accuracy: 0.6939 - val_loss: 0.6263 - val_accuracy: 0.6550\n",
            "Epoch 9/500\n",
            "21/21 [==============================] - 1s 56ms/step - loss: 0.5859 - accuracy: 0.7445 - val_loss: 0.6181 - val_accuracy: 0.6638\n",
            "Epoch 10/500\n",
            "21/21 [==============================] - 1s 57ms/step - loss: 0.5690 - accuracy: 0.7850 - val_loss: 0.6092 - val_accuracy: 0.6681\n",
            "Epoch 11/500\n",
            "21/21 [==============================] - 1s 56ms/step - loss: 0.5516 - accuracy: 0.8193 - val_loss: 0.6004 - val_accuracy: 0.6856\n",
            "Epoch 12/500\n",
            "21/21 [==============================] - 1s 55ms/step - loss: 0.5342 - accuracy: 0.8364 - val_loss: 0.5915 - val_accuracy: 0.6987\n",
            "Epoch 13/500\n",
            "21/21 [==============================] - 1s 57ms/step - loss: 0.5161 - accuracy: 0.8567 - val_loss: 0.5832 - val_accuracy: 0.7074\n",
            "Epoch 14/500\n",
            "21/21 [==============================] - 1s 57ms/step - loss: 0.4984 - accuracy: 0.8699 - val_loss: 0.5750 - val_accuracy: 0.7424\n",
            "Epoch 15/500\n",
            "21/21 [==============================] - 1s 56ms/step - loss: 0.4812 - accuracy: 0.8847 - val_loss: 0.5671 - val_accuracy: 0.7511\n",
            "Epoch 16/500\n",
            "21/21 [==============================] - 1s 57ms/step - loss: 0.4649 - accuracy: 0.8964 - val_loss: 0.5596 - val_accuracy: 0.7555\n",
            "Epoch 17/500\n",
            "21/21 [==============================] - 1s 55ms/step - loss: 0.4487 - accuracy: 0.9011 - val_loss: 0.5527 - val_accuracy: 0.7555\n",
            "Epoch 18/500\n",
            "21/21 [==============================] - 1s 56ms/step - loss: 0.4337 - accuracy: 0.9034 - val_loss: 0.5465 - val_accuracy: 0.7642\n",
            "Epoch 19/500\n",
            "21/21 [==============================] - 1s 56ms/step - loss: 0.4197 - accuracy: 0.9050 - val_loss: 0.5409 - val_accuracy: 0.7729\n",
            "Epoch 20/500\n",
            "21/21 [==============================] - 1s 57ms/step - loss: 0.4057 - accuracy: 0.9073 - val_loss: 0.5359 - val_accuracy: 0.7773\n",
            "Epoch 21/500\n",
            "21/21 [==============================] - 1s 57ms/step - loss: 0.3934 - accuracy: 0.9089 - val_loss: 0.5314 - val_accuracy: 0.7729\n",
            "Epoch 22/500\n",
            "21/21 [==============================] - 1s 58ms/step - loss: 0.3820 - accuracy: 0.9104 - val_loss: 0.5278 - val_accuracy: 0.7773\n",
            "Epoch 23/500\n",
            "21/21 [==============================] - 1s 56ms/step - loss: 0.3713 - accuracy: 0.9151 - val_loss: 0.5247 - val_accuracy: 0.7773\n",
            "Epoch 24/500\n",
            "21/21 [==============================] - 1s 56ms/step - loss: 0.3615 - accuracy: 0.9159 - val_loss: 0.5219 - val_accuracy: 0.7817\n",
            "Epoch 25/500\n",
            "21/21 [==============================] - 1s 55ms/step - loss: 0.3520 - accuracy: 0.9143 - val_loss: 0.5194 - val_accuracy: 0.7817\n",
            "Epoch 26/500\n",
            "21/21 [==============================] - 1s 55ms/step - loss: 0.3435 - accuracy: 0.9151 - val_loss: 0.5175 - val_accuracy: 0.7817\n",
            "Epoch 27/500\n",
            "21/21 [==============================] - 1s 55ms/step - loss: 0.3353 - accuracy: 0.9151 - val_loss: 0.5157 - val_accuracy: 0.7817\n",
            "Epoch 28/500\n",
            "21/21 [==============================] - 1s 55ms/step - loss: 0.3281 - accuracy: 0.9151 - val_loss: 0.5145 - val_accuracy: 0.7817\n",
            "Epoch 29/500\n",
            "21/21 [==============================] - 1s 57ms/step - loss: 0.3213 - accuracy: 0.9159 - val_loss: 0.5138 - val_accuracy: 0.7817\n",
            "Epoch 30/500\n",
            "21/21 [==============================] - 1s 56ms/step - loss: 0.3149 - accuracy: 0.9167 - val_loss: 0.5132 - val_accuracy: 0.7817\n",
            "Epoch 31/500\n",
            "21/21 [==============================] - 1s 57ms/step - loss: 0.3096 - accuracy: 0.9174 - val_loss: 0.5127 - val_accuracy: 0.7817\n",
            "Epoch 32/500\n",
            "21/21 [==============================] - 1s 58ms/step - loss: 0.3042 - accuracy: 0.9174 - val_loss: 0.5125 - val_accuracy: 0.7817\n",
            "Epoch 33/500\n",
            "21/21 [==============================] - 1s 58ms/step - loss: 0.2993 - accuracy: 0.9174 - val_loss: 0.5126 - val_accuracy: 0.7817\n",
            "Epoch 34/500\n",
            "21/21 [==============================] - 1s 56ms/step - loss: 0.2949 - accuracy: 0.9174 - val_loss: 0.5127 - val_accuracy: 0.7817\n",
            "Epoch 35/500\n",
            "21/21 [==============================] - 1s 56ms/step - loss: 0.2911 - accuracy: 0.9167 - val_loss: 0.5131 - val_accuracy: 0.7817\n",
            "Epoch 36/500\n",
            "21/21 [==============================] - 1s 55ms/step - loss: 0.2869 - accuracy: 0.9190 - val_loss: 0.5137 - val_accuracy: 0.7860\n",
            "Epoch 37/500\n",
            "21/21 [==============================] - 1s 56ms/step - loss: 0.2841 - accuracy: 0.9190 - val_loss: 0.5144 - val_accuracy: 0.7860\n",
            "Epoch 38/500\n",
            "21/21 [==============================] - 1s 56ms/step - loss: 0.2804 - accuracy: 0.9190 - val_loss: 0.5151 - val_accuracy: 0.7860\n",
            "Epoch 39/500\n",
            "21/21 [==============================] - 1s 56ms/step - loss: 0.2776 - accuracy: 0.9198 - val_loss: 0.5159 - val_accuracy: 0.7860\n",
            "Epoch 40/500\n",
            "21/21 [==============================] - 1s 58ms/step - loss: 0.2750 - accuracy: 0.9182 - val_loss: 0.5168 - val_accuracy: 0.7860\n",
            "Epoch 41/500\n",
            "21/21 [==============================] - 1s 58ms/step - loss: 0.2727 - accuracy: 0.9190 - val_loss: 0.5178 - val_accuracy: 0.7860\n",
            "Epoch 42/500\n",
            "21/21 [==============================] - 1s 58ms/step - loss: 0.2699 - accuracy: 0.9182 - val_loss: 0.5188 - val_accuracy: 0.7860\n"
          ]
        }
      ]
    },
    {
      "cell_type": "code",
      "source": [
        "tva_model_att.evaluate(test_tva_binary_ds)"
      ],
      "metadata": {
        "colab": {
          "base_uri": "https://localhost:8080/"
        },
        "id": "pK0lSSmQ3y4_",
        "outputId": "e30f71b2-7f90-4a95-84ed-b09568f7ee8f"
      },
      "execution_count": 96,
      "outputs": [
        {
          "output_type": "stream",
          "name": "stdout",
          "text": [
            "11/11 [==============================] - 1s 44ms/step - loss: 0.5772 - accuracy: 0.7551\n"
          ]
        },
        {
          "output_type": "execute_result",
          "data": {
            "text/plain": [
              "[0.5771806240081787, 0.7551020383834839]"
            ]
          },
          "metadata": {},
          "execution_count": 96
        }
      ]
    },
    {
      "cell_type": "code",
      "source": [
        "tva_input_raw = (data_valid['text'], data_valid['vision'], data_valid['audio'])\n",
        "valid_data_df['tva_model_att'] = tva_model_att.predict(tva_input_raw)[:,1] >= 0.5\n",
        "valid_data_df"
      ],
      "metadata": {
        "colab": {
          "base_uri": "https://localhost:8080/",
          "height": 424
        },
        "id": "s3D3zN3vDdPN",
        "outputId": "58546dcd-0105-4c65-97b1-d5a0a1ed76f2"
      },
      "execution_count": 97,
      "outputs": [
        {
          "output_type": "execute_result",
          "data": {
            "text/plain": [
              "                f_name          s_time          e_time  true_labels  t_model  \\\n",
              "0    b'WKA5OygbEKI_20'  b'131.7929705'  b'133.6886621'         True     True   \n",
              "1    b'WKA5OygbEKI_21'  b'133.6886621'   b'138.976644'         True    False   \n",
              "2    b'WKA5OygbEKI_22'   b'170.544898'   b'172.729932'         True     True   \n",
              "3     b'WKA5OygbEKI_1'  b'4.432426304'  b'8.852380952'         True     True   \n",
              "4     b'WKA5OygbEKI_3'  b'45.95804989'  b'49.69954649'         True     True   \n",
              "..                 ...             ...             ...          ...      ...   \n",
              "224   b'c5xsKMxpXnc_4'  b'133.2097506'  b'135.8836735'         True     True   \n",
              "225   b'c5xsKMxpXnc_7'  b'149.3829932'  b'152.4360544'        False    False   \n",
              "226   b'c5xsKMxpXnc_6'  b'146.7290249'  b'149.3829932'        False    False   \n",
              "227   b'c5xsKMxpXnc_9'  b'156.6764172'  b'159.0609977'        False    False   \n",
              "228   b'c5xsKMxpXnc_8'  b'154.1122449'  b'156.6764172'        False    False   \n",
              "\n",
              "     v_model1  a_model1  tva_model_conv  tva_model_att  \n",
              "0        True      True            True           True  \n",
              "1        True      True           False          False  \n",
              "2        True      True            True           True  \n",
              "3        True      True            True           True  \n",
              "4        True      True            True           True  \n",
              "..        ...       ...             ...            ...  \n",
              "224      True     False            True           True  \n",
              "225      True     False           False          False  \n",
              "226      True      True           False          False  \n",
              "227      True      True           False          False  \n",
              "228      True      True           False          False  \n",
              "\n",
              "[229 rows x 9 columns]"
            ],
            "text/html": [
              "\n",
              "  <div id=\"df-2c315cb3-51d1-4ad8-b8d8-6ce303aab193\">\n",
              "    <div class=\"colab-df-container\">\n",
              "      <div>\n",
              "<style scoped>\n",
              "    .dataframe tbody tr th:only-of-type {\n",
              "        vertical-align: middle;\n",
              "    }\n",
              "\n",
              "    .dataframe tbody tr th {\n",
              "        vertical-align: top;\n",
              "    }\n",
              "\n",
              "    .dataframe thead th {\n",
              "        text-align: right;\n",
              "    }\n",
              "</style>\n",
              "<table border=\"1\" class=\"dataframe\">\n",
              "  <thead>\n",
              "    <tr style=\"text-align: right;\">\n",
              "      <th></th>\n",
              "      <th>f_name</th>\n",
              "      <th>s_time</th>\n",
              "      <th>e_time</th>\n",
              "      <th>true_labels</th>\n",
              "      <th>t_model</th>\n",
              "      <th>v_model1</th>\n",
              "      <th>a_model1</th>\n",
              "      <th>tva_model_conv</th>\n",
              "      <th>tva_model_att</th>\n",
              "    </tr>\n",
              "  </thead>\n",
              "  <tbody>\n",
              "    <tr>\n",
              "      <th>0</th>\n",
              "      <td>b'WKA5OygbEKI_20'</td>\n",
              "      <td>b'131.7929705'</td>\n",
              "      <td>b'133.6886621'</td>\n",
              "      <td>True</td>\n",
              "      <td>True</td>\n",
              "      <td>True</td>\n",
              "      <td>True</td>\n",
              "      <td>True</td>\n",
              "      <td>True</td>\n",
              "    </tr>\n",
              "    <tr>\n",
              "      <th>1</th>\n",
              "      <td>b'WKA5OygbEKI_21'</td>\n",
              "      <td>b'133.6886621'</td>\n",
              "      <td>b'138.976644'</td>\n",
              "      <td>True</td>\n",
              "      <td>False</td>\n",
              "      <td>True</td>\n",
              "      <td>True</td>\n",
              "      <td>False</td>\n",
              "      <td>False</td>\n",
              "    </tr>\n",
              "    <tr>\n",
              "      <th>2</th>\n",
              "      <td>b'WKA5OygbEKI_22'</td>\n",
              "      <td>b'170.544898'</td>\n",
              "      <td>b'172.729932'</td>\n",
              "      <td>True</td>\n",
              "      <td>True</td>\n",
              "      <td>True</td>\n",
              "      <td>True</td>\n",
              "      <td>True</td>\n",
              "      <td>True</td>\n",
              "    </tr>\n",
              "    <tr>\n",
              "      <th>3</th>\n",
              "      <td>b'WKA5OygbEKI_1'</td>\n",
              "      <td>b'4.432426304'</td>\n",
              "      <td>b'8.852380952'</td>\n",
              "      <td>True</td>\n",
              "      <td>True</td>\n",
              "      <td>True</td>\n",
              "      <td>True</td>\n",
              "      <td>True</td>\n",
              "      <td>True</td>\n",
              "    </tr>\n",
              "    <tr>\n",
              "      <th>4</th>\n",
              "      <td>b'WKA5OygbEKI_3'</td>\n",
              "      <td>b'45.95804989'</td>\n",
              "      <td>b'49.69954649'</td>\n",
              "      <td>True</td>\n",
              "      <td>True</td>\n",
              "      <td>True</td>\n",
              "      <td>True</td>\n",
              "      <td>True</td>\n",
              "      <td>True</td>\n",
              "    </tr>\n",
              "    <tr>\n",
              "      <th>...</th>\n",
              "      <td>...</td>\n",
              "      <td>...</td>\n",
              "      <td>...</td>\n",
              "      <td>...</td>\n",
              "      <td>...</td>\n",
              "      <td>...</td>\n",
              "      <td>...</td>\n",
              "      <td>...</td>\n",
              "      <td>...</td>\n",
              "    </tr>\n",
              "    <tr>\n",
              "      <th>224</th>\n",
              "      <td>b'c5xsKMxpXnc_4'</td>\n",
              "      <td>b'133.2097506'</td>\n",
              "      <td>b'135.8836735'</td>\n",
              "      <td>True</td>\n",
              "      <td>True</td>\n",
              "      <td>True</td>\n",
              "      <td>False</td>\n",
              "      <td>True</td>\n",
              "      <td>True</td>\n",
              "    </tr>\n",
              "    <tr>\n",
              "      <th>225</th>\n",
              "      <td>b'c5xsKMxpXnc_7'</td>\n",
              "      <td>b'149.3829932'</td>\n",
              "      <td>b'152.4360544'</td>\n",
              "      <td>False</td>\n",
              "      <td>False</td>\n",
              "      <td>True</td>\n",
              "      <td>False</td>\n",
              "      <td>False</td>\n",
              "      <td>False</td>\n",
              "    </tr>\n",
              "    <tr>\n",
              "      <th>226</th>\n",
              "      <td>b'c5xsKMxpXnc_6'</td>\n",
              "      <td>b'146.7290249'</td>\n",
              "      <td>b'149.3829932'</td>\n",
              "      <td>False</td>\n",
              "      <td>False</td>\n",
              "      <td>True</td>\n",
              "      <td>True</td>\n",
              "      <td>False</td>\n",
              "      <td>False</td>\n",
              "    </tr>\n",
              "    <tr>\n",
              "      <th>227</th>\n",
              "      <td>b'c5xsKMxpXnc_9'</td>\n",
              "      <td>b'156.6764172'</td>\n",
              "      <td>b'159.0609977'</td>\n",
              "      <td>False</td>\n",
              "      <td>False</td>\n",
              "      <td>True</td>\n",
              "      <td>True</td>\n",
              "      <td>False</td>\n",
              "      <td>False</td>\n",
              "    </tr>\n",
              "    <tr>\n",
              "      <th>228</th>\n",
              "      <td>b'c5xsKMxpXnc_8'</td>\n",
              "      <td>b'154.1122449'</td>\n",
              "      <td>b'156.6764172'</td>\n",
              "      <td>False</td>\n",
              "      <td>False</td>\n",
              "      <td>True</td>\n",
              "      <td>True</td>\n",
              "      <td>False</td>\n",
              "      <td>False</td>\n",
              "    </tr>\n",
              "  </tbody>\n",
              "</table>\n",
              "<p>229 rows × 9 columns</p>\n",
              "</div>\n",
              "      <button class=\"colab-df-convert\" onclick=\"convertToInteractive('df-2c315cb3-51d1-4ad8-b8d8-6ce303aab193')\"\n",
              "              title=\"Convert this dataframe to an interactive table.\"\n",
              "              style=\"display:none;\">\n",
              "        \n",
              "  <svg xmlns=\"http://www.w3.org/2000/svg\" height=\"24px\"viewBox=\"0 0 24 24\"\n",
              "       width=\"24px\">\n",
              "    <path d=\"M0 0h24v24H0V0z\" fill=\"none\"/>\n",
              "    <path d=\"M18.56 5.44l.94 2.06.94-2.06 2.06-.94-2.06-.94-.94-2.06-.94 2.06-2.06.94zm-11 1L8.5 8.5l.94-2.06 2.06-.94-2.06-.94L8.5 2.5l-.94 2.06-2.06.94zm10 10l.94 2.06.94-2.06 2.06-.94-2.06-.94-.94-2.06-.94 2.06-2.06.94z\"/><path d=\"M17.41 7.96l-1.37-1.37c-.4-.4-.92-.59-1.43-.59-.52 0-1.04.2-1.43.59L10.3 9.45l-7.72 7.72c-.78.78-.78 2.05 0 2.83L4 21.41c.39.39.9.59 1.41.59.51 0 1.02-.2 1.41-.59l7.78-7.78 2.81-2.81c.8-.78.8-2.07 0-2.86zM5.41 20L4 18.59l7.72-7.72 1.47 1.35L5.41 20z\"/>\n",
              "  </svg>\n",
              "      </button>\n",
              "      \n",
              "  <style>\n",
              "    .colab-df-container {\n",
              "      display:flex;\n",
              "      flex-wrap:wrap;\n",
              "      gap: 12px;\n",
              "    }\n",
              "\n",
              "    .colab-df-convert {\n",
              "      background-color: #E8F0FE;\n",
              "      border: none;\n",
              "      border-radius: 50%;\n",
              "      cursor: pointer;\n",
              "      display: none;\n",
              "      fill: #1967D2;\n",
              "      height: 32px;\n",
              "      padding: 0 0 0 0;\n",
              "      width: 32px;\n",
              "    }\n",
              "\n",
              "    .colab-df-convert:hover {\n",
              "      background-color: #E2EBFA;\n",
              "      box-shadow: 0px 1px 2px rgba(60, 64, 67, 0.3), 0px 1px 3px 1px rgba(60, 64, 67, 0.15);\n",
              "      fill: #174EA6;\n",
              "    }\n",
              "\n",
              "    [theme=dark] .colab-df-convert {\n",
              "      background-color: #3B4455;\n",
              "      fill: #D2E3FC;\n",
              "    }\n",
              "\n",
              "    [theme=dark] .colab-df-convert:hover {\n",
              "      background-color: #434B5C;\n",
              "      box-shadow: 0px 1px 3px 1px rgba(0, 0, 0, 0.15);\n",
              "      filter: drop-shadow(0px 1px 2px rgba(0, 0, 0, 0.3));\n",
              "      fill: #FFFFFF;\n",
              "    }\n",
              "  </style>\n",
              "\n",
              "      <script>\n",
              "        const buttonEl =\n",
              "          document.querySelector('#df-2c315cb3-51d1-4ad8-b8d8-6ce303aab193 button.colab-df-convert');\n",
              "        buttonEl.style.display =\n",
              "          google.colab.kernel.accessAllowed ? 'block' : 'none';\n",
              "\n",
              "        async function convertToInteractive(key) {\n",
              "          const element = document.querySelector('#df-2c315cb3-51d1-4ad8-b8d8-6ce303aab193');\n",
              "          const dataTable =\n",
              "            await google.colab.kernel.invokeFunction('convertToInteractive',\n",
              "                                                     [key], {});\n",
              "          if (!dataTable) return;\n",
              "\n",
              "          const docLinkHtml = 'Like what you see? Visit the ' +\n",
              "            '<a target=\"_blank\" href=https://colab.research.google.com/notebooks/data_table.ipynb>data table notebook</a>'\n",
              "            + ' to learn more about interactive tables.';\n",
              "          element.innerHTML = '';\n",
              "          dataTable['output_type'] = 'display_data';\n",
              "          await google.colab.output.renderOutput(dataTable, element);\n",
              "          const docLink = document.createElement('div');\n",
              "          docLink.innerHTML = docLinkHtml;\n",
              "          element.appendChild(docLink);\n",
              "        }\n",
              "      </script>\n",
              "    </div>\n",
              "  </div>\n",
              "  "
            ]
          },
          "metadata": {},
          "execution_count": 97
        }
      ]
    },
    {
      "cell_type": "code",
      "source": [
        "valid_data_df.to_excel('output_comparison.xls')"
      ],
      "metadata": {
        "id": "rDTYzqXsDyfm"
      },
      "execution_count": 98,
      "outputs": []
    },
    {
      "cell_type": "code",
      "source": [
        "from google.colab import files\n",
        "files.download('output_comparison.xls')"
      ],
      "metadata": {
        "colab": {
          "base_uri": "https://localhost:8080/",
          "height": 17
        },
        "id": "f3Vb5lHMD-xD",
        "outputId": "961e5ccd-6b16-4fe9-d2c9-d1c61d9e019a"
      },
      "execution_count": 99,
      "outputs": [
        {
          "output_type": "display_data",
          "data": {
            "text/plain": [
              "<IPython.core.display.Javascript object>"
            ],
            "application/javascript": [
              "\n",
              "    async function download(id, filename, size) {\n",
              "      if (!google.colab.kernel.accessAllowed) {\n",
              "        return;\n",
              "      }\n",
              "      const div = document.createElement('div');\n",
              "      const label = document.createElement('label');\n",
              "      label.textContent = `Downloading \"${filename}\": `;\n",
              "      div.appendChild(label);\n",
              "      const progress = document.createElement('progress');\n",
              "      progress.max = size;\n",
              "      div.appendChild(progress);\n",
              "      document.body.appendChild(div);\n",
              "\n",
              "      const buffers = [];\n",
              "      let downloaded = 0;\n",
              "\n",
              "      const channel = await google.colab.kernel.comms.open(id);\n",
              "      // Send a message to notify the kernel that we're ready.\n",
              "      channel.send({})\n",
              "\n",
              "      for await (const message of channel.messages) {\n",
              "        // Send a message to notify the kernel that we're ready.\n",
              "        channel.send({})\n",
              "        if (message.buffers) {\n",
              "          for (const buffer of message.buffers) {\n",
              "            buffers.push(buffer);\n",
              "            downloaded += buffer.byteLength;\n",
              "            progress.value = downloaded;\n",
              "          }\n",
              "        }\n",
              "      }\n",
              "      const blob = new Blob(buffers, {type: 'application/binary'});\n",
              "      const a = document.createElement('a');\n",
              "      a.href = window.URL.createObjectURL(blob);\n",
              "      a.download = filename;\n",
              "      div.appendChild(a);\n",
              "      a.click();\n",
              "      div.remove();\n",
              "    }\n",
              "  "
            ]
          },
          "metadata": {}
        },
        {
          "output_type": "display_data",
          "data": {
            "text/plain": [
              "<IPython.core.display.Javascript object>"
            ],
            "application/javascript": [
              "download(\"download_200f3fb8-1302-4653-ac6e-003d148929d4\", \"output_comparison.xls\", 46592)"
            ]
          },
          "metadata": {}
        }
      ]
    },
    {
      "cell_type": "markdown",
      "source": [],
      "metadata": {
        "id": "rFLhMmIx9PJc"
      }
    },
    {
      "cell_type": "code",
      "source": [
        "#### finidng the Threshold value\n",
        "def optimal_threshold(model, ds, threshold=[x/10 for x in range(1, 10)]):\n",
        "  y_pred = []\n",
        "  y_true = []\n",
        "  print(model.name)\n",
        "  for data in ds:\n",
        "    y_pred.append(model.predict(data[0]))\n",
        "    y_true.append(data[1])\n",
        "\n",
        "  y_pred_all = np.concatenate(y_pred)\n",
        "  y_true_all = np.concatenate(y_true)\n",
        "\n",
        "  for thres in threshold:\n",
        "    metric = tfa.metrics.F1Score(num_classes=2, threshold=thres)\n",
        "    metric.update_state(y_true_all, y_pred_all)\n",
        "    result = metric.result()\n",
        "    print(f'{thres}:{result.numpy()}')\n",
        "\n",
        "\n",
        "optimal_threshold(tva_model_att, test_tva_binary_ds)"
      ],
      "metadata": {
        "colab": {
          "base_uri": "https://localhost:8080/"
        },
        "id": "1HvyK7dk92xz",
        "outputId": "22a26332-5e04-46a8-bf61-1512fae99090"
      },
      "execution_count": 100,
      "outputs": [
        {
          "output_type": "stream",
          "name": "stdout",
          "text": [
            "Text_Vision_Audio_Model\n",
            "0.1:[0.7390396 0.6183283]\n",
            "0.2:[0.757327  0.6844014]\n",
            "0.3:[0.76637816 0.70572567]\n",
            "0.4:[0.7776333 0.7254335]\n",
            "0.5:[0.7704919  0.73749995]\n",
            "0.6:[0.7205882 0.7164179]\n",
            "0.7:[0.64412236 0.66429836]\n",
            "0.8:[0.52110094 0.60115606]\n",
            "0.9:[0.        0.3961353]\n"
          ]
        }
      ]
    },
    {
      "cell_type": "code",
      "source": [
        "optimal_threshold(tva_model_conv, test_tva_binary_ds)"
      ],
      "metadata": {
        "colab": {
          "base_uri": "https://localhost:8080/"
        },
        "id": "ompw9ebBKUaE",
        "outputId": "23156fcd-2fdb-41c1-a98b-841dec2f0da1"
      },
      "execution_count": 101,
      "outputs": [
        {
          "output_type": "stream",
          "name": "stdout",
          "text": [
            "Text_Vision_Audio_Model\n",
            "0.1:[0.7117371 0.6183283]\n",
            "0.2:[0.7860825 0.6183283]\n",
            "0.3:[0.78636956 0.73865414]\n",
            "0.4:[0.786755   0.74167985]\n",
            "0.5:[0.78457445 0.73870975]\n",
            "0.6:[0.780027 0.73906 ]\n",
            "0.7:[0.7721692  0.73234814]\n",
            "0.8:[0.         0.72147655]\n",
            "0.9:[0. 0.]\n"
          ]
        }
      ]
    },
    {
      "cell_type": "code",
      "source": [
        "y_true = []\n",
        "y_pred = []\n",
        "for data in test_tva_binary_ds:\n",
        "  y_pred.append(tva_model_att.predict(data[0]))\n",
        "  y_true.append(data[1])\n",
        "\n",
        "y_true_all = np.concatenate(y_true)\n",
        "y_pred_all = np.concatenate(y_pred)"
      ],
      "metadata": {
        "id": "5kyySWb5CkOF"
      },
      "execution_count": 102,
      "outputs": []
    },
    {
      "cell_type": "code",
      "source": [
        "y_pred_yes = y_pred_all[:,1] > 0.5\n",
        "y_true_yes = y_true_all[:,1]\n",
        "sum(y_true_yes == y_pred_yes) / len(y_true_yes)"
      ],
      "metadata": {
        "colab": {
          "base_uri": "https://localhost:8080/"
        },
        "id": "V_tfHoFvLGFG",
        "outputId": "d1f85b62-cea3-4498-9ef5-f8197d018900"
      },
      "execution_count": 103,
      "outputs": [
        {
          "output_type": "execute_result",
          "data": {
            "text/plain": [
              "0.7551020408163265"
            ]
          },
          "metadata": {},
          "execution_count": 103
        }
      ]
    }
  ]
}